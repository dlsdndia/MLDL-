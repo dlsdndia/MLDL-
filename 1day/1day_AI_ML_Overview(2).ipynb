{
 "cells": [
  {
   "cell_type": "markdown",
   "metadata": {},
   "source": [
    "# 인공지능( Artificial Intelligence, AI )\n",
    "\n",
    "- 인간의 학습능력, 추론능력, 지각능력, 자연언어 이해능력등을 컴퓨터 프로그램으로 실현한 기술\n",
    "- 지능을 갖고 있는 기능을 갖춘 컴퓨터 시스템이며, 인간의 지능을 기계 등에 인공적으로 구현한 것이다.   \n",
    "   \n",
    "\n",
    "* ko.wikipedia.org/wiki -> 접속하여 \"인공지능\" 검색"
   ]
  },
  {
   "cell_type": "markdown",
   "metadata": {},
   "source": [
    "# 머신러닝이란?\n",
    "\n",
    "1. 인공지능( Artificial Intelligence, AI )의 한 분야로, 컴퓨터가 학습할 수 있도록 하는 알고리즘과 기술을 개발하는 분야를 말한다.\n",
    "2. 데이터에서 법칙성( 패턴 )을 추출하는 통계적 방법의 하나이고, 학습하도록 컴퓨터를 프로그래밍하는 과학이다.\n",
    "3. 법칙을 추출하여 예측, 분류하는 다양한 모델( 알고리즘 )이 있다.\n",
    "4. 손글씨 문자 식별, 물체 식별, 문장 분류, 음성 인식, 주식 예측, 질병 진단등 다양한 분야에 걸쳐 응용할 수 있다.\n",
    "5. 이미지 인식 정확도가 높은 딥러닝( Deep Learning )도 머신러닝의 일부로, 뇌의 신경 세포를 모방한 신경망 모델을 기반으로 한다."
   ]
  },
  {
   "cell_type": "markdown",
   "metadata": {},
   "source": [
    "# 머신러닝 시스템의 종류\n",
    "\n",
    "1. 사람의 감독하에 훈련( 학습 )하는 것인지 그렇지 않것인지에 따라 - 지도학습, 비지도학습, 준지도학습, 강화학습\n",
    "\n",
    "\n",
    "2. 시간으로 점진적인 학습을 하는지 아니지에 따라 - 온라인 학습, 배치 학습\n",
    "\n",
    "\n",
    "3. 단순하게 알고 있는 데이터 포인트와 새 데이터 포인트를 비교하는 것인지 아니면 과학자들아 하는 것 처럼 훈련 데이터셋에서 패턴을 발견하여 예측 모델을 만드는지에 따라 - 사례 기반 학습, 모델 기반 학습"
   ]
  },
  {
   "cell_type": "markdown",
   "metadata": {},
   "source": [
    "## 머신러닝 시스템 종류 - 1번 유형\n",
    "\n",
    "1. 지도학습( Supervised Learning ) : 입력에 대한 적절한 출력을 구하는 문제\n",
    "    - 알고리즘에 주입하는 훈련 데이터에 레이블( Label )이라는 원하는 답이 포함된다.\n",
    "    - 분류( classification )가 전형적인 지도 학습 작업이다.\n",
    "    - 예측 변수( predictor variable )라는 특성( feature )을 사용해 타킷( target ) 수치를 예측하는 것, 즉 회귀( regression )라 하면 이 또한 지도 학습 작업이다.   \n",
    "    \n",
    "    \n",
    "2. 비지도학습( Unsupervised Learining ) : 입력 정보의 특징을 찾는 문제\n",
    "    - 훈련 데이터에 레이블이 없다. 시스템은 아무런 도움 없이 학습해야 한다.\n",
    "    - 군집( clustering ), 계층 군집( hierachical clustering ) : 알고리즘을 사용하여 그룹을 세분화\n",
    "    - 이상치 탐지( outlier detection )\n",
    "    - 특이치 탐지( novelty setection )\n",
    "    - 시각화( visualization ) : 레이블이 없는 대규모의 고차원 데이터를 넣으면 도식화가 가능한 2D/3D 표현 생성\n",
    "    - 차원 축소( dimensionality reduction ) : 비슷한 작업으로는 너무 많은 정보를 잃지 않으면서 데이터 간소화\n",
    "    - 연관 규칙 학습( association rule learning ) : 대량의 데이터에서 특성 간의 흥미로운 관계를 파악\n",
    "    \n",
    "    \n",
    "3. 준지도학습( semisupervised Learning ) : 일부만 레이블이 있는 데이터를 다루는 문제, 지도 학습과 비지도 학습의 조합으로 이루어져 있다.\n",
    "\n",
    "\n",
    "4. 강화학습( Reinforcement Learning ) : 마지막 결과( 전체적인 결과 )가 가장 좋은 행동을 찾는 문제"
   ]
  },
  {
   "cell_type": "markdown",
   "metadata": {},
   "source": [
    "## 머신러닝 시스템 종류 - 2번 유형\n",
    "\n",
    "1. 배치학습( batch learning )\n",
    "    - 시스템이 점진적으로 학습할 수 없다.\n",
    "    - 가용한 데이터를 모두 사용해 훈련시켜야 한다.\n",
    "    - 시간과 자원이 많이 소모되므로 보통 오프라인( offline )에서 수행된다.\n",
    "    - 먼저 시스템을 훈련시키고 훈련 결과를 제품 시스템에 적용하면 더 이상의 학습없이 실행된다. 즉, 학습한 것을 단지 적용만 한다. 오프라인 학습( offline learning )이라고 한다.\n",
    "    \n",
    "\n",
    "2. 온라인 학습( online learning )\n",
    "    - 데이터를 순차적으로 한 개씩 또는 미니배치( mini-batch )라 부르는 작은 묶음 단위로 주입하여 시스템을 학습시킨다.\n",
    "    - 매 학습 단계가 빠르고 비용이 적게 들어 시스템은 데이터가 도착하는 데로 즉시 학습할 수 있다.\n",
    "    - 연속적으로 데이터를 받고 빠른 변화에 스스로 적응해야 하는 시스템에 적합하다."
   ]
  },
  {
   "cell_type": "markdown",
   "metadata": {},
   "source": [
    "## 머신러닝 시스템 종류 - 3번 유형\n",
    "\n",
    "- 대부분의 머신러닝 작업은 예측을 만드는 것이다. 즉 주어진 훈련 데이터로 학습하고 훈련 데이터에서는 본 적 없는 새로운 데이터에서 좋은 예측을 만들어야( 일반화되어야 ) 한다는 뜻이다.\n",
    "\n",
    "\n",
    "1. 사례 기반 학습 : 시스템이 훈련 샘플을 기억함으로써 학습한다. 유사도 측정을 사용해 새로운 데이터와 학습한 샘플을( 또는 학습한 샘플 중 일부를 ) 비교하는 식으로 일반화 한다.\n",
    "\n",
    "\n",
    "2. 모델 기반 학습 : 샘플들의 모델을 만들어 예측( prediction )에 사용하는 것"
   ]
  },
  {
   "cell_type": "markdown",
   "metadata": {},
   "source": [
    "## 머신러닝 적용시 과제\n",
    "\n",
    "- 학습 알고리즘을 선택해서 어떤 데이터에 훈련시키는 것이므로 문제가 될 수 있는 두가지는 \"나쁜 알고리즘\"과 \"나쁜 데이터\"이다.\n",
    "\n",
    "\n",
    "1. 충분하지 않은 양의 훈련 데이터\n",
    "    - 머신러닝 알고리즘이 잘 작동하려면 데이터가 많아야 한다.\n",
    "    \n",
    "\n",
    "2. 대표성이 없는 훈련 데이터\n",
    "    - 일반화가 잘되려면 우리가 일반화하기 원하는 새로원 사례를 훈련 데이터가 잘 대표하는 것이 중요하다.\n",
    "    - 샘플이 작으면 샘플링 잡음( sampling noise )이 생기고, 매우 큰 샘플도 표본 추출 방법이 잘못되면 대표성을 띄지 못할 수 있으므로 샘플링 편향( sampling bias )이 생긴다.\n",
    "    \n",
    "    \n",
    "3. 낮은 품질의 데이터\n",
    "    - 훈련 데이터가 에러, 이상치( outlier ), 잡음으로 가득하다면 머신러닝 시스템이 내재된 패턴을 찾기 어려워 잘 작동하지 않는다.\n",
    "    \n",
    "\n",
    "4. 훈련 데이터 과대적합\n",
    "    - 과대적합( overfitting ) : 모델이 훈련 데이터에 너무 잘 맞지만 일반성이 떨어진다는 의미\n",
    "        - 모델을 단순하게 하고 과대적합의 위험을 감소기키지 위해 모델에 제약을 가하는 것을 규제( regularization )라 한다.\n",
    "        - 학습하는 동안 적용할 규제의 양은 하이퍼파라미터( hyperparameter )가 결정한다.\n",
    "        \n",
    "![alt text]( overfitting.png )\n",
    "\n",
    "5. 훈련 데이터 과소 적합\n",
    "    - 과소적합( underfitting ) : 모델이 너무 단순해서 데이터의 내재된 구조를 학습하지 못할 때 일어난다.\n",
    "        - 모델 파라미터가 더 많은 강력한 모델을 선택한다.\n",
    "        - 학습 알고리즘에 더 좋은 특성을 제공한다.( 특성공학 )\n",
    "        - 모델의 제약을 줄인다.( 규제 하이퍼파라미터를 감소시킨다. )\n",
    "        \n",
    "6. 관련없는 특성\n",
    "    - 엉터리가 들어가면 엉터리가 나온다.( garbage in, gabage out )\n",
    "    - 훈련 데이터에 관련없는 특성이 적고 관련 있는 특성이 충분해야 시스템이 학습을 잘 할 수 있다.\n",
    "    - 특성 공학 ( feature engineering ) : 좋은 특성을 찾는 것\n",
    "        - 특성 선택( feature selection ) : 가지고 있는 특성 중에서 훈련에 가장 유용한 특성을 선택한다.\n",
    "        - 특성 추출( feature extraction ) : 특성을 결합하여 더 유용한 특성을 만든다.( 차원 축소 알고리즘이 도움 될 수 있다. )\n",
    "        - 새로운 데이터를 수집해서 새로운 특성을 만든다.\n",
    "        \n",
    "* 샘플( sample )과 특성( feature )\n",
    "    - 많은 머신러닝 문제가 1개 이상의 독립 변수 x를 가지고 종속변수 y를 예측하는 문제이다.\n",
    "    - 특히 ANN( Artificial Neural Network, 인공 신경망 ) 모델은 독립 변수, 종속 변수, 가중치, 편향 등을 행렬 연산을 통해 연산하는 경우가 많다.\n",
    "    - 머신러닝에서는 하나의 데이터, 하나의 행을 샘플( sample )이라 하고, 종속 변수 y를 예측하기 위한 각각의 독립 변수 x를 특성( feature )이라하고, y는 정답( label )이라 한다.\n",
    "    \n",
    "![alt text]( n_x_m.png )"
   ]
  },
  {
   "cell_type": "markdown",
   "metadata": {},
   "source": [
    "## 테스트와 검증\n",
    "\n",
    "- 모델이 새로운 샘플에 얼마나 잘 일반화될 지 아는 유일한 방법은 새로운 샘플에 실제로 적용해 보는 것이다.\n",
    "- 훈련 데이터를 훈련 세트와 테스트 세트 두 개로 나누는 것이다.\n",
    "- 훈련 세트는 모델을 훈련하고, 테스트 세트를 사용해 모델을 테스트한다.\n",
    "- 새로운 샘플에 대한 오류 비율을 일반화 오차( generalization error, 외부 샘플 오차 out-of-sample error )라 하고, 테스트 세트에서 모델을 평가함으로써 이 오차에 대한 추정값( estimation )을 얻는데, 이전에 본 적이 없는 새로운 샘플에 모델이 얼마나 작 작동할지 알려준다.\n",
    "- 훈련 오차가 낮지만 일반화 오차가 높다면 이는 모델이 훈련 데이터에 과대적합 되었다는 뜻이다.\n",
    "\n",
    "\n",
    "### 하이퍼파라미터 튜닝과 모델 선택\n",
    "\n",
    "- 모델 평가는 두 모델( 선형 모델과 다항 선형 모델 ) 모두 훈련 세트로 훈련하고, 테스트 세트를 사용해 얼마나 잘 일반화되는지 비교해보면 된다.\n",
    "- 홀드아웃 검증( holdout validation ) : \n",
    "    - 훈련 세트이 일부를 떼어내어 여러 후보 모델을 평가하고 가장 좋은 하나를 선택한다. \n",
    "    - 새로운 홀드아웃 세트를 검증 세트( validatin set )라 한다.\n",
    "    - 줄어든 훈련 세트에서 다양한 하이퍼파라미터 값을 가진 여러 모델을 훈련한다. \n",
    "    - 그 다음 검증 세트에서 가장 높은 성능을 내는 모델을 선택한다.\n",
    "- 교차 검증( cross-validation ) : 작은 검증 세트를 여러 개 사용해 반복적인 검증 수행\n",
    "\n",
    "### 데이터 불일치\n",
    "\n",
    "- 쉽게 많은 양의 훈련 데이터를 얻을수 있지만 이 데이터가 실제 제품에 사용될 데이터를 완벽하게 대표하지 못할 수 있다.\n",
    "- 중요한 규칙은 검증 세트와 테스트 세트가 실전에서 기대하는 데이터를 가능한 한 잘 대표해야 한다는 것이다.\n",
    "\n",
    "### 혼동 행렬( confusion matrix )\n",
    "\n",
    "- 머신 러닝에서 맞춘 문제수를 전체 문제수로 나눈 값을 정확도( accuracy )라 한다.\n",
    "- 정확도는 맞춘 결과와 틀린 결과에 대한 세부적인 내용을 알려주지는 않는다. 이르 위해서 사용하는 것이 혼동 행렬( confusion matrix )이다.\n",
    "\n",
    "\n",
    "- 예로 양성( positive )과 음성( negative )를 구분하는 이진 분류가 있다고 했을 때 혼동 행렬은 다음과 같다. 각 열은 예측값을 나타내며, 각 행은 실제값을 나타낸다.\n",
    "\n",
    "|-|참|거짓|\n",
    "|:---:|:---:|:---:|\n",
    "|참|TP|FN|\n",
    "|거짓|FP|TN|\n",
    "\n",
    "- 위의 표에서 TP( True Positive ), TN( True Negative ), FP( False Positive ), FN( False Negative )라고 하는데 True는 정답을 맞춘 경우이고 False는 정답을 맞추지 못한 경우이다.\n",
    "- 그리고 Positive와 Negative는 각각 제시했던 정답이다. 즉 TP는 양성( positive )이라고 대답하였고 실제로 양성이라서 정답을 맞춘 경우이고, TN은 음성( negative )이라고 대답하였는데 실제로 음성이라서 정답을 맞춘 경우이다.\n",
    "\n",
    "\n",
    "- 그렇다면 FP는 양성이라고 대답하였는데, 음성이라서 정답을 틀린 경우이며, FN은 음성이라고 대답하였는데 양성이라서 정답을 틀린 경우가 된다.\n",
    "- 이와 같은 개념을 활용하면 정밀도( Precision )과 재현률( Recall )이 된다. "
   ]
  },
  {
   "cell_type": "markdown",
   "metadata": {},
   "source": [
    "1) 정밀도( Precision )\n",
    "    - 정밀도는 양성이라고 대답한 전체 케이스에 대한 TP의 비율을 의미한다.\n",
    "    - 즉, 정밀도를 수식으로 표현하면\n",
    "    \n",
    "\\begin{equation*} \n",
    "    정밀도 = \\frac {TP}{TP + FP}\n",
    "\\end{equation*}\n",
    "\n",
    "\n",
    "2) 재현률( Recall ) \n",
    "    - 재현률은 실제값이 양성인 데이터의 전체 개수에 대해서 TP의 비율을 의미한다.\n",
    "    - 즉, 양성인 데이터 중에서 얼마나 양성인지를 예측( 재현 )했는지를 나타낸다.\n",
    "    \n",
    "\\begin{equation*} \n",
    "    재현률 = \\frac {TP}{TP + FN}\n",
    "\\end{equation*}\n",
    "\n",
    "\n",
    "* TEX : https://en.wikipedia.org/wiki/Help:Displaying_a_formula#Formatting_using_TeX"
   ]
  },
  {
   "cell_type": "markdown",
   "metadata": {},
   "source": [
    "https://teachablemachine.withgoogle.com/"
   ]
  },
  {
   "cell_type": "code",
   "execution_count": null,
   "metadata": {},
   "outputs": [],
   "source": []
  },
  {
   "cell_type": "code",
   "execution_count": null,
   "metadata": {},
   "outputs": [],
   "source": []
  },
  {
   "cell_type": "code",
   "execution_count": null,
   "metadata": {},
   "outputs": [],
   "source": []
  },
  {
   "cell_type": "code",
   "execution_count": null,
   "metadata": {},
   "outputs": [],
   "source": []
  },
  {
   "cell_type": "code",
   "execution_count": null,
   "metadata": {},
   "outputs": [],
   "source": []
  },
  {
   "cell_type": "code",
   "execution_count": null,
   "metadata": {},
   "outputs": [],
   "source": []
  },
  {
   "cell_type": "code",
   "execution_count": null,
   "metadata": {},
   "outputs": [],
   "source": []
  },
  {
   "cell_type": "code",
   "execution_count": null,
   "metadata": {},
   "outputs": [],
   "source": []
  },
  {
   "cell_type": "code",
   "execution_count": null,
   "metadata": {},
   "outputs": [],
   "source": []
  },
  {
   "cell_type": "code",
   "execution_count": null,
   "metadata": {},
   "outputs": [],
   "source": []
  },
  {
   "cell_type": "code",
   "execution_count": null,
   "metadata": {},
   "outputs": [],
   "source": []
  }
 ],
 "metadata": {
  "kernelspec": {
   "display_name": "Python 3",
   "language": "python",
   "name": "python3"
  },
  "language_info": {
   "codemirror_mode": {
    "name": "ipython",
    "version": 3
   },
   "file_extension": ".py",
   "mimetype": "text/x-python",
   "name": "python",
   "nbconvert_exporter": "python",
   "pygments_lexer": "ipython3",
   "version": "3.7.7"
  }
 },
 "nbformat": 4,
 "nbformat_minor": 4
}
