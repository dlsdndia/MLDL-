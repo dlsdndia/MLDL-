{
 "cells": [
  {
   "cell_type": "code",
   "execution_count": 1,
   "metadata": {},
   "outputs": [],
   "source": [
    "import re# 정규 표현식( regular expression)"
   ]
  },
  {
   "cell_type": "code",
   "execution_count": 3,
   "metadata": {},
   "outputs": [],
   "source": [
    "from konlpy.tag import Okt"
   ]
  },
  {
   "cell_type": "code",
   "execution_count": 11,
   "metadata": {},
   "outputs": [],
   "source": [
    "news = '지난 주말 LG 트윈스 로베르토 라모스는 또다시 부상으로 결장했다. 19일 잠실서 열린 한화 이글스와의 홈게임. 경기 전 류중일 감독은 \"라모스가 엉덩이 부상으로 빠진다. 오늘과 내일 이틀 정도 쉬면 괜찮지 않을까, 좀더 지켜볼 예정\"이라고 밝혔다. 엉덩이 부상은 올해 처음이다. 지난 6월 12~17일, 허리 부상으로 결장한데 이어 한 달 만에 다시 부상을 호소한 것이다.'"
   ]
  },
  {
   "cell_type": "code",
   "execution_count": null,
   "metadata": {},
   "outputs": [],
   "source": [
    "f"
   ]
  }
 ],
 "metadata": {
  "kernelspec": {
   "display_name": "Python 3",
   "language": "python",
   "name": "python3"
  },
  "language_info": {
   "codemirror_mode": {
    "name": "ipython",
    "version": 3
   },
   "file_extension": ".py",
   "mimetype": "text/x-python",
   "name": "python",
   "nbconvert_exporter": "python",
   "pygments_lexer": "ipython3",
   "version": "3.7.7"
  }
 },
 "nbformat": 4,
 "nbformat_minor": 4
}
