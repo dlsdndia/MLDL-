{
 "cells": [
  {
   "cell_type": "markdown",
   "metadata": {},
   "source": [
    "# 1.데이터 분리( splitting Data )\n",
    "   - 머신러닝( 딥러닝 ) 모델에 데이터를 학습시키기 위해서는 데이터를 적절히 분리하는 작업이 필요"
   ]
  },
  {
   "cell_type": "markdown",
   "metadata": {},
   "source": [
    "## 1. 지도학습( supervised Learning )\n",
    "\n",
    "- 지도학습의 훈련 데이터는 정답이 무엇인지 맞춰야 하는 '문제'에 해당되는 데이터와 레이블(lable)이라고 부르는 '정답'이 적혀있는 데이터로 구성되어 있다.\n",
    "- 예로 스팸 메일 분류기를 만들기 위한 데이터에 대한 메일 내용과 해당 메일이 정상 메일인지, 스팸 메일인지 적혀있는 레이블로 구성되어져 있다고 가정하고, 데이터는 20000개가 있다.\n",
    "\n",
    "|텍스트(메일내용)|레이블(스팸 여부)|\n",
    "|:---:|:---:|\n",
    "|당신에게 드리는 마지막 혜택!...|스팸 메일|\n",
    "|내일 뵐 수 있을지 확인 부탁..|정상 메일|\n",
    "|...|...|\n",
    "|(광고)멋있어질 수 있는...|스팸 메일|"
   ]
  },
  {
   "cell_type": "markdown",
   "metadata": {},
   "source": [
    "- 기계를 통한 학습을 하기 위해서는 총 4개의 데이터셋으로 나눈다.\n",
    "- 우선 메일 내용이 담긴 첫 번째 열을 x에 저장한다.\n",
    "- 그리고 메일이 스팸인지 정상인지 정답이 적혀있는 두 번째 열을 y에 저장한다.\n",
    "- 이제 20000개의 x와 20000개의 y로 나누어졌다.\n",
    "\n",
    "\n",
    "- x와 y에 대해서 일부 데이터를 다시 분리한다.\n",
    "- 실제 학습에 사용할 데이터와 학습 후 생성된 모델에 대한 테스트를 위한 데이터로 분리한다.\n",
    "- 통상 학습용은 80%, 테스트용은 20% 비율로 나눈다.\n",
    "- 이번 예에서는 학습용으로 18000개, 테스트용으로 2000개를 나누었다 가정한다.\n",
    "- 이와 같은 데이터 분리시에도 x와 y의 맵핑 관계는 유지 하여야 한다.\n",
    "- 어떤 x(입력, 문제)에 대한 y(정답)인지 바로 찾을 수 있어야 한다.\n",
    "\n",
    "\n",
    "<훈련 데이터>   \n",
    "x_train : 학습용 데이터   \n",
    "y_train : 학습용 데이터에 대한 정답 데이터\n",
    "\n",
    "\n",
    "<테스트 데이터>   \n",
    "x_test : 테스트용 데이터   \n",
    "y_test : 테스트용 데이터에 대한 정답 데이터"
   ]
  },
  {
   "cell_type": "markdown",
   "metadata": {},
   "source": [
    "- x_train과  y_train에 대해서 학습을 수행한다.\n",
    "- 기계는 현 상태에서는 정답지인 y_train을 볼 수 있기 때문에 x_train을 보면서 메일 내용이 정상 메일인지 스팸 메일인지 확인하여 패턴(규칙)을 도출하는 과정을 수행하여 모델을 생성한다.\n",
    "- 학습이 모두 끝난 상태의 모델에 y_test는 보여주지 않고, x_test에 대해서 정답을 예측하게 한다.\n",
    "- 모델이 예측한 답과 실제 정답인 y_test를 비교하면서 모델이 정답을 얼마나 맞췄는지를 평가 하는데 이 수치가 모델의 정확도(accuracy)가 된다."
   ]
  },
  {
   "cell_type": "markdown",
   "metadata": {},
   "source": [
    "## 2. x와 y분리\n",
    "- zip()함수는 동일한 개수를 가지는 시퀀스 자료형에서 각 순서에 등장하는 원소들끼리 묶어주는 역할을 한다.\n",
    "- 리스트 구성에서 zip()함수는 x와 y를 분리하는데 유용하다.\n"
   ]
  },
  {
   "cell_type": "code",
   "execution_count": 28,
   "metadata": {},
   "outputs": [
    {
     "name": "stdout",
     "output_type": "stream",
     "text": [
      "('a', 'b', 'c')\n",
      "(1, 2, 3)\n"
     ]
    }
   ],
   "source": [
    "x, y = zip(['a', 1], ['b', 2], ['c', 3])\n",
    "print( x )\n",
    "print( y )"
   ]
  },
  {
   "cell_type": "code",
   "execution_count": 29,
   "metadata": {},
   "outputs": [
    {
     "name": "stdout",
     "output_type": "stream",
     "text": [
      "('a', 'b', 'c')\n",
      "(1, 2, 3)\n"
     ]
    }
   ],
   "source": [
    "sequence = [['a', 1], ['b', 2], ['c', 3]]\n",
    "x, y = zip( *sequence )\n",
    "print( x )\n",
    "print( y )"
   ]
  },
  {
   "cell_type": "markdown",
   "metadata": {},
   "source": [
    "### 2) 데이터프레임을 이용한 분리"
   ]
  },
  {
   "cell_type": "code",
   "execution_count": 30,
   "metadata": {},
   "outputs": [],
   "source": [
    "import pandas as pd"
   ]
  },
  {
   "cell_type": "code",
   "execution_count": 31,
   "metadata": {},
   "outputs": [],
   "source": [
    "values = [ [ '당신에게 드리는 마지막 혜택!...', 1 ],\n",
    "           [ '내일 뵐 수 있을지 확인 부탁..', 0 ], \n",
    "           [ '길동군, 잘 지내고 있나? 오랜만...', 0 ], \n",
    "           [ '(광고)AI로 주가를 예측할 수...', 1 ] ]\n",
    "columns = [ '메일 본문', '스팸 메일 유무']"
   ]
  },
  {
   "cell_type": "code",
   "execution_count": 32,
   "metadata": {},
   "outputs": [
    {
     "data": {
      "text/html": [
       "<div>\n",
       "<style scoped>\n",
       "    .dataframe tbody tr th:only-of-type {\n",
       "        vertical-align: middle;\n",
       "    }\n",
       "\n",
       "    .dataframe tbody tr th {\n",
       "        vertical-align: top;\n",
       "    }\n",
       "\n",
       "    .dataframe thead th {\n",
       "        text-align: right;\n",
       "    }\n",
       "</style>\n",
       "<table border=\"1\" class=\"dataframe\">\n",
       "  <thead>\n",
       "    <tr style=\"text-align: right;\">\n",
       "      <th></th>\n",
       "      <th>메일 본문</th>\n",
       "      <th>스팸 메일 유무</th>\n",
       "    </tr>\n",
       "  </thead>\n",
       "  <tbody>\n",
       "    <tr>\n",
       "      <th>0</th>\n",
       "      <td>당신에게 드리는 마지막 혜택!...</td>\n",
       "      <td>1</td>\n",
       "    </tr>\n",
       "    <tr>\n",
       "      <th>1</th>\n",
       "      <td>내일 뵐 수 있을지 확인 부탁..</td>\n",
       "      <td>0</td>\n",
       "    </tr>\n",
       "    <tr>\n",
       "      <th>2</th>\n",
       "      <td>길동군, 잘 지내고 있나? 오랜만...</td>\n",
       "      <td>0</td>\n",
       "    </tr>\n",
       "    <tr>\n",
       "      <th>3</th>\n",
       "      <td>(광고)AI로 주가를 예측할 수...</td>\n",
       "      <td>1</td>\n",
       "    </tr>\n",
       "  </tbody>\n",
       "</table>\n",
       "</div>"
      ],
      "text/plain": [
       "                   메일 본문  스팸 메일 유무\n",
       "0    당신에게 드리는 마지막 혜택!...         1\n",
       "1     내일 뵐 수 있을지 확인 부탁..         0\n",
       "2  길동군, 잘 지내고 있나? 오랜만...         0\n",
       "3   (광고)AI로 주가를 예측할 수...         1"
      ]
     },
     "execution_count": 32,
     "metadata": {},
     "output_type": "execute_result"
    }
   ],
   "source": [
    "df = pd.DataFrame( values, columns = columns )\n",
    "df"
   ]
  },
  {
   "cell_type": "code",
   "execution_count": 33,
   "metadata": {},
   "outputs": [],
   "source": [
    "x = df[ '메일 본문' ]\n",
    "y = df[ '스팸 메일 유무' ]"
   ]
  },
  {
   "cell_type": "code",
   "execution_count": 34,
   "metadata": {},
   "outputs": [
    {
     "name": "stdout",
     "output_type": "stream",
     "text": [
      "0      당신에게 드리는 마지막 혜택!...\n",
      "1       내일 뵐 수 있을지 확인 부탁..\n",
      "2    길동군, 잘 지내고 있나? 오랜만...\n",
      "3     (광고)AI로 주가를 예측할 수...\n",
      "Name: 메일 본문, dtype: object\n"
     ]
    }
   ],
   "source": [
    "print(x)"
   ]
  },
  {
   "cell_type": "code",
   "execution_count": 35,
   "metadata": {},
   "outputs": [
    {
     "name": "stdout",
     "output_type": "stream",
     "text": [
      "0    1\n",
      "1    0\n",
      "2    0\n",
      "3    1\n",
      "Name: 스팸 메일 유무, dtype: int64\n"
     ]
    }
   ],
   "source": [
    "print(y)"
   ]
  },
  {
   "cell_type": "markdown",
   "metadata": {},
   "source": [
    "### 3) Numpy를 이용한 분리"
   ]
  },
  {
   "cell_type": "code",
   "execution_count": 11,
   "metadata": {},
   "outputs": [],
   "source": [
    "import numpy as np"
   ]
  },
  {
   "cell_type": "code",
   "execution_count": 20,
   "metadata": {},
   "outputs": [
    {
     "name": "stdout",
     "output_type": "stream",
     "text": [
      "[[ 0  1  2  3]\n",
      " [ 4  5  6  7]\n",
      " [ 8  9 10 11]\n",
      " [12 13 14 15]]\n"
     ]
    }
   ],
   "source": [
    "ar = np.arange( 0, 16 ).reshape( ( 4, 4 ) )\n",
    "print( ar )"
   ]
  },
  {
   "cell_type": "code",
   "execution_count": 15,
   "metadata": {},
   "outputs": [
    {
     "name": "stdout",
     "output_type": "stream",
     "text": [
      "[[ 0  1  2]\n",
      " [ 4  5  6]\n",
      " [ 8  9 10]\n",
      " [12 13 14]]\n"
     ]
    }
   ],
   "source": [
    "x = ar[ :, :3 ]\n",
    "print(x)"
   ]
  },
  {
   "cell_type": "code",
   "execution_count": 17,
   "metadata": {},
   "outputs": [
    {
     "name": "stdout",
     "output_type": "stream",
     "text": [
      "[ 3  7 11 15]\n"
     ]
    }
   ],
   "source": [
    "y = ar[ :, 3 ]\n",
    "print(y)"
   ]
  },
  {
   "cell_type": "markdown",
   "metadata": {},
   "source": [
    "## 3. 테스트 데이터 분리\n",
    "   - x와 y가 분리된 데이터에 대해서 테스트 데이터를 분리하는 과정"
   ]
  },
  {
   "cell_type": "markdown",
   "metadata": {},
   "source": [
    "### 1) Scikit-Learn을 이용한 분리\n",
    "\n",
    "- 훈련(학습)데이터와 테스트 데이터를 유용하게 나눌 수 있는 하나의 방법\n",
    "- scikit-learn은 훈련(학습)데이터와 테스트용 데이터를 분리하게 해주는 train_test_split()함수를 지원"
   ]
  },
  {
   "cell_type": "code",
   "execution_count": 21,
   "metadata": {},
   "outputs": [],
   "source": [
    "from sklearn.model_selection import train_test_split"
   ]
  },
  {
   "cell_type": "code",
   "execution_count": 36,
   "metadata": {},
   "outputs": [],
   "source": [
    "x_train, x_test, y_train, y_test = train_test_split(x, y, test_size = 0.2, random_state = 1234 )"
   ]
  },
  {
   "cell_type": "markdown",
   "metadata": {},
   "source": [
    "x : 독립(설명)변수 데이터, 특성(feature), (배열이나 데이터프레임)   \n",
    "y : 종속(반응)변수 데이터, 레이블(lable)데이터   \n",
    "test_size : 테스트용 데이터의 개수를 지정한다. 1보다 작은 실수를 지정할 경우 비용을 나타낸다.   \n",
    "train_size : 훈련(학습)용 데이터의 개수를 지정한다. 1보다 작은 실수를 지정할 경우 비용을 나타낸다.   \n",
    "(test_size와 rain_size 중 하나만 기재해도 가능)   \n",
    "random_state : 난수 seed"
   ]
  },
  {
   "cell_type": "code",
   "execution_count": 37,
   "metadata": {},
   "outputs": [
    {
     "data": {
      "text/plain": [
       "1       내일 뵐 수 있을지 확인 부탁..\n",
       "2    길동군, 잘 지내고 있나? 오랜만...\n",
       "3     (광고)AI로 주가를 예측할 수...\n",
       "Name: 메일 본문, dtype: object"
      ]
     },
     "execution_count": 37,
     "metadata": {},
     "output_type": "execute_result"
    }
   ],
   "source": [
    "x_train"
   ]
  },
  {
   "cell_type": "code",
   "execution_count": 38,
   "metadata": {},
   "outputs": [
    {
     "data": {
      "text/plain": [
       "0    당신에게 드리는 마지막 혜택!...\n",
       "Name: 메일 본문, dtype: object"
      ]
     },
     "execution_count": 38,
     "metadata": {},
     "output_type": "execute_result"
    }
   ],
   "source": [
    "x_test"
   ]
  },
  {
   "cell_type": "code",
   "execution_count": 39,
   "metadata": {},
   "outputs": [
    {
     "data": {
      "text/plain": [
       "1    0\n",
       "2    0\n",
       "3    1\n",
       "Name: 스팸 메일 유무, dtype: int64"
      ]
     },
     "execution_count": 39,
     "metadata": {},
     "output_type": "execute_result"
    }
   ],
   "source": [
    "y_train"
   ]
  },
  {
   "cell_type": "code",
   "execution_count": 40,
   "metadata": {},
   "outputs": [
    {
     "data": {
      "text/plain": [
       "0    1\n",
       "Name: 스팸 메일 유무, dtype: int64"
      ]
     },
     "execution_count": 40,
     "metadata": {},
     "output_type": "execute_result"
    }
   ],
   "source": [
    "y_test"
   ]
  },
  {
   "cell_type": "code",
   "execution_count": 42,
   "metadata": {},
   "outputs": [
    {
     "name": "stdout",
     "output_type": "stream",
     "text": [
      "[[0 1]\n",
      " [2 3]\n",
      " [4 5]\n",
      " [6 7]\n",
      " [8 9]]\n",
      "[0, 1, 2, 3, 4]\n"
     ]
    }
   ],
   "source": [
    "x, y = np.arange(10).reshape( ( 5, 2 ) ), range( 5 )\n",
    "print( x )\n",
    "print( list( y ) )"
   ]
  },
  {
   "cell_type": "code",
   "execution_count": 43,
   "metadata": {},
   "outputs": [],
   "source": [
    "x_train, x_test, y_train, y_test = train_test_split(x, y, test_size = 0.33, random_state = 1234 )"
   ]
  },
  {
   "cell_type": "code",
   "execution_count": 44,
   "metadata": {},
   "outputs": [
    {
     "name": "stdout",
     "output_type": "stream",
     "text": [
      "[[2 3]\n",
      " [4 5]\n",
      " [6 7]]\n",
      "[[8 9]\n",
      " [0 1]]\n"
     ]
    }
   ],
   "source": [
    "print(x_train)\n",
    "print(x_test)"
   ]
  },
  {
   "cell_type": "code",
   "execution_count": 45,
   "metadata": {},
   "outputs": [
    {
     "name": "stdout",
     "output_type": "stream",
     "text": [
      "[1, 2, 3]\n",
      "[4, 0]\n"
     ]
    }
   ],
   "source": [
    "print(y_train)\n",
    "print(y_test)"
   ]
  },
  {
   "cell_type": "code",
   "execution_count": 46,
   "metadata": {},
   "outputs": [],
   "source": [
    "x_train, x_test, y_train, y_test = train_test_split(x, y, test_size = 0.33, random_state = 1234 )"
   ]
  },
  {
   "cell_type": "code",
   "execution_count": 47,
   "metadata": {},
   "outputs": [
    {
     "name": "stdout",
     "output_type": "stream",
     "text": [
      "[[2 3]\n",
      " [4 5]\n",
      " [6 7]]\n",
      "[[8 9]\n",
      " [0 1]]\n"
     ]
    }
   ],
   "source": [
    "print(x_train)\n",
    "print(x_test)"
   ]
  },
  {
   "cell_type": "code",
   "execution_count": 48,
   "metadata": {},
   "outputs": [
    {
     "name": "stdout",
     "output_type": "stream",
     "text": [
      "[1, 2, 3]\n",
      "[4, 0]\n"
     ]
    }
   ],
   "source": [
    "print(y_train)\n",
    "print(y_test)"
   ]
  },
  {
   "cell_type": "markdown",
   "metadata": {},
   "source": [
    "### 2) 수동으로 분리\n",
    "   - 데이터를 분리하는 방법중 하나인 수동으로 분리"
   ]
  },
  {
   "cell_type": "code",
   "execution_count": 49,
   "metadata": {},
   "outputs": [],
   "source": [
    "x, y = np.arange(0, 24).reshape( ( 12, 2 ) ), range( 12 )"
   ]
  },
  {
   "cell_type": "code",
   "execution_count": 50,
   "metadata": {},
   "outputs": [
    {
     "name": "stdout",
     "output_type": "stream",
     "text": [
      "[[ 0  1]\n",
      " [ 2  3]\n",
      " [ 4  5]\n",
      " [ 6  7]\n",
      " [ 8  9]\n",
      " [10 11]\n",
      " [12 13]\n",
      " [14 15]\n",
      " [16 17]\n",
      " [18 19]\n",
      " [20 21]\n",
      " [22 23]]\n",
      "range(0, 12)\n"
     ]
    }
   ],
   "source": [
    "print( x )\n",
    "print( y )"
   ]
  },
  {
   "cell_type": "code",
   "execution_count": 52,
   "metadata": {},
   "outputs": [
    {
     "name": "stdout",
     "output_type": "stream",
     "text": [
      "range(0, 12)\n"
     ]
    }
   ],
   "source": [
    "print( y )"
   ]
  },
  {
   "cell_type": "code",
   "execution_count": 54,
   "metadata": {},
   "outputs": [
    {
     "name": "stdout",
     "output_type": "stream",
     "text": [
      "[0, 1, 2, 3, 4, 5, 6, 7, 8, 9, 10, 11]\n"
     ]
    }
   ],
   "source": [
    "print( list( y ) )"
   ]
  },
  {
   "cell_type": "code",
   "execution_count": 55,
   "metadata": {},
   "outputs": [
    {
     "name": "stdout",
     "output_type": "stream",
     "text": [
      "9\n",
      "3\n"
     ]
    }
   ],
   "source": [
    "# 훈련 데이터 개수와 테스트 데이터 개수를 정한다.\n",
    "# n_of_train은 훈련 데이터 개수, n_of_test는 테스터 데이터 개수\n",
    "n_of_train = int( len( x ) * 0.8 )\n",
    "n_of_test = int( len( x ) - n_of_train )\n",
    "print( n_of_train )\n",
    "print( n_of_test )"
   ]
  },
  {
   "cell_type": "markdown",
   "metadata": {},
   "source": [
    "- 주의할 점은 아직 훈련 데이터와 테스트 데이터를 나눈것이 아니고, 갯수만 정한것이다.\n",
    "- n_of_train을 len(x)*0.8로 구했듯이 n_of_test 또한 len(x) * 0.2로 계산하면 될 것 같으나 이경우 데이터에 누락값이 발생할 가능성이 있다.\n",
    "- 따라서 어느 한 쪽을 계산하고 그 값만큼 제외하는 방식으로 계산해야 누락값이 발생하지 않는다."
   ]
  },
  {
   "cell_type": "code",
   "execution_count": 60,
   "metadata": {},
   "outputs": [],
   "source": [
    "# 실제로 데이터를 나눌 때도 n_of_train 같이 하나의 변수만 사용하면 데이터 누락을 방지할 수 있다.\n",
    "x_test = x[ n_of_train: ] # 전체 데이터중 20%만큼 뒤의 데이터 저장\n",
    "y_test = y[ n_of_train: ]\n",
    "\n",
    "x_train = x[ :n_of_train ] # 전체 데이터중 80%만큼 앞의 데이터 저장\n",
    "y_train = y[ :n_of_train ]"
   ]
  },
  {
   "cell_type": "code",
   "execution_count": 61,
   "metadata": {},
   "outputs": [
    {
     "name": "stdout",
     "output_type": "stream",
     "text": [
      "[[ 0  1]\n",
      " [ 2  3]\n",
      " [ 4  5]\n",
      " [ 6  7]\n",
      " [ 8  9]\n",
      " [10 11]\n",
      " [12 13]\n",
      " [14 15]\n",
      " [16 17]]\n",
      "range(0, 9)\n"
     ]
    }
   ],
   "source": [
    "print(x_train)\n",
    "print(y_train)"
   ]
  },
  {
   "cell_type": "code",
   "execution_count": 58,
   "metadata": {},
   "outputs": [
    {
     "name": "stdout",
     "output_type": "stream",
     "text": [
      "[[18 19]\n",
      " [20 21]\n",
      " [22 23]]\n",
      "range(9, 12)\n"
     ]
    }
   ],
   "source": [
    "print(x_test)\n",
    "print(y_test)"
   ]
  },
  {
   "cell_type": "markdown",
   "metadata": {},
   "source": [
    "# 2. 머신러닝 모델 평가\n",
    "![alt text]( data.png )\n",
    "   - 실제 모델을 평가하기 위해서 데이터를 훈령용, 검증용, 테스트용 이렇게 세가지로 분리하는 것이 일반적이다.\n",
    "   \n",
    "   \n",
    "   - 검증용 데이터는 모델의 성능을 평가하기 위한 용도가 아니라, 모델의 섣능을 조정하기 위한 용도이다. 과적합이 되고 있는지 판단하거나 하이퍼파라미터의 조정을 위한 용도이다\n",
    "   \n",
    "   \n",
    "   - 하이퍼파라미터(초매개변수)란 값에 따라서 모델의 성능에 영향을 주는 매개변수들을 말한다. 가중치와 편향과 같은 학습을 통해 바뀌어져가는 변수는 매개변수라 한다.\n",
    "   \n",
    "   \n",
    "   - 하이퍼파라미터는 보통 사용자가 직접 저해줄 수 있는 변수로 머신러닝에서는 경사하강법에서의 학습률(learning rate)이 해당되고, 딥러닝에서는 은닉층의 수, 뉴런의 수, 드롭아웃 비율 등이 이에 해당한다. 매개변수는 사용자가 결정해주는 값이 아니라 모델이 학습하는 과정에서 얻어지는 값이다.\n",
    "   \n",
    "   \n",
    "   - 정리하면 하이퍼파라미터는 사람이 정하는 변수, 매개변수는 모델이 훈련을 통해서 바꾸는 변수이다.\n",
    "   \n",
    "   \n",
    "   - 훈련용 데이터로 훈련을 모두 시킨 모델은 검증용 데이터를 사용하여 정확도를 검증하며 하이퍼파라미터를 튜닝한다. 또한 이 모델의 매개변수는 검증용 데이터로 정확도가 검증되는 과정에서 점차 검증용 데이터에 점점 맞추어져 가기 시작한다.\n",
    "   \n",
    "   \n",
    "   "
   ]
  },
  {
   "cell_type": "code",
   "execution_count": null,
   "metadata": {},
   "outputs": [],
   "source": []
  },
  {
   "cell_type": "code",
   "execution_count": null,
   "metadata": {},
   "outputs": [],
   "source": []
  },
  {
   "cell_type": "code",
   "execution_count": null,
   "metadata": {},
   "outputs": [],
   "source": []
  },
  {
   "cell_type": "code",
   "execution_count": null,
   "metadata": {},
   "outputs": [],
   "source": []
  },
  {
   "cell_type": "code",
   "execution_count": null,
   "metadata": {},
   "outputs": [],
   "source": []
  },
  {
   "cell_type": "code",
   "execution_count": null,
   "metadata": {},
   "outputs": [],
   "source": []
  },
  {
   "cell_type": "code",
   "execution_count": null,
   "metadata": {},
   "outputs": [],
   "source": []
  },
  {
   "cell_type": "code",
   "execution_count": null,
   "metadata": {},
   "outputs": [],
   "source": []
  },
  {
   "cell_type": "code",
   "execution_count": null,
   "metadata": {},
   "outputs": [],
   "source": []
  },
  {
   "cell_type": "code",
   "execution_count": null,
   "metadata": {},
   "outputs": [],
   "source": []
  }
 ],
 "metadata": {
  "kernelspec": {
   "display_name": "Python 3",
   "language": "python",
   "name": "python3"
  },
  "language_info": {
   "codemirror_mode": {
    "name": "ipython",
    "version": 3
   },
   "file_extension": ".py",
   "mimetype": "text/x-python",
   "name": "python",
   "nbconvert_exporter": "python",
   "pygments_lexer": "ipython3",
   "version": "3.7.7"
  }
 },
 "nbformat": 4,
 "nbformat_minor": 4
}
