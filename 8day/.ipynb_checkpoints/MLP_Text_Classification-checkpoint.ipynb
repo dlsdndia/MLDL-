{
 "cells": [
  {
   "cell_type": "code",
   "execution_count": 1,
   "metadata": {
    "colab": {},
    "colab_type": "code",
    "id": "VbgrvjyqWrAH"
   },
   "outputs": [],
   "source": [
    "%matplotlib inline\n",
    "\n",
    "import pandas as pd\n",
    "import matplotlib.pyplot as plt\n",
    "\n",
    "from sklearn.datasets import fetch_20newsgroups\n",
    "\n",
    "from tensorflow.keras.preprocessing.text import Tokenizer\n",
    "from tensorflow.keras.utils import to_categorical"
   ]
  },
  {
   "cell_type": "markdown",
   "metadata": {
    "colab_type": "text",
    "id": "bga4EQZRWtXx"
   },
   "source": [
    "# 1. 20개 뉴스 그륩 데이터 이해"
   ]
  },
  {
   "cell_type": "code",
   "execution_count": 2,
   "metadata": {
    "colab": {
     "base_uri": "https://localhost:8080/",
     "height": 52
    },
    "colab_type": "code",
    "id": "clE5JwilWuzR",
    "outputId": "dcb3160d-8f89-4079-e1c5-63652d490881"
   },
   "outputs": [
    {
     "name": "stderr",
     "output_type": "stream",
     "text": [
      "Downloading 20news dataset. This may take a few minutes.\n",
      "Downloading dataset from https://ndownloader.figshare.com/files/5975967 (14 MB)\n"
     ]
    }
   ],
   "source": [
    "newsdata = fetch_20newsgroups(subset='train' ) # 훈련데이터만 리턴"
   ]
  },
  {
   "cell_type": "code",
   "execution_count": 3,
   "metadata": {
    "colab": {
     "base_uri": "https://localhost:8080/",
     "height": 34
    },
    "colab_type": "code",
    "id": "vh-vjgfOW-pY",
    "outputId": "d99d9a01-835e-4441-ef6e-9614b3a52e6e"
   },
   "outputs": [
    {
     "name": "stdout",
     "output_type": "stream",
     "text": [
      "dict_keys(['data', 'filenames', 'target_names', 'target', 'DESCR'])\n"
     ]
    }
   ],
   "source": [
    "print(newsdata.keys())"
   ]
  },
  {
   "cell_type": "code",
   "execution_count": 24,
   "metadata": {
    "colab": {
     "base_uri": "https://localhost:8080/",
     "height": 34
    },
    "colab_type": "code",
    "id": "wMBXYAUrW-yQ",
    "outputId": "f1eaa00e-bdfb-47e4-c769-aabc55363a2b"
   },
   "outputs": [
    {
     "name": "stdout",
     "output_type": "stream",
     "text": [
      "훈련용 샘플 개수 : 11314\n"
     ]
    }
   ],
   "source": [
    "print( '훈련용 샘플 개수 : {}'.format( len( newsdata.data ) ) )"
   ]
  },
  {
   "cell_type": "code",
   "execution_count": 8,
   "metadata": {
    "colab": {
     "base_uri": "https://localhost:8080/",
     "height": 72
    },
    "colab_type": "code",
    "id": "CBcHF3qHW_G1",
    "outputId": "437c1446-d832-458c-ff56-304158c376db"
   },
   "outputs": [
    {
     "name": "stdout",
     "output_type": "stream",
     "text": [
      "총 주제의 개수 : 20\n",
      "['alt.atheism', 'comp.graphics', 'comp.os.ms-windows.misc', 'comp.sys.ibm.pc.hardware', 'comp.sys.mac.hardware', 'comp.windows.x', 'misc.forsale', 'rec.autos', 'rec.motorcycles', 'rec.sport.baseball', 'rec.sport.hockey', 'sci.crypt', 'sci.electronics', 'sci.med', 'sci.space', 'soc.religion.christian', 'talk.politics.guns', 'talk.politics.mideast', 'talk.politics.misc', 'talk.religion.misc']\n"
     ]
    }
   ],
   "source": [
    "print( '총 주제의 개수 : {}'.format( len( newsdata.target_names ) ) )\n",
    "print( newsdata.target_names )"
   ]
  },
  {
   "cell_type": "code",
   "execution_count": 9,
   "metadata": {
    "colab": {
     "base_uri": "https://localhost:8080/",
     "height": 34
    },
    "colab_type": "code",
    "id": "EnvAkEwhW_Yq",
    "outputId": "db07af74-2840-4fd2-a5a0-984c9441cd40"
   },
   "outputs": [
    {
     "name": "stdout",
     "output_type": "stream",
     "text": [
      "첫번째 샘플의 레이블 : 7\n"
     ]
    }
   ],
   "source": [
    "print( '첫번째 샘플의 레이블 : {}'.format( newsdata.target[0] ) )"
   ]
  },
  {
   "cell_type": "code",
   "execution_count": 12,
   "metadata": {
    "colab": {
     "base_uri": "https://localhost:8080/",
     "height": 34
    },
    "colab_type": "code",
    "id": "fUSlxx4GW_b1",
    "outputId": "fca31d70-2af1-44fc-c116-19db3f73435d"
   },
   "outputs": [
    {
     "name": "stdout",
     "output_type": "stream",
     "text": [
      "7번 레이블이 의미하는 주제 : rec.autos\n"
     ]
    }
   ],
   "source": [
    "print( '7번 레이블이 의미하는 주제 : {}'.format( newsdata.target_names[7] ) )"
   ]
  },
  {
   "cell_type": "code",
   "execution_count": 13,
   "metadata": {
    "colab": {
     "base_uri": "https://localhost:8080/",
     "height": 404
    },
    "colab_type": "code",
    "id": "2_x3dfDhW_mo",
    "outputId": "e56708fd-a7d6-4013-dac9-affb495ed4d2"
   },
   "outputs": [
    {
     "name": "stdout",
     "output_type": "stream",
     "text": [
      "From: lerxst@wam.umd.edu (where's my thing)\n",
      "Subject: WHAT car is this!?\n",
      "Nntp-Posting-Host: rac3.wam.umd.edu\n",
      "Organization: University of Maryland, College Park\n",
      "Lines: 15\n",
      "\n",
      " I was wondering if anyone out there could enlighten me on this car I saw\n",
      "the other day. It was a 2-door sports car, looked to be from the late 60s/\n",
      "early 70s. It was called a Bricklin. The doors were really small. In addition,\n",
      "the front bumper was separate from the rest of the body. This is \n",
      "all I know. If anyone can tellme a model name, engine specs, years\n",
      "of production, where this car is made, history, or whatever info you\n",
      "have on this funky looking car, please e-mail.\n",
      "\n",
      "Thanks,\n",
      "- IL\n",
      "   ---- brought to you by your neighborhood Lerxst ----\n",
      "\n",
      "\n",
      "\n",
      "\n",
      "\n"
     ]
    }
   ],
   "source": [
    "print( newsdata.data[0])"
   ]
  },
  {
   "cell_type": "markdown",
   "metadata": {
    "colab_type": "text",
    "id": "yYoj4tnJW_p1"
   },
   "source": [
    "# 2. DataFrame으로 변환 및 EDA"
   ]
  },
  {
   "cell_type": "code",
   "execution_count": 14,
   "metadata": {
    "colab": {
     "base_uri": "https://localhost:8080/",
     "height": 263
    },
    "colab_type": "code",
    "id": "NPYTfF5XW_1A",
    "outputId": "835b1791-6def-4200-daab-5e07ee7c97b4"
   },
   "outputs": [
    {
     "data": {
      "text/plain": [
       "<bound method NDFrame.head of                                                    email  target\n",
       "0      From: lerxst@wam.umd.edu (where's my thing)\\nS...       7\n",
       "1      From: guykuo@carson.u.washington.edu (Guy Kuo)...       4\n",
       "2      From: twillis@ec.ecn.purdue.edu (Thomas E Will...       4\n",
       "3      From: jgreen@amber (Joe Green)\\nSubject: Re: W...       1\n",
       "4      From: jcm@head-cfa.harvard.edu (Jonathan McDow...      14\n",
       "...                                                  ...     ...\n",
       "11309  From: jim.zisfein@factory.com (Jim Zisfein) \\n...      13\n",
       "11310  From: ebodin@pearl.tufts.edu\\nSubject: Screen ...       4\n",
       "11311  From: westes@netcom.com (Will Estes)\\nSubject:...       3\n",
       "11312  From: steve@hcrlgw (Steven Collins)\\nSubject: ...       1\n",
       "11313  From: gunning@cco.caltech.edu (Kevin J. Gunnin...       8\n",
       "\n",
       "[11314 rows x 2 columns]>"
      ]
     },
     "execution_count": 14,
     "metadata": {
      "tags": []
     },
     "output_type": "execute_result"
    }
   ],
   "source": [
    "data = pd.DataFrame(newsdata.data, columns= [ 'email' ] )\n",
    "data['target'] = pd.Series(newsdata.target )\n",
    "data.head"
   ]
  },
  {
   "cell_type": "code",
   "execution_count": 15,
   "metadata": {
    "colab": {
     "base_uri": "https://localhost:8080/",
     "height": 175
    },
    "colab_type": "code",
    "id": "uFx2JSxxWu6i",
    "outputId": "0de6f1bb-9602-4669-8122-38e437832b7f"
   },
   "outputs": [
    {
     "name": "stdout",
     "output_type": "stream",
     "text": [
      "<class 'pandas.core.frame.DataFrame'>\n",
      "RangeIndex: 11314 entries, 0 to 11313\n",
      "Data columns (total 2 columns):\n",
      " #   Column  Non-Null Count  Dtype \n",
      "---  ------  --------------  ----- \n",
      " 0   email   11314 non-null  object\n",
      " 1   target  11314 non-null  int64 \n",
      "dtypes: int64(1), object(1)\n",
      "memory usage: 176.9+ KB\n"
     ]
    }
   ],
   "source": [
    "data.info()"
   ]
  },
  {
   "cell_type": "code",
   "execution_count": 16,
   "metadata": {
    "colab": {
     "base_uri": "https://localhost:8080/",
     "height": 52
    },
    "colab_type": "code",
    "id": "n9uBQreBWvi7",
    "outputId": "a7d91207-de68-4001-f7c7-9734e811eda2"
   },
   "outputs": [
    {
     "name": "stdout",
     "output_type": "stream",
     "text": [
      "중복을 제외한 샘플 수: 11314\n",
      "중복을 제외한 주제 수: 20\n"
     ]
    }
   ],
   "source": [
    "print( '중복을 제외한 샘플 수: {}'.format( data['email'].nunique() ) )   # nunique = 중복을 제외한 갯수\n",
    "print( '중복을 제외한 주제 수: {}'.format( data['target'].nunique() ) )"
   ]
  },
  {
   "cell_type": "code",
   "execution_count": 17,
   "metadata": {
    "colab": {
     "base_uri": "https://localhost:8080/",
     "height": 286
    },
    "colab_type": "code",
    "id": "Kn8a-FAeWvtO",
    "outputId": "d3a88a82-2c09-4f2a-ed40-0073e19267ec"
   },
   "outputs": [
    {
     "data": {
      "text/plain": [
       "<matplotlib.axes._subplots.AxesSubplot at 0x7fdb35489b70>"
      ]
     },
     "execution_count": 17,
     "metadata": {
      "tags": []
     },
     "output_type": "execute_result"
    },
    {
     "data": {
      "image/png": "[encoded data removed]",
      "text/plain": [
       "<Figure size 432x288 with 1 Axes>"
      ]
     },
     "metadata": {
      "needs_background": "light",
      "tags": []
     },
     "output_type": "display_data"
    }
   ],
   "source": [
    "data['target'].value_counts().plot( kind = 'bar' )"
   ]
  },
  {
   "cell_type": "code",
   "execution_count": 18,
   "metadata": {
    "colab": {
     "base_uri": "https://localhost:8080/",
     "height": 386
    },
    "colab_type": "code",
    "id": "9WdGpLcTWvzU",
    "outputId": "61346fff-bc66-40d8-b884-b677c3505810"
   },
   "outputs": [
    {
     "name": "stdout",
     "output_type": "stream",
     "text": [
      "    target  count\n",
      "0        0    480\n",
      "1        1    584\n",
      "2        2    591\n",
      "3        3    590\n",
      "4        4    578\n",
      "5        5    593\n",
      "6        6    585\n",
      "7        7    594\n",
      "8        8    598\n",
      "9        9    597\n",
      "10      10    600\n",
      "11      11    595\n",
      "12      12    591\n",
      "13      13    594\n",
      "14      14    593\n",
      "15      15    599\n",
      "16      16    546\n",
      "17      17    564\n",
      "18      18    465\n",
      "19      19    377\n"
     ]
    }
   ],
   "source": [
    "print(data.groupby('target').size().reset_index( name = 'count' ) )    # 실제 갯수"
   ]
  },
  {
   "cell_type": "code",
   "execution_count": 19,
   "metadata": {
    "colab": {},
    "colab_type": "code",
    "id": "tvvtn3KQWz_c"
   },
   "outputs": [],
   "source": [
    "# 데이터프레임의 메일 본문과 레이블 분리, 테스트 데이터 불러오기\n",
    "newsdata_test = fetch_20newsgroups( subset= 'test', shuffle= True ) # 테스트 data\n",
    "\n",
    "train_email = data['email']        # 훈련 데이터 - 본문\n",
    "train_label = data['target']       # 훈련 데이터 - 레이블\n",
    "\n",
    "test_email = newsdata_test.data    # 테스트 데이터 - 본문\n",
    "test_label = newsdata_test.target  # 테스트 데이터 - 레이블"
   ]
  },
  {
   "cell_type": "code",
   "execution_count": 21,
   "metadata": {
    "colab": {},
    "colab_type": "code",
    "id": "PAlR6IzXW0Iq"
   },
   "outputs": [],
   "source": [
    "max_words = 10000    # 단어 최대수\n",
    "num_classes = 20     # 레이블의 수"
   ]
  },
  {
   "cell_type": "code",
   "execution_count": 22,
   "metadata": {
    "colab": {},
    "colab_type": "code",
    "id": "bgQ2m6iTW0OI"
   },
   "outputs": [],
   "source": [
    "# 텍스트에 대한 전처리 수행 사용자 정의 함수\n",
    "def prepare_data( train_data, test_data, mode ):\n",
    "  t = Tokenizer( num_words = max_words )               # max_words 단어 사용하여 토큰화\n",
    "  t.fit_on_texts( train_data )                         # 단어 토큰화에 대한 정수 인코딩( Integer Encoding )\n",
    "\n",
    "  # 문서 단어 행렬( Document-Term Matrix, DTM )\n",
    "  # 샘플수 * max_words 크기 행렬 생성\n",
    "  X_train = t.texts_to_matrix( train_data, mode = mode)\n",
    "  # 샘플수 * max_words 크기 행렬 생성\n",
    "  X_test = t.texts_to_matrix( test_data, mode = mode)\n",
    "\n",
    "  return X_train, X_test, t.index_word"
   ]
  },
  {
   "cell_type": "code",
   "execution_count": 29,
   "metadata": {
    "colab": {},
    "colab_type": "code",
    "id": "eM1Nps8tW0Xh"
   },
   "outputs": [],
   "source": [
    "X_train, X_test, index_to_word = prepare_data(train_email, test_email, 'binary' )\n",
    "y_train = to_categorical( train_label, num_classes )\n",
    "y_test = to_categorical( test_label, num_classes )"
   ]
  },
  {
   "cell_type": "code",
   "execution_count": 30,
   "metadata": {
    "colab": {
     "base_uri": "https://localhost:8080/",
     "height": 87
    },
    "colab_type": "code",
    "id": "utOozMEPW0bs",
    "outputId": "386200dd-a569-471e-f475-9e9a359e1aae"
   },
   "outputs": [
    {
     "name": "stdout",
     "output_type": "stream",
     "text": [
      "훈련 샘플 본문의 크기: (11314, 10000)\n",
      "훈련 샘플 레이블의 크기: (11314, 20)\n",
      "테스트 샘플 본문의 크기: (7532, 10000)\n",
      "테스트 샘플 레이블의 크기: (11314, 20)\n"
     ]
    }
   ],
   "source": [
    "print( '훈련 샘플 본문의 크기: {}'.format( X_train.shape ) )\n",
    "print( '훈련 샘플 레이블의 크기: {}'.format( y_train.shape ) )\n",
    "print( '테스트 샘플 본문의 크기: {}'.format( X_test.shape ) )\n",
    "print( '테스트 샘플 레이블의 크기: {}'.format( y_train.shape ) )\n",
    "\n",
    "# (데이터 수{이메일}, 단어 수)\n",
    "# (데이터 수{이메일}, {뉴스 그륩 수-20})"
   ]
  },
  {
   "cell_type": "code",
   "execution_count": 31,
   "metadata": {
    "colab": {
     "base_uri": "https://localhost:8080/",
     "height": 52
    },
    "colab_type": "code",
    "id": "9LtbndCWfqAO",
    "outputId": "8ba5087b-4a9d-48a0-8373-c7f14092c7fb"
   },
   "outputs": [
    {
     "name": "stdout",
     "output_type": "stream",
     "text": [
      "빈도수 상위 1번 단어 : the\n",
      "빈도수 상위 9999번 단어 : mic\n"
     ]
    }
   ],
   "source": [
    "print( '빈도수 상위 1번 단어 : {}'.format( index_to_word[1] ) )\n",
    "print( '빈도수 상위 9999번 단어 : {}'.format( index_to_word[9999] ) )"
   ]
  },
  {
   "cell_type": "markdown",
   "metadata": {
    "colab_type": "text",
    "id": "oCdi83Rdl1xz"
   },
   "source": [
    "# 4. MLP를 이용한 텍스트 분류"
   ]
  },
  {
   "cell_type": "code",
   "execution_count": 38,
   "metadata": {
    "colab": {},
    "colab_type": "code",
    "id": "cduUaBEefqIE"
   },
   "outputs": [],
   "source": [
    "from tensorflow.keras.models import Sequential\n",
    "from tensorflow.keras.layers import Dense, Dropout"
   ]
  },
  {
   "cell_type": "code",
   "execution_count": 41,
   "metadata": {
    "colab": {},
    "colab_type": "code",
    "id": "FmIQGqQWfqeW"
   },
   "outputs": [],
   "source": [
    "def fit_and_evaluate( X_train, y_Train, X_test, y_test ):\n",
    "  model = Sequential()\n",
    "  model.add(Dense( 256, input_shape = ( max_words, ), activation = 'relu') )\n",
    "  model.add(Dropout(0.5))\n",
    "  model.add(Dense( 128, activation = 'relu') )\n",
    "  model.add(Dropout(0.5))\n",
    "  model.add(Dense( num_classes, activation = 'softmax') )\n",
    "\n",
    "  model.compile( loss = 'categorical_crossentropy', optimizer = 'adam',\n",
    "                 metrics = [ 'accuracy' ] )\n",
    "  model.fit( X_train, y_train, batch_size = 128, epochs = 5, verbose = 1,\n",
    "             validation_split = 0.1 )\n",
    "  \n",
    "  hist = model.evaluate( X_test, y_test, batch_size = 128, verbose = 0 )\n",
    "\n",
    "  return hist[ 1 ]\n",
    "  "
   ]
  },
  {
   "cell_type": "code",
   "execution_count": 42,
   "metadata": {
    "colab": {
     "base_uri": "https://localhost:8080/",
     "height": 210
    },
    "colab_type": "code",
    "id": "0bi7MZGZfqjk",
    "outputId": "3fdabcdc-5928-4445-e294-5d2bf02377ca"
   },
   "outputs": [
    {
     "name": "stdout",
     "output_type": "stream",
     "text": [
      "Epoch 1/5\n",
      "80/80 [==============================] - 3s 43ms/step - loss: 2.1958 - accuracy: 0.3630 - val_loss: 0.7666 - val_accuracy: 0.8534\n",
      "Epoch 2/5\n",
      "80/80 [==============================] - 3s 41ms/step - loss: 0.8109 - accuracy: 0.7759 - val_loss: 0.4090 - val_accuracy: 0.8940\n",
      "Epoch 3/5\n",
      "80/80 [==============================] - 3s 41ms/step - loss: 0.4310 - accuracy: 0.8830 - val_loss: 0.3526 - val_accuracy: 0.9037\n",
      "Epoch 4/5\n",
      "80/80 [==============================] - 3s 41ms/step - loss: 0.2575 - accuracy: 0.9342 - val_loss: 0.3250 - val_accuracy: 0.9161\n",
      "Epoch 5/5\n",
      "80/80 [==============================] - 3s 41ms/step - loss: 0.2056 - accuracy: 0.9491 - val_loss: 0.2995 - val_accuracy: 0.9187\n",
      "tfidf 모드의 테스트 정확도 : 0.8279341459274292\n"
     ]
    }
   ],
   "source": [
    "X_train, X_test, _ = prepare_data( train_email, test_email, 'tfidf' )\n",
    "score = fit_and_evaluate( X_train, y_train, X_test, y_test )\n",
    "print( 'tfidf 모드의 테스트 정확도 : {}'.format( score ) )"
   ]
  },
  {
   "cell_type": "code",
   "execution_count": null,
   "metadata": {
    "colab": {},
    "colab_type": "code",
    "id": "z4KMRiMffqnc"
   },
   "outputs": [],
   "source": []
  },
  {
   "cell_type": "code",
   "execution_count": null,
   "metadata": {
    "colab": {},
    "colab_type": "code",
    "id": "cTB_m2soqZD2"
   },
   "outputs": [],
   "source": []
  },
  {
   "cell_type": "code",
   "execution_count": null,
   "metadata": {
    "colab": {},
    "colab_type": "code",
    "id": "3u4wRMYdqgzs"
   },
   "outputs": [],
   "source": []
  },
  {
   "cell_type": "code",
   "execution_count": null,
   "metadata": {
    "colab": {},
    "colab_type": "code",
    "id": "uFZ4WCbwfqrt"
   },
   "outputs": [],
   "source": []
  },
  {
   "cell_type": "code",
   "execution_count": null,
   "metadata": {
    "colab": {},
    "colab_type": "code",
    "id": "gjDGmNByfqvS"
   },
   "outputs": [],
   "source": []
  },
  {
   "cell_type": "code",
   "execution_count": null,
   "metadata": {
    "colab": {},
    "colab_type": "code",
    "id": "hTfvv1kYfqy1"
   },
   "outputs": [],
   "source": []
  },
  {
   "cell_type": "code",
   "execution_count": null,
   "metadata": {
    "colab": {},
    "colab_type": "code",
    "id": "I2KT9_2nfq2b"
   },
   "outputs": [],
   "source": []
  },
  {
   "cell_type": "code",
   "execution_count": null,
   "metadata": {
    "colab": {},
    "colab_type": "code",
    "id": "zTruBLLZfq5b"
   },
   "outputs": [],
   "source": []
  },
  {
   "cell_type": "code",
   "execution_count": null,
   "metadata": {
    "colab": {},
    "colab_type": "code",
    "id": "uqCoUIYpfq8r"
   },
   "outputs": [],
   "source": []
  },
  {
   "cell_type": "code",
   "execution_count": null,
   "metadata": {
    "colab": {},
    "colab_type": "code",
    "id": "DtRIAAyBfrAS"
   },
   "outputs": [],
   "source": []
  }
 ],
 "metadata": {
  "colab": {
   "name": "MLP_Text_Classification.ipynb",
   "provenance": []
  },
  "kernelspec": {
   "display_name": "Python 3",
   "language": "python",
   "name": "python3"
  },
  "language_info": {
   "codemirror_mode": {
    "name": "ipython",
    "version": 3
   },
   "file_extension": ".py",
   "mimetype": "text/x-python",
   "name": "python",
   "nbconvert_exporter": "python",
   "pygments_lexer": "ipython3",
   "version": "3.7.7"
  }
 },
 "nbformat": 4,
 "nbformat_minor": 1
}
