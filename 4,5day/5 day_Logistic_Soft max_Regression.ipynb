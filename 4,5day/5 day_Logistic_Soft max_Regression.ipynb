{
 "cells": [
  {
   "cell_type": "markdown",
   "metadata": {},
   "source": [
    "# Logistic Regression - 이진분류( Binary Classification )"
   ]
  },
  {
   "cell_type": "markdown",
   "metadata": {},
   "source": [
    "### 1. 비용 함수( Cost Function )\n",
    "\n",
    "- 로지스틱 회귀 또한 경사 하강법을 사용하여 가중치 W( weight )와 편향 b( bias )를 찾아내지만, 비용 함수로는 평균 제곱 오차( MSE )를 사용하지 않는다.\n",
    "- 그 이유는 시그모이드 함수에 비용 함수를 평균 제곱 오차( MSE )로 하여 그래프를 그리면 다음과 비슷한 형태가 되기 때문이다.\n",
    "\n",
    "![Alt text]( localmimum.png )\n",
    "\n",
    "- 로지스틱 회귀에서 평균 제곱 오차( MSE )를 비용 함수로 사용하면 경사 하강법을 사용하였을때 자칫 잘못하면 찾고자 하는 최소값이 아니 잘못된 최소값에 빠질 수 있다.\n",
    "- 이를 글로별 미니멈( global minimum )이 아닌 특정 구역에서의 최소값인 로컬 미니멈( local minimum )에 도달했다고 한다.\n",
    "- 이는 cost가 최소가 되는 가중치 W( weight )와 편향 b( bias )를 찾는다는 비용 함수의 목적에 맞지 않는다."
   ]
  },
  {
   "cell_type": "markdown",
   "metadata": {},
   "source": [
    "\\begin{equation*}\n",
    "    J( W ) = \\frac{1}{n}\\sum_{i=1}^nf(H(x^{(i)}),y^{(i)})\n",
    "\\end{equation*}\n",
    "\n",
    "- 위의 식에서 샘플 데이터의 개수가 n개이고, 어떤 함수 f가 실제값 yi와 예측값 H(xi)의 오차를 나타내는 함수라고 할 때, 여기서 새로운 함수 f를 어떻게 정의하느냐에 따라서 가중치를 최소화하는 적절한 목적 함수가 완성된다. \n",
    "- 목적 함수는 전체 데이터에 대해서 어떤 함수 f의 값의 평균을 계산하고 있다. \n",
    "- 적절한 가중치를 찾기 위해서는 결과적으로 실제값과 예측값에 대한 오차를 줄여야 하므로 여기서 이 f는 비용 함수(cost function)라고 하겠다. 식을 다시 쓰면 아래와 같다."
   ]
  },
  {
   "cell_type": "markdown",
   "metadata": {},
   "source": [
    "\\begin{equation*}\n",
    "    J( W ) = \\frac{1}{n}\\sum_{i=1}^ncost(H(x^{(i)}),y^{(i)})\n",
    "\\end{equation*}\n",
    "\n",
    "- 시그모이드 함수는 0과 1사이의 y값을 반환한다. \n",
    "- 이는 실제값이 0일 때 y값이 1에 가까워지면 오차가 커지며 실제값이 1일 때 y값이 0에 가까워지면 오차가 커짐을 의미합니다. 그리고 이를 반영할 수 있는 함수는 로그 함수를 통해 표현이 가능합니다.\n",
    "\n",
    "\\begin{equation*}\n",
    "    if y = 1 \\rightarrow cost(H(X),y) = -\\log(H(X))\n",
    "\\end{equation*}\n",
    "\n",
    "\\begin{equation*}\n",
    "    if y = 0 \\rightarrow cost(H(X),y) = -\\log(1-H(X))\n",
    "\\end{equation*}"
   ]
  },
  {
   "cell_type": "markdown",
   "metadata": {},
   "source": [
    "- y의 실제값이 1일 때 −logH(x) 그래프를 사용하고 y의 실제값이 0일 때 −log(1−H(X)) 그래프를 사용해야 한다. \n",
    "- 위의 두 식을 그래프 상으로 표현하면 아래와 같습니다.\n",
    "\n",
    "![Alt text]( loss_function.png )\n",
    "\n",
    "- 실제값이 1일 때의 그래프를 파란색 선으로 표현하였으며, 실제값이 0일 때의 그래프를 빨간색 선으로 표현하였다. \n",
    "- 위의 그래프를 설명하면, 실제값이 1일 때, 예측값인 H(X)의 값이 1이면 오차가 0이므로 당연히 cost는 0이 됩니다.반면, 실제값이 1일 때, H(X)가 0으로 수렴하면 cost는 무한대로 발산합니다. 실제값이 0인 경우는 그 반대로 이해하면 됩니다. \n",
    "- 이는 다음과 같이 하나의 식으로 표현할 수 있다.\n",
    "\n",
    "\\begin{equation*}\n",
    "    cost( H(X),y ) = -[ y \\log H(X) + ( 1 - y )\\log ( 1 - H(X) ) ]\n",
    "\\end{equation*}\n",
    "\n",
    "- 자세히 보면 y와 (1−y)가 식 중간에 들어갔고, 두 개의 식을 -로 묶은 것 외에는 기존의 두 식이 들어가있는 것을 볼 수 있다. \n",
    "- y가 0이면 ylogH(X)가 없어지고, y가 1이면 (1−y)log(1−H(X))가 없어지는데 이는 각각 y가 1일 때와 y가 0일 때의 앞서 본 식과 동일하다."
   ]
  },
  {
   "cell_type": "markdown",
   "metadata": {},
   "source": [
    "- 결과적으로 로지스틱 회귀의 목적 함수는 아래와 같다.\n",
    "\n",
    "\\begin{equation*}\n",
    "    J( W ) = -\\frac{1}{n}\\sum_{i=1}^n[y^{(i)} \\log H(X^{(i)})) + ( 1 - y^{(i)}) )\\log ( 1 - H(X^{(i)})) ) ]\n",
    "\\end{equation*}\n",
    "\n",
    "- 이때 로지스틱 회귀에서 찾아낸 비용 함수를 크로스 엔트로피( Cross Entropy ) 함수라고 한다. \n",
    "- 즉, 결론적으로 로지스틱 회귀는 비용 함수로 크로스 엔트로피( Cross Entropy ) 함수를 사용하며, 가중치를 찾기 위해서 크로스 엔트로피( Cross Entropy ) 함수의 평균을 취한 함수를 사용한다. \n",
    "- 크로스 엔트로피 함수는 소프트맥스 회귀의 비용 함수이기도 하다."
   ]
  },
  {
   "cell_type": "code",
   "execution_count": null,
   "metadata": {},
   "outputs": [],
   "source": []
  },
  {
   "cell_type": "markdown",
   "metadata": {},
   "source": [
    "## 배치( batch )와 에포크( epoch )\n",
    "\n",
    "- 배치( batch )\n",
    "   - 모델의 가중치를 한번 업데이터 시킬 때 사용되는 샘플들의 묶음\n",
    "   - 예로 총 1000개의 훈련 샘플이 있을 때, 배치 사이즈가 20이라면 20개의 샘플 단위마다 모델의 가중치를 한번씩 업데이트 시킨다. 즉, 총 50번( = 1000 / 20 ) 가중치가 업데이트 된다. 하나의 데이터셋을 총 50개의 배치로 나눠서 훈련을 진행한다는 의미\n",
    "   \n",
    "- 에포크( epoch )\n",
    "   - 학습의 횟수를 의미 \n",
    "   - 예로 에포크가 10이고 배치 사이즈가 20이면 가중치를 50번 업데이트하는 것을 총 10번 반복한다. 각 데이터 샘플이 총 10번씩 사용되는 것이다. 결과적으로 가중치가 총 500번 업데이트 된다.\n",
    "   \n",
    "![Alt text]( batch_epoch.png)\n",
    "\n",
    "- 만약 배치 사이즈가 너무 크면 한번에 처리해야할 양이 많기 때문에 학습 속도가 느려지고, 배치 사이즈가 너무 작으면 적은 샘플을 참조해서 자주 가중치 없데이트 되기 때문에 불안정한 훈련이 된다.\n",
    "- 따라서 배치 사잊를 바꿔가면서 언제 모델이 가장 효율적으로 훈련되는지를 살펴볼 필요가 있다."
   ]
  },
  {
   "cell_type": "code",
   "execution_count": 21,
   "metadata": {},
   "outputs": [],
   "source": [
    "%matplotlib inline\n",
    "\n",
    "import numpy as np\n",
    "import pandas as pd\n",
    "import matplotlib.pyplot as plt\n",
    "import seaborn as sns\n",
    "\n",
    "from sklearn.model_selection import train_test_split\n",
    "\n",
    "from tensorflow.keras.models import Sequential\n",
    "from tensorflow.keras.layers import Dense\n",
    "from tensorflow.keras import optimizers"
   ]
  },
  {
   "cell_type": "code",
   "execution_count": 2,
   "metadata": {},
   "outputs": [],
   "source": [
    "x = np.array( [ -50, -40, -30, -20, -10, -5, 0, 5, 10, 20, 30, 40, 50 ] )\n",
    "y = np.array( [ 0, 0, 0, 0, 0, 0, 0, 1, 1, 1, 1, 1, 1 ] )"
   ]
  },
  {
   "cell_type": "markdown",
   "metadata": {},
   "source": [
    "- cost function을 sigmoid 사용함으로, activation = 'sigmoid'로 설정\n",
    "- optimizer는 경사 하강법의 한 종류인 '확률적 경사 하강법'을 사용하고, loss function은 cross entropy"
   ]
  },
  {
   "cell_type": "code",
   "execution_count": 6,
   "metadata": {},
   "outputs": [
    {
     "name": "stdout",
     "output_type": "stream",
     "text": [
      "Train on 13 samples\n",
      "Epoch 1/200\n",
      "13/13 [==============================] - 0s 27ms/sample - loss: 0.0592 - binary_accuracy: 1.0000\n",
      "Epoch 2/200\n",
      "13/13 [==============================] - 0s 1ms/sample - loss: 0.0589 - binary_accuracy: 1.0000\n",
      "Epoch 3/200\n",
      "13/13 [==============================] - 0s 1ms/sample - loss: 0.0586 - binary_accuracy: 1.0000\n",
      "Epoch 4/200\n",
      "13/13 [==============================] - 0s 1ms/sample - loss: 0.0583 - binary_accuracy: 1.0000\n",
      "Epoch 5/200\n",
      "13/13 [==============================] - 0s 995us/sample - loss: 0.0580 - binary_accuracy: 1.0000\n",
      "Epoch 6/200\n",
      "13/13 [==============================] - 0s 918us/sample - loss: 0.0577 - binary_accuracy: 1.0000\n",
      "Epoch 7/200\n",
      "13/13 [==============================] - 0s 1ms/sample - loss: 0.0574 - binary_accuracy: 1.0000\n",
      "Epoch 8/200\n",
      "13/13 [==============================] - 0s 1ms/sample - loss: 0.0572 - binary_accuracy: 1.0000\n",
      "Epoch 9/200\n",
      "13/13 [==============================] - 0s 999us/sample - loss: 0.0569 - binary_accuracy: 1.0000\n",
      "Epoch 10/200\n",
      "13/13 [==============================] - 0s 996us/sample - loss: 0.0566 - binary_accuracy: 1.0000\n",
      "Epoch 11/200\n",
      "13/13 [==============================] - 0s 918us/sample - loss: 0.0564 - binary_accuracy: 1.0000\n",
      "Epoch 12/200\n",
      "13/13 [==============================] - 0s 997us/sample - loss: 0.0561 - binary_accuracy: 1.0000\n",
      "Epoch 13/200\n",
      "13/13 [==============================] - 0s 1ms/sample - loss: 0.0558 - binary_accuracy: 1.0000\n",
      "Epoch 14/200\n",
      "13/13 [==============================] - 0s 995us/sample - loss: 0.0556 - binary_accuracy: 1.0000\n",
      "Epoch 15/200\n",
      "13/13 [==============================] - 0s 999us/sample - loss: 0.0553 - binary_accuracy: 1.0000\n",
      "Epoch 16/200\n",
      "13/13 [==============================] - 0s 1ms/sample - loss: 0.0551 - binary_accuracy: 1.0000\n",
      "Epoch 17/200\n",
      "13/13 [==============================] - 0s 1ms/sample - loss: 0.0548 - binary_accuracy: 1.0000\n",
      "Epoch 18/200\n",
      "13/13 [==============================] - 0s 1ms/sample - loss: 0.0546 - binary_accuracy: 1.0000\n",
      "Epoch 19/200\n",
      "13/13 [==============================] - 0s 1ms/sample - loss: 0.0544 - binary_accuracy: 1.0000\n",
      "Epoch 20/200\n",
      "13/13 [==============================] - 0s 1ms/sample - loss: 0.0541 - binary_accuracy: 1.0000\n",
      "Epoch 21/200\n",
      "13/13 [==============================] - 0s 998us/sample - loss: 0.0539 - binary_accuracy: 1.0000\n",
      "Epoch 22/200\n",
      "13/13 [==============================] - 0s 1ms/sample - loss: 0.0537 - binary_accuracy: 1.0000\n",
      "Epoch 23/200\n",
      "13/13 [==============================] - 0s 1ms/sample - loss: 0.0534 - binary_accuracy: 1.0000\n",
      "Epoch 24/200\n",
      "13/13 [==============================] - 0s 998us/sample - loss: 0.0532 - binary_accuracy: 1.0000\n",
      "Epoch 25/200\n",
      "13/13 [==============================] - 0s 1ms/sample - loss: 0.0530 - binary_accuracy: 1.0000\n",
      "Epoch 26/200\n",
      "13/13 [==============================] - 0s 997us/sample - loss: 0.0528 - binary_accuracy: 1.0000\n",
      "Epoch 27/200\n",
      "13/13 [==============================] - 0s 1ms/sample - loss: 0.0526 - binary_accuracy: 1.0000\n",
      "Epoch 28/200\n",
      "13/13 [==============================] - 0s 1ms/sample - loss: 0.0523 - binary_accuracy: 1.0000\n",
      "Epoch 29/200\n",
      "13/13 [==============================] - 0s 1ms/sample - loss: 0.0521 - binary_accuracy: 1.0000\n",
      "Epoch 30/200\n",
      "13/13 [==============================] - 0s 1ms/sample - loss: 0.0519 - binary_accuracy: 1.0000\n",
      "Epoch 31/200\n",
      "13/13 [==============================] - 0s 1ms/sample - loss: 0.0517 - binary_accuracy: 1.0000\n",
      "Epoch 32/200\n",
      "13/13 [==============================] - 0s 1ms/sample - loss: 0.0515 - binary_accuracy: 1.0000\n",
      "Epoch 33/200\n",
      "13/13 [==============================] - 0s 1ms/sample - loss: 0.0513 - binary_accuracy: 1.0000\n",
      "Epoch 34/200\n",
      "13/13 [==============================] - 0s 1ms/sample - loss: 0.0511 - binary_accuracy: 1.0000\n",
      "Epoch 35/200\n",
      "13/13 [==============================] - 0s 2ms/sample - loss: 0.0509 - binary_accuracy: 1.0000\n",
      "Epoch 36/200\n",
      "13/13 [==============================] - 0s 925us/sample - loss: 0.0507 - binary_accuracy: 1.0000\n",
      "Epoch 37/200\n",
      "13/13 [==============================] - 0s 997us/sample - loss: 0.0505 - binary_accuracy: 1.0000\n",
      "Epoch 38/200\n",
      "13/13 [==============================] - 0s 994us/sample - loss: 0.0503 - binary_accuracy: 1.0000\n",
      "Epoch 39/200\n",
      "13/13 [==============================] - 0s 1ms/sample - loss: 0.0501 - binary_accuracy: 1.0000\n",
      "Epoch 40/200\n",
      "13/13 [==============================] - 0s 1ms/sample - loss: 0.0499 - binary_accuracy: 1.0000\n",
      "Epoch 41/200\n",
      "13/13 [==============================] - 0s 1ms/sample - loss: 0.0497 - binary_accuracy: 1.0000\n",
      "Epoch 42/200\n",
      "13/13 [==============================] - 0s 1ms/sample - loss: 0.0495 - binary_accuracy: 1.0000\n",
      "Epoch 43/200\n",
      "13/13 [==============================] - 0s 1ms/sample - loss: 0.0494 - binary_accuracy: 1.0000\n",
      "Epoch 44/200\n",
      "13/13 [==============================] - 0s 1ms/sample - loss: 0.0492 - binary_accuracy: 1.0000\n",
      "Epoch 45/200\n",
      "13/13 [==============================] - 0s 1ms/sample - loss: 0.0490 - binary_accuracy: 1.0000\n",
      "Epoch 46/200\n",
      "13/13 [==============================] - 0s 1ms/sample - loss: 0.0488 - binary_accuracy: 1.0000\n",
      "Epoch 47/200\n",
      "13/13 [==============================] - 0s 1ms/sample - loss: 0.0486 - binary_accuracy: 1.0000\n",
      "Epoch 48/200\n",
      "13/13 [==============================] - 0s 1ms/sample - loss: 0.0484 - binary_accuracy: 1.0000\n",
      "Epoch 49/200\n",
      "13/13 [==============================] - 0s 1ms/sample - loss: 0.0483 - binary_accuracy: 1.0000\n",
      "Epoch 50/200\n",
      "13/13 [==============================] - 0s 997us/sample - loss: 0.0481 - binary_accuracy: 1.0000\n",
      "Epoch 51/200\n",
      "13/13 [==============================] - 0s 1ms/sample - loss: 0.0479 - binary_accuracy: 1.0000\n",
      "Epoch 52/200\n",
      "13/13 [==============================] - 0s 997us/sample - loss: 0.0477 - binary_accuracy: 1.0000\n",
      "Epoch 53/200\n",
      "13/13 [==============================] - 0s 1ms/sample - loss: 0.0476 - binary_accuracy: 1.0000\n",
      "Epoch 54/200\n",
      "13/13 [==============================] - 0s 1ms/sample - loss: 0.0474 - binary_accuracy: 1.0000\n",
      "Epoch 55/200\n",
      "13/13 [==============================] - 0s 1ms/sample - loss: 0.0472 - binary_accuracy: 1.0000\n",
      "Epoch 56/200\n",
      "13/13 [==============================] - 0s 1ms/sample - loss: 0.0471 - binary_accuracy: 1.0000\n",
      "Epoch 57/200\n",
      "13/13 [==============================] - 0s 1ms/sample - loss: 0.0469 - binary_accuracy: 1.0000\n",
      "Epoch 58/200\n",
      "13/13 [==============================] - 0s 1ms/sample - loss: 0.0467 - binary_accuracy: 1.0000\n",
      "Epoch 59/200\n",
      "13/13 [==============================] - 0s 1ms/sample - loss: 0.0466 - binary_accuracy: 1.0000\n",
      "Epoch 60/200\n",
      "13/13 [==============================] - 0s 1ms/sample - loss: 0.0464 - binary_accuracy: 1.0000\n",
      "Epoch 61/200\n",
      "13/13 [==============================] - 0s 1ms/sample - loss: 0.0462 - binary_accuracy: 1.0000\n",
      "Epoch 62/200\n",
      "13/13 [==============================] - 0s 995us/sample - loss: 0.0461 - binary_accuracy: 1.0000\n",
      "Epoch 63/200\n",
      "13/13 [==============================] - 0s 1ms/sample - loss: 0.0459 - binary_accuracy: 1.0000\n",
      "Epoch 64/200\n",
      "13/13 [==============================] - 0s 923us/sample - loss: 0.0457 - binary_accuracy: 1.0000\n",
      "Epoch 65/200\n",
      "13/13 [==============================] - 0s 1ms/sample - loss: 0.0456 - binary_accuracy: 1.0000\n",
      "Epoch 66/200\n",
      "13/13 [==============================] - 0s 1ms/sample - loss: 0.0454 - binary_accuracy: 1.0000\n",
      "Epoch 67/200\n",
      "13/13 [==============================] - 0s 1ms/sample - loss: 0.0453 - binary_accuracy: 1.0000\n",
      "Epoch 68/200\n",
      "13/13 [==============================] - 0s 1ms/sample - loss: 0.0451 - binary_accuracy: 1.0000\n",
      "Epoch 69/200\n",
      "13/13 [==============================] - 0s 997us/sample - loss: 0.0450 - binary_accuracy: 1.0000\n",
      "Epoch 70/200\n",
      "13/13 [==============================] - 0s 997us/sample - loss: 0.0448 - binary_accuracy: 1.0000\n",
      "Epoch 71/200\n",
      "13/13 [==============================] - 0s 999us/sample - loss: 0.0447 - binary_accuracy: 1.0000\n",
      "Epoch 72/200\n",
      "13/13 [==============================] - 0s 1ms/sample - loss: 0.0445 - binary_accuracy: 1.0000\n",
      "Epoch 73/200\n",
      "13/13 [==============================] - 0s 1ms/sample - loss: 0.0444 - binary_accuracy: 1.0000\n",
      "Epoch 74/200\n",
      "13/13 [==============================] - 0s 1ms/sample - loss: 0.0442 - binary_accuracy: 1.0000\n",
      "Epoch 75/200\n"
     ]
    },
    {
     "name": "stdout",
     "output_type": "stream",
     "text": [
      "13/13 [==============================] - 0s 1ms/sample - loss: 0.0441 - binary_accuracy: 1.0000\n",
      "Epoch 76/200\n",
      "13/13 [==============================] - 0s 1ms/sample - loss: 0.0439 - binary_accuracy: 1.0000\n",
      "Epoch 77/200\n",
      "13/13 [==============================] - 0s 1ms/sample - loss: 0.0438 - binary_accuracy: 1.0000\n",
      "Epoch 78/200\n",
      "13/13 [==============================] - 0s 1ms/sample - loss: 0.0436 - binary_accuracy: 1.0000\n",
      "Epoch 79/200\n",
      "13/13 [==============================] - 0s 1ms/sample - loss: 0.0435 - binary_accuracy: 1.0000\n",
      "Epoch 80/200\n",
      "13/13 [==============================] - 0s 1ms/sample - loss: 0.0433 - binary_accuracy: 1.0000\n",
      "Epoch 81/200\n",
      "13/13 [==============================] - 0s 1ms/sample - loss: 0.0432 - binary_accuracy: 1.0000\n",
      "Epoch 82/200\n",
      "13/13 [==============================] - 0s 1000us/sample - loss: 0.0430 - binary_accuracy: 1.0000\n",
      "Epoch 83/200\n",
      "13/13 [==============================] - 0s 1ms/sample - loss: 0.0429 - binary_accuracy: 1.0000\n",
      "Epoch 84/200\n",
      "13/13 [==============================] - 0s 1ms/sample - loss: 0.0428 - binary_accuracy: 1.0000\n",
      "Epoch 85/200\n",
      "13/13 [==============================] - 0s 1ms/sample - loss: 0.0426 - binary_accuracy: 1.0000\n",
      "Epoch 86/200\n",
      "13/13 [==============================] - 0s 1ms/sample - loss: 0.0425 - binary_accuracy: 1.0000\n",
      "Epoch 87/200\n",
      "13/13 [==============================] - 0s 1ms/sample - loss: 0.0423 - binary_accuracy: 1.0000\n",
      "Epoch 88/200\n",
      "13/13 [==============================] - 0s 997us/sample - loss: 0.0422 - binary_accuracy: 1.0000\n",
      "Epoch 89/200\n",
      "13/13 [==============================] - 0s 920us/sample - loss: 0.0421 - binary_accuracy: 1.0000\n",
      "Epoch 90/200\n",
      "13/13 [==============================] - 0s 1ms/sample - loss: 0.0419 - binary_accuracy: 1.0000\n",
      "Epoch 91/200\n",
      "13/13 [==============================] - 0s 997us/sample - loss: 0.0418 - binary_accuracy: 1.0000\n",
      "Epoch 92/200\n",
      "13/13 [==============================] - 0s 1ms/sample - loss: 0.0417 - binary_accuracy: 1.0000\n",
      "Epoch 93/200\n",
      "13/13 [==============================] - 0s 1ms/sample - loss: 0.0415 - binary_accuracy: 1.0000\n",
      "Epoch 94/200\n",
      "13/13 [==============================] - 0s 997us/sample - loss: 0.0414 - binary_accuracy: 1.0000\n",
      "Epoch 95/200\n",
      "13/13 [==============================] - 0s 998us/sample - loss: 0.0413 - binary_accuracy: 1.0000\n",
      "Epoch 96/200\n",
      "13/13 [==============================] - 0s 996us/sample - loss: 0.0411 - binary_accuracy: 1.0000\n",
      "Epoch 97/200\n",
      "13/13 [==============================] - 0s 1ms/sample - loss: 0.0410 - binary_accuracy: 1.0000\n",
      "Epoch 98/200\n",
      "13/13 [==============================] - 0s 995us/sample - loss: 0.0409 - binary_accuracy: 1.0000\n",
      "Epoch 99/200\n",
      "13/13 [==============================] - 0s 1ms/sample - loss: 0.0407 - binary_accuracy: 1.0000\n",
      "Epoch 100/200\n",
      "13/13 [==============================] - 0s 921us/sample - loss: 0.0406 - binary_accuracy: 1.0000\n",
      "Epoch 101/200\n",
      "13/13 [==============================] - 0s 923us/sample - loss: 0.0405 - binary_accuracy: 1.0000\n",
      "Epoch 102/200\n",
      "13/13 [==============================] - 0s 999us/sample - loss: 0.0404 - binary_accuracy: 1.0000\n",
      "Epoch 103/200\n",
      "13/13 [==============================] - 0s 1ms/sample - loss: 0.0402 - binary_accuracy: 1.0000\n",
      "Epoch 104/200\n",
      "13/13 [==============================] - 0s 999us/sample - loss: 0.0401 - binary_accuracy: 1.0000\n",
      "Epoch 105/200\n",
      "13/13 [==============================] - 0s 1000us/sample - loss: 0.0400 - binary_accuracy: 1.0000\n",
      "Epoch 106/200\n",
      "13/13 [==============================] - 0s 995us/sample - loss: 0.0399 - binary_accuracy: 1.0000\n",
      "Epoch 107/200\n",
      "13/13 [==============================] - 0s 999us/sample - loss: 0.0397 - binary_accuracy: 1.0000\n",
      "Epoch 108/200\n",
      "13/13 [==============================] - 0s 1ms/sample - loss: 0.0396 - binary_accuracy: 1.0000\n",
      "Epoch 109/200\n",
      "13/13 [==============================] - 0s 1ms/sample - loss: 0.0395 - binary_accuracy: 1.0000\n",
      "Epoch 110/200\n",
      "13/13 [==============================] - 0s 1ms/sample - loss: 0.0394 - binary_accuracy: 1.0000\n",
      "Epoch 111/200\n",
      "13/13 [==============================] - 0s 1ms/sample - loss: 0.0393 - binary_accuracy: 1.0000\n",
      "Epoch 112/200\n",
      "13/13 [==============================] - 0s 1ms/sample - loss: 0.0391 - binary_accuracy: 1.0000\n",
      "Epoch 113/200\n",
      "13/13 [==============================] - 0s 997us/sample - loss: 0.0390 - binary_accuracy: 1.0000\n",
      "Epoch 114/200\n",
      "13/13 [==============================] - 0s 997us/sample - loss: 0.0389 - binary_accuracy: 1.0000\n",
      "Epoch 115/200\n",
      "13/13 [==============================] - 0s 997us/sample - loss: 0.0388 - binary_accuracy: 1.0000\n",
      "Epoch 116/200\n",
      "13/13 [==============================] - 0s 996us/sample - loss: 0.0387 - binary_accuracy: 1.0000\n",
      "Epoch 117/200\n",
      "13/13 [==============================] - 0s 997us/sample - loss: 0.0385 - binary_accuracy: 1.0000\n",
      "Epoch 118/200\n",
      "13/13 [==============================] - 0s 999us/sample - loss: 0.0384 - binary_accuracy: 1.0000\n",
      "Epoch 119/200\n",
      "13/13 [==============================] - 0s 923us/sample - loss: 0.0383 - binary_accuracy: 1.0000\n",
      "Epoch 120/200\n",
      "13/13 [==============================] - 0s 998us/sample - loss: 0.0382 - binary_accuracy: 1.0000\n",
      "Epoch 121/200\n",
      "13/13 [==============================] - 0s 995us/sample - loss: 0.0381 - binary_accuracy: 1.0000\n",
      "Epoch 122/200\n",
      "13/13 [==============================] - 0s 995us/sample - loss: 0.0380 - binary_accuracy: 1.0000\n",
      "Epoch 123/200\n",
      "13/13 [==============================] - 0s 997us/sample - loss: 0.0379 - binary_accuracy: 1.0000\n",
      "Epoch 124/200\n",
      "13/13 [==============================] - 0s 997us/sample - loss: 0.0377 - binary_accuracy: 1.0000\n",
      "Epoch 125/200\n",
      "13/13 [==============================] - 0s 994us/sample - loss: 0.0376 - binary_accuracy: 1.0000\n",
      "Epoch 126/200\n",
      "13/13 [==============================] - 0s 995us/sample - loss: 0.0375 - binary_accuracy: 1.0000\n",
      "Epoch 127/200\n",
      "13/13 [==============================] - 0s 1ms/sample - loss: 0.0374 - binary_accuracy: 1.0000\n",
      "Epoch 128/200\n",
      "13/13 [==============================] - 0s 995us/sample - loss: 0.0373 - binary_accuracy: 1.0000\n",
      "Epoch 129/200\n",
      "13/13 [==============================] - 0s 923us/sample - loss: 0.0372 - binary_accuracy: 1.0000\n",
      "Epoch 130/200\n",
      "13/13 [==============================] - 0s 997us/sample - loss: 0.0371 - binary_accuracy: 1.0000\n",
      "Epoch 131/200\n",
      "13/13 [==============================] - 0s 1ms/sample - loss: 0.0370 - binary_accuracy: 1.0000\n",
      "Epoch 132/200\n",
      "13/13 [==============================] - 0s 1000us/sample - loss: 0.0369 - binary_accuracy: 1.0000\n",
      "Epoch 133/200\n",
      "13/13 [==============================] - 0s 919us/sample - loss: 0.0368 - binary_accuracy: 1.0000\n",
      "Epoch 134/200\n",
      "13/13 [==============================] - 0s 933us/sample - loss: 0.0367 - binary_accuracy: 1.0000\n",
      "Epoch 135/200\n",
      "13/13 [==============================] - 0s 883us/sample - loss: 0.0365 - binary_accuracy: 1.0000\n",
      "Epoch 136/200\n",
      "13/13 [==============================] - 0s 997us/sample - loss: 0.0364 - binary_accuracy: 1.0000\n",
      "Epoch 137/200\n",
      "13/13 [==============================] - 0s 995us/sample - loss: 0.0363 - binary_accuracy: 1.0000\n",
      "Epoch 138/200\n",
      "13/13 [==============================] - 0s 918us/sample - loss: 0.0362 - binary_accuracy: 1.0000\n",
      "Epoch 139/200\n",
      "13/13 [==============================] - 0s 1ms/sample - loss: 0.0361 - binary_accuracy: 1.0000\n",
      "Epoch 140/200\n",
      "13/13 [==============================] - 0s 919us/sample - loss: 0.0360 - binary_accuracy: 1.0000\n",
      "Epoch 141/200\n",
      "13/13 [==============================] - 0s 998us/sample - loss: 0.0359 - binary_accuracy: 1.0000\n",
      "Epoch 142/200\n",
      "13/13 [==============================] - 0s 997us/sample - loss: 0.0358 - binary_accuracy: 1.0000\n",
      "Epoch 143/200\n",
      "13/13 [==============================] - 0s 997us/sample - loss: 0.0357 - binary_accuracy: 1.0000\n",
      "Epoch 144/200\n",
      "13/13 [==============================] - 0s 995us/sample - loss: 0.0356 - binary_accuracy: 1.0000\n",
      "Epoch 145/200\n",
      "13/13 [==============================] - 0s 923us/sample - loss: 0.0355 - binary_accuracy: 1.0000\n",
      "Epoch 146/200\n",
      "13/13 [==============================] - 0s 995us/sample - loss: 0.0354 - binary_accuracy: 1.0000\n",
      "Epoch 147/200\n",
      "13/13 [==============================] - 0s 997us/sample - loss: 0.0353 - binary_accuracy: 1.0000\n",
      "Epoch 148/200\n"
     ]
    },
    {
     "name": "stdout",
     "output_type": "stream",
     "text": [
      "13/13 [==============================] - 0s 997us/sample - loss: 0.0352 - binary_accuracy: 1.0000\n",
      "Epoch 149/200\n",
      "13/13 [==============================] - 0s 920us/sample - loss: 0.0351 - binary_accuracy: 1.0000\n",
      "Epoch 150/200\n",
      "13/13 [==============================] - 0s 932us/sample - loss: 0.0350 - binary_accuracy: 1.0000\n",
      "Epoch 151/200\n",
      "13/13 [==============================] - 0s 1ms/sample - loss: 0.0349 - binary_accuracy: 1.0000\n",
      "Epoch 152/200\n",
      "13/13 [==============================] - 0s 1ms/sample - loss: 0.0348 - binary_accuracy: 1.0000\n",
      "Epoch 153/200\n",
      "13/13 [==============================] - 0s 921us/sample - loss: 0.0347 - binary_accuracy: 1.0000\n",
      "Epoch 154/200\n",
      "13/13 [==============================] - 0s 995us/sample - loss: 0.0346 - binary_accuracy: 1.0000\n",
      "Epoch 155/200\n",
      "13/13 [==============================] - 0s 917us/sample - loss: 0.0345 - binary_accuracy: 1.0000\n",
      "Epoch 156/200\n",
      "13/13 [==============================] - 0s 923us/sample - loss: 0.0344 - binary_accuracy: 1.0000\n",
      "Epoch 157/200\n",
      "13/13 [==============================] - 0s 998us/sample - loss: 0.0343 - binary_accuracy: 1.0000\n",
      "Epoch 158/200\n",
      "13/13 [==============================] - 0s 922us/sample - loss: 0.0342 - binary_accuracy: 1.0000\n",
      "Epoch 159/200\n",
      "13/13 [==============================] - 0s 919us/sample - loss: 0.0342 - binary_accuracy: 1.0000\n",
      "Epoch 160/200\n",
      "13/13 [==============================] - 0s 923us/sample - loss: 0.0341 - binary_accuracy: 1.0000\n",
      "Epoch 161/200\n",
      "13/13 [==============================] - 0s 999us/sample - loss: 0.0340 - binary_accuracy: 1.0000\n",
      "Epoch 162/200\n",
      "13/13 [==============================] - 0s 999us/sample - loss: 0.0339 - binary_accuracy: 1.0000\n",
      "Epoch 163/200\n",
      "13/13 [==============================] - 0s 996us/sample - loss: 0.0338 - binary_accuracy: 1.0000\n",
      "Epoch 164/200\n",
      "13/13 [==============================] - 0s 921us/sample - loss: 0.0337 - binary_accuracy: 1.0000\n",
      "Epoch 165/200\n",
      "13/13 [==============================] - 0s 1ms/sample - loss: 0.0336 - binary_accuracy: 1.0000\n",
      "Epoch 166/200\n",
      "13/13 [==============================] - 0s 997us/sample - loss: 0.0335 - binary_accuracy: 1.0000\n",
      "Epoch 167/200\n",
      "13/13 [==============================] - 0s 997us/sample - loss: 0.0334 - binary_accuracy: 1.0000\n",
      "Epoch 168/200\n",
      "13/13 [==============================] - 0s 1ms/sample - loss: 0.0333 - binary_accuracy: 1.0000\n",
      "Epoch 169/200\n",
      "13/13 [==============================] - 0s 993us/sample - loss: 0.0332 - binary_accuracy: 1.0000\n",
      "Epoch 170/200\n",
      "13/13 [==============================] - 0s 997us/sample - loss: 0.0331 - binary_accuracy: 1.0000\n",
      "Epoch 171/200\n",
      "13/13 [==============================] - 0s 919us/sample - loss: 0.0331 - binary_accuracy: 1.0000\n",
      "Epoch 172/200\n",
      "13/13 [==============================] - 0s 997us/sample - loss: 0.0330 - binary_accuracy: 1.0000\n",
      "Epoch 173/200\n",
      "13/13 [==============================] - 0s 997us/sample - loss: 0.0329 - binary_accuracy: 1.0000\n",
      "Epoch 174/200\n",
      "13/13 [==============================] - 0s 997us/sample - loss: 0.0328 - binary_accuracy: 1.0000\n",
      "Epoch 175/200\n",
      "13/13 [==============================] - 0s 919us/sample - loss: 0.0327 - binary_accuracy: 1.0000\n",
      "Epoch 176/200\n",
      "13/13 [==============================] - 0s 997us/sample - loss: 0.0326 - binary_accuracy: 1.0000\n",
      "Epoch 177/200\n",
      "13/13 [==============================] - 0s 999us/sample - loss: 0.0325 - binary_accuracy: 1.0000\n",
      "Epoch 178/200\n",
      "13/13 [==============================] - 0s 1000us/sample - loss: 0.0324 - binary_accuracy: 1.0000\n",
      "Epoch 179/200\n",
      "13/13 [==============================] - 0s 1000us/sample - loss: 0.0324 - binary_accuracy: 1.0000\n",
      "Epoch 180/200\n",
      "13/13 [==============================] - 0s 998us/sample - loss: 0.0323 - binary_accuracy: 1.0000\n",
      "Epoch 181/200\n",
      "13/13 [==============================] - 0s 997us/sample - loss: 0.0322 - binary_accuracy: 1.0000\n",
      "Epoch 182/200\n",
      "13/13 [==============================] - 0s 1ms/sample - loss: 0.0321 - binary_accuracy: 1.0000\n",
      "Epoch 183/200\n",
      "13/13 [==============================] - 0s 920us/sample - loss: 0.0320 - binary_accuracy: 1.0000\n",
      "Epoch 184/200\n",
      "13/13 [==============================] - 0s 1ms/sample - loss: 0.0319 - binary_accuracy: 1.0000\n",
      "Epoch 185/200\n",
      "13/13 [==============================] - 0s 997us/sample - loss: 0.0318 - binary_accuracy: 1.0000\n",
      "Epoch 186/200\n",
      "13/13 [==============================] - 0s 920us/sample - loss: 0.0318 - binary_accuracy: 1.0000\n",
      "Epoch 187/200\n",
      "13/13 [==============================] - 0s 921us/sample - loss: 0.0317 - binary_accuracy: 1.0000\n",
      "Epoch 188/200\n",
      "13/13 [==============================] - 0s 995us/sample - loss: 0.0316 - binary_accuracy: 1.0000\n",
      "Epoch 189/200\n",
      "13/13 [==============================] - 0s 1ms/sample - loss: 0.0315 - binary_accuracy: 1.0000\n",
      "Epoch 190/200\n",
      "13/13 [==============================] - 0s 997us/sample - loss: 0.0314 - binary_accuracy: 1.0000\n",
      "Epoch 191/200\n",
      "13/13 [==============================] - 0s 918us/sample - loss: 0.0314 - binary_accuracy: 1.0000\n",
      "Epoch 192/200\n",
      "13/13 [==============================] - 0s 997us/sample - loss: 0.0313 - binary_accuracy: 1.0000\n",
      "Epoch 193/200\n",
      "13/13 [==============================] - 0s 921us/sample - loss: 0.0312 - binary_accuracy: 1.0000\n",
      "Epoch 194/200\n",
      "13/13 [==============================] - 0s 997us/sample - loss: 0.0311 - binary_accuracy: 1.0000\n",
      "Epoch 195/200\n",
      "13/13 [==============================] - 0s 995us/sample - loss: 0.0310 - binary_accuracy: 1.0000\n",
      "Epoch 196/200\n",
      "13/13 [==============================] - 0s 921us/sample - loss: 0.0310 - binary_accuracy: 1.0000\n",
      "Epoch 197/200\n",
      "13/13 [==============================] - 0s 921us/sample - loss: 0.0309 - binary_accuracy: 1.0000\n",
      "Epoch 198/200\n",
      "13/13 [==============================] - 0s 995us/sample - loss: 0.0308 - binary_accuracy: 1.0000\n",
      "Epoch 199/200\n",
      "13/13 [==============================] - 0s 996us/sample - loss: 0.0307 - binary_accuracy: 1.0000\n",
      "Epoch 200/200\n",
      "13/13 [==============================] - 0s 1ms/sample - loss: 0.0306 - binary_accuracy: 1.0000\n"
     ]
    }
   ],
   "source": [
    "model = Sequential()\n",
    "model.add( Dense( 1, input_dim = 1, activation = 'sigmoid' ) )   # 로지스틱은 시그모이드를 사용, 선형은 linear\n",
    "sgd = optimizers.SGD( lr = 0.01 )\n",
    "model.compile( optimizer = sgd, loss = 'binary_crossentropy',    # 로지스틱은 loss = 'binary_crossentropy', 선형은 loss = MSE\n",
    "               metrics = ['binary_accuracy'] )\n",
    "hist = model.fit(x, y, batch_size = 1, epochs = 200, shuffle = False )"
   ]
  },
  {
   "cell_type": "code",
   "execution_count": 9,
   "metadata": {},
   "outputs": [],
   "source": [
    "loss = hist.history[ 'loss' ]\n",
    "epochs = range(1, len(loss)+1)"
   ]
  },
  {
   "cell_type": "code",
   "execution_count": 10,
   "metadata": {},
   "outputs": [
    {
     "data": {
      "image/png": "[encoded data removed]",
      "text/plain": [
       "<Figure size 432x288 with 1 Axes>"
      ]
     },
     "metadata": {
      "needs_background": "light"
     },
     "output_type": "display_data"
    }
   ],
   "source": [
    "plt.plot( epochs, loss, 'b', label = 'Training loss' )\n",
    "plt.title( 'Training and validation loss' )\n",
    "plt.xlabel( 'Epochs' )\n",
    "plt.ylabel( 'Loss' )\n",
    "plt.legend()\n",
    "\n",
    "plt.show()"
   ]
  },
  {
   "cell_type": "code",
   "execution_count": 11,
   "metadata": {},
   "outputs": [
    {
     "data": {
      "text/plain": [
       "[<matplotlib.lines.Line2D at 0x26edbc67c48>,\n",
       " <matplotlib.lines.Line2D at 0x26edc916608>]"
      ]
     },
     "execution_count": 11,
     "metadata": {},
     "output_type": "execute_result"
    },
    {
     "data": {
      "image/png": "[encoded data removed]",
      "text/plain": [
       "<Figure size 432x288 with 1 Axes>"
      ]
     },
     "metadata": {
      "needs_background": "light"
     },
     "output_type": "display_data"
    }
   ],
   "source": [
    "plt.plot( x, model.predict( x ), 'b', x, y, 'k.')"
   ]
  },
  {
   "cell_type": "markdown",
   "metadata": {},
   "source": [
    "- x값이 5와 10 사이의 어떤 값일 때 y값이 0.5가 넘기 시작했다."
   ]
  },
  {
   "cell_type": "code",
   "execution_count": 15,
   "metadata": {},
   "outputs": [
    {
     "name": "stdout",
     "output_type": "stream",
     "text": [
      "[[0.5527601]\n",
      " [0.7685449]\n",
      " [0.8992028]\n",
      " [0.9599472]\n",
      " [0.9751764]]\n"
     ]
    }
   ],
   "source": [
    "# x값이 5보다 작은 값일 때\n",
    "print( model.predict([ 1, 2, 3, 4, 4.5 ] ) )"
   ]
  },
  {
   "cell_type": "code",
   "execution_count": 16,
   "metadata": {},
   "outputs": [
    {
     "name": "stdout",
     "output_type": "stream",
     "text": [
      "[[0.9999587]\n",
      " [1.       ]\n",
      " [1.       ]\n",
      " [1.       ]\n",
      " [1.       ]]\n"
     ]
    }
   ],
   "source": [
    "# x값이 10보다 큰 값일 때\n",
    "print( model.predict([ 11, 21, 33, 44, 500 ] ) )"
   ]
  },
  {
   "cell_type": "markdown",
   "metadata": {},
   "source": [
    "# 소프트맥스 회귀( Softmax Regression ) - 다중 클래스 분류\n",
    "\n",
    "- 3개 이상의 선택지 중에서 1개를 고르는 다중 클래스 분류 문제를 소프트맥스 회귀( Softmax Regression )라 한다."
   ]
  },
  {
   "cell_type": "markdown",
   "metadata": {},
   "source": [
    "## 1. 다중 클래스 분류( Multi-class Classification )\n",
    "\n",
    "- 이진 분류가 두 개의 선택지 중 하나를 고르는 문제였다면, 세 개이상의 선택지 중 하나를 고르는 문제를 다중 클래스 분류라고 한다.\n",
    "- 대표적인 예가 붓꽃 데이터(iris dataset)에 대한 분류이다.\n",
    "   - 꽃받침 길이, 꽃받침 폭, 꽃잎 길이, 꽃잎 폭으로 부터 setos, versicolor, virginica라는 3개의 품종 중 어떤 품종인지를 예측하는 문제로 전형적인 다중 클래스 분류 문제이다. \n",
    "   \n",
    "|Sepal Length-cm(x1)|Sepal Width-cm(x2)|Petal Length-cm(x3)|Petal Width-cm(x4)|Species(y)|\n",
    "|---:|---:|---:|---:|:---:|\n",
    "|5.1|3.5|1.4|0.2|setosa|\n",
    "|4.9|3.0|1.4|0.2|setosa|\n",
    "|5.8|2.6|4.0|1.2|versicolor|\n",
    "|6.7|3.0|5.2|2.3|virginica|\n",
    "|5.6|2.8|4.9|2.0|virginica|"
   ]
  },
  {
   "cell_type": "markdown",
   "metadata": {},
   "source": [
    "- 로지스틱 회귀에서 사용한 시그모이드 함수는 입력된 데이터에 대해서 0과 1사이의 값을 출력하여 해당 값이 둘 중 하나에 속 할 확률로 해석할 수 있다.\n",
    "   - 예를 들어 0이 정상 메일, 1이 스팸 메일이라고 정의한다면, 시그모이드 함수의 0과 1사이의 출력값을 스팸 메일일 확률로 해석할 수 있었다. 확률값이 0.5를 넘으면 1에 더 가까우니까 스팸 메일로 판단하면 되고, 그 반대라면 정상 메일로 판단하면 된다.\n",
    "   \n",
    "   \n",
    "- 세 개 이상의 정답지 중에서 고르는 문제\n",
    "   - 시그모이드 함수를 사용한다면 입력된 샘플 데이터에 대해서 각 정답지에 대한 시그모이드 함수를 적용해 줄 수 있다. 만약 그렇게 한다면, 첫번째가 정답일 확률은 0.7, 두번째가 정답일 확률은 0.6 세번째가 정답일 확률은 0.4 등과 같은 출력을 얻을 수 있다. 하지만 이 전체 확률의 합계가 1이 되도록 하여 전체 정답지에 걸친 확률로 바꾸는 것이 이전 로지스틱 회귀와 같은 처리를 수행할 수 있다.\n",
    "   \n",
    "   \n",
    "- 만약 하나의 샘플 데이터에 대한 예측값으로 모든 가능한 정답지에 대해서 정답일 확률의 합이 1이 되도록 구한다면\n",
    "   - iris dataset에 대하여 setosa, versicolor, virginica 3개 중에 하나의 정답을 골라야 하는데 이 샘플 데이터가 setosa일 확률이 0.58, versicolor일 확률이 0.22, virgnica일 확률이 0.2와 같이 총 합이 1인 확률 분포를 구할 수 있게 해보자는 것이다 이와 같이 확률 분포의 합이 1이 되도록 만드는 함수가 소프트맥스 함수(Softmax Regression)이다."
   ]
  },
  {
   "cell_type": "markdown",
   "metadata": {},
   "source": [
    "## 2. 소프트맥스 함수 이해\n",
    "\n",
    "- k차원의 배터에서 1번째 원소를 zi, i번째 클래스가 정답일 확률을 pi로 나타낸다고 하였을 때 소프트맥스 함수는 pi를 다음과 같이 정의한다.\n",
    "\n",
    "\\begin{equation*}\n",
    "    P-{i} = \\frac{e^{zi}}{\\sum_{j=1}^ke^{zj}} for i = 1, 2, ..., k\n",
    "\\end{equation*}"
   ]
  },
  {
   "cell_type": "markdown",
   "metadata": {},
   "source": [
    "- iris 문제에 소프트맥스 함수를 차근차근 적용해보면, iris 문제의 경우 k=3 이므로 3차원 백터 z = z1, z2, z3의 읩력을 받으면 소프트맥스 함수는 아래와 같은 출력을 리턴한다.\n",
    "\n",
    "\\begin{equation*}\n",
    "    softmax(z) = [\\frac{e^{z1}}{\\sum_{j=1}^3e^{zj}}\\frac{e^{z2}}\n",
    "{\\sum_{j=1}^3e^{zj}}\\frac{e^{z3}}{\\sum_{j=1}^3e^{zj}}] = [P1, P2, P3]\n",
    "= \\hat{y} = 예측값\n",
    "\\end{equation*}"
   ]
  },
  {
   "cell_type": "markdown",
   "metadata": {},
   "source": [
    "- \\frac = 분수표현할 때, \\sum = 시그마, {}로 묶으면 분자 분모로 묶임\n",
    "- P1, P2, P3 각각은 1번 클래스가 정답일 확률, 2번 클래스가 정답일 확률, 3번 클래스가 정답일 확률을 나타내며 각각 0과 1사이의 값으로 총 합은 1이 된다.\n",
    "- 여기서 분류하고자 하는 3개 클래스 setos, verginica, versicolor이므로 이는 결국 주어진 입력이 verginica일 확률, setos일 확률, versicolor일 확률을 나타내는 값을 의미한다.\n",
    "- 여기서 i가 1일 때는 verginica일 확률을 나타내고, 2일 때는 setosa일 확률, 3일 때는 versicolor일 확률이라고 지정하였다고 정하자.( 이 지정 순서는 문제를 풀고자 하는 사람의 무작위 선택이다.)\n",
    "   - 식을 문제에 맞게 다시 작성하면\n",
    "   \n",
    "\\begin{equation*}\n",
    "    softmax(z) = [\\frac{e^{z1}}{\\sum_{j=1}^3e^{zj}}\\frac{e^{z2}}\n",
    "{\\sum_{j=1}^3e^{zj}}\\frac{e^{z3}}{\\sum_{j=1}^3e^{zj}}] = [P1, P2, P3] = \n",
    "\\hat{y} = [ Pverginica, Psetosa, Pversicolor ]\n",
    "\\end{equation*}\n",
    "\n",
    "- 분류하고자 하는 클래스가 k개일 대, k차원의 백터를 입력받아서 모든 백터 원소의 값을 0과 1사이의 값으로 값을 변경하여 다시 k차원의 백터를 리턴한다는 내용의 식을 기재하였을 뿐이다."
   ]
  },
  {
   "cell_type": "markdown",
   "metadata": {},
   "source": [
    "### 2) 소프트맥스 함수 그림으로 이해"
   ]
  },
  {
   "cell_type": "markdown",
   "metadata": {},
   "source": [
    "![Alt text]( softmax1_final_final_ver.png)\n",
    "\n",
    "- 샘플 데이터를 1개씩 입력으로 받아 처리한다고 가정하고 이해( 배치 크기는 1 )"
   ]
  },
  {
   "cell_type": "markdown",
   "metadata": {},
   "source": [
    "### 첫 번째 : 소프트맥스 함수의 입력\n",
    "\n",
    "- 하나의 샘플 데이터는 4개의 독립변수 x를 가지는데 이는 모델이 4차원 백터를 입력으로 받음을 의미한다.\n",
    "- 그런데 소프트맥스의 함수의 입력으로 사용되는 백터는 백터의 차원이 불류하고자 하는 클래스의 개수가 되어야 하므로 어떤 가중치 연산을 통해 3차원 백터로 변환되어야 한다.\n",
    "- 위의 그림에서 소프트맥스 함수의 입력으로 사용되는 3차원 백터를 z로 표현하였다.\n",
    "\n",
    "![Alt text]( softmaxbetween1and2.png )\n",
    "\n",
    "- 샘플 데이터 백터를 소프트맥스 함수의 입력 백터로 차원을 축소하는 방법은 간단하다.\n",
    "- 소프트맥스 함수의 입력 백터 z의 차원수만큼 결과값이 나오도록 가중치 곱을 진행한다.\n",
    "- 위 그림에서 화살표는 총( 4 x 3 = 12 ) 12이며 전부 다른 가중치를 가지고, 학습 과정에서 접차적으로 오차를 최소화하는 가중치로 값이 변경된다."
   ]
  },
  {
   "cell_type": "markdown",
   "metadata": {},
   "source": [
    "### 두번째 : 오차 계산 방법\n",
    "\n",
    "- 소프트맥스 함수의 출력은 분류하고자 하는 클래스의 개수만큼 차원을 가지는 벡터로 각 원소는 0과 1사이의 값을 가진다.\n",
    "- 이 각각의 값은 특정 클래스의 정답일 확률을 나타낸다.\n",
    "- iris 데이터셋이서 첫번째 원소인 P1은 virginica가 정답일 확률, 두 번째 원소인 P2는 setosa가 정답일 확률, 세번째 원소인 P3는 vesicolor가 정답일 확률로 고려하고자 한다면 이 예측값과 비교를 할 수 있는 실제값의 표현 방법이 있어야 한다.\n",
    "- 소프트맥스 회귀에서는 실제값을 One-Hot 백터로 표현한다.\n",
    "\n",
    "![Alt text]( softmax2_final.png )\n",
    "\n",
    "- 소프트맥스 함수의 출력 백터의 첫번째 원소 P1가 virginica가 정답일 확률, 두번째 원소 P2가 setosa가 정답일 확률, 세번째 원소 P3가 vesicolor가 정답일 확률을 의미한다고 할 때, 각 실제값의 정수 인코딩 1, 2, 3이 되고 이에 One-Hot 인코딩을 수행하여 실제값을 One-Hot 백터로 수치화한 것을 보여준다."
   ]
  },
  {
   "cell_type": "markdown",
   "metadata": {},
   "source": [
    "![Alt text]( softmax4_final.png )\n",
    "\n",
    "- 예로 iris 데이터셋의 샘플 데이터 실제값이 setosa라면 setosa의 One=Hot백터는 [ 0 1 0 ]이다. 이 경우 예측값과 실제값의 오차가 0이 되는 경우는 소프트맥스 함수의 결과가 [ 0 1 0 ]이 되는 경우이다.\n",
    "- 이 두 백터의 오차를 계산하기 위해서 소프트맥스 회귀는 비용 함수( cost function )로 크로스 엔트로피(cross entopy) 함수를 사용한다.\n",
    "\n",
    "![Alt text]( softmax5_final.png )\n",
    "\n",
    "- 선형 회귀나 로지스틱 회귀와 마찬가지로 오차로부터 가중치를 업데이트 한다.\n",
    "\n",
    "![Alt text]( softmax6_final_2ldz1s0.png )\n",
    "\n",
    "- 선형 회귀나 로지스틱 회귀와 마찬가지로 편향 또한 업데이트 대상이 되는 매개변수이다.\n"
   ]
  },
  {
   "cell_type": "markdown",
   "metadata": {},
   "source": [
    "- 소프트맥스 회귀를 백터와 행렬 연산으로 이해해 보면, 입력을 특성(feature)의 수만큼의 차원을 가진 입력 백터라 x라 하고, 가중치 행렬을 W, 평향을 b라고 하였을 때, 소프트맥스 회귀에서 예측값을 구하는과정을 백터와 행렬 연산으로 표현하면 다음과 같다.\n",
    "\n",
    "![Alt text]( softmax7.png )"
   ]
  },
  {
   "cell_type": "markdown",
   "metadata": {},
   "source": [
    "## 3. 비용 함수 ( Cost Function )\n",
    "\n",
    "- 소프트맥스 회귀의 비용 함수는 크로스엔트로피 함수( crossentropy function )을 사용한다.\n"
   ]
  },
  {
   "cell_type": "markdown",
   "metadata": {},
   "source": [
    "### 소프트맥스 회귀 비용 함수 - 크로스엔트로피 함수\n",
    "\n",
    "\\begin{equation*}\n",
    "    cost(W) = -\\sum_{j=1}^k{yj} log(Pj)\n",
    "\\end{equation*}\n",
    "\n",
    "- y는 실제값을 나타내며, k는 클래스의 개수로 정의한다.\n",
    "- yj는 실제값 One_Hot 백터의 j번째 인덱스를 의미하며, Pj는 샘플 데이터가 j번째 클래스일 확률을 나타낸다."
   ]
  },
  {
   "cell_type": "markdown",
   "metadata": {},
   "source": [
    "- c가 실제값 One-Hot 백터에서 1을 가진 원소의 인덱스라고 한다면, Pc = 1은 예측값 y가 실제값 y를 정확하게 예측한 경우가 된다.\n",
    "- 이를 식에 대입하면 -1log( 1 ) = 0이 되기 때문에, 결과적으로 예측값 y가 실제값 y를 정확하게 예측한 경우의 크로스엔트로피 함수의 값은 0이 된다.\n",
    "\n",
    "\n",
    "\\begin{equation*}\n",
    "    즉 -\\sum_{j=1}^k{yj} log(Pj) 이 값을 최소화 하는 방향으로 학습해야 한다.\n",
    "\\end{equation*}\n",
    "\n",
    "- n개의 전체 데이터에 대한 평균을 구한다고 하면 최종 비용 함수\n",
    "\n",
    "\\begin{equation*}\n",
    "    cost(W) = -\\frac {1}{n}\\sum_{i=1}^n\\sum_{j=1}^k{y^{(i)}_j} log(P^{(i)}_j)\n",
    "\\end{equation*}"
   ]
  },
  {
   "cell_type": "markdown",
   "metadata": {},
   "source": [
    "## 4. 소프트맥스 회귀 - 다중 클래스 분류 실습"
   ]
  },
  {
   "cell_type": "markdown",
   "metadata": {},
   "source": [
    "#### 4.1 iris 데이터셋 이해"
   ]
  },
  {
   "cell_type": "code",
   "execution_count": 18,
   "metadata": {},
   "outputs": [],
   "source": [
    "df = pd.read_csv( 'iris.csv', encoding = 'latin1' )"
   ]
  },
  {
   "cell_type": "code",
   "execution_count": 19,
   "metadata": {},
   "outputs": [
    {
     "data": {
      "text/html": [
       "<div>\n",
       "<style scoped>\n",
       "    .dataframe tbody tr th:only-of-type {\n",
       "        vertical-align: middle;\n",
       "    }\n",
       "\n",
       "    .dataframe tbody tr th {\n",
       "        vertical-align: top;\n",
       "    }\n",
       "\n",
       "    .dataframe thead th {\n",
       "        text-align: right;\n",
       "    }\n",
       "</style>\n",
       "<table border=\"1\" class=\"dataframe\">\n",
       "  <thead>\n",
       "    <tr style=\"text-align: right;\">\n",
       "      <th></th>\n",
       "      <th>sepal_length</th>\n",
       "      <th>sepal_width</th>\n",
       "      <th>petal_length</th>\n",
       "      <th>petal_width</th>\n",
       "      <th>species</th>\n",
       "    </tr>\n",
       "  </thead>\n",
       "  <tbody>\n",
       "    <tr>\n",
       "      <th>0</th>\n",
       "      <td>5.1</td>\n",
       "      <td>3.5</td>\n",
       "      <td>1.4</td>\n",
       "      <td>0.2</td>\n",
       "      <td>setosa</td>\n",
       "    </tr>\n",
       "    <tr>\n",
       "      <th>1</th>\n",
       "      <td>4.9</td>\n",
       "      <td>3.0</td>\n",
       "      <td>1.4</td>\n",
       "      <td>0.2</td>\n",
       "      <td>setosa</td>\n",
       "    </tr>\n",
       "    <tr>\n",
       "      <th>2</th>\n",
       "      <td>4.7</td>\n",
       "      <td>3.2</td>\n",
       "      <td>1.3</td>\n",
       "      <td>0.2</td>\n",
       "      <td>setosa</td>\n",
       "    </tr>\n",
       "    <tr>\n",
       "      <th>3</th>\n",
       "      <td>4.6</td>\n",
       "      <td>3.1</td>\n",
       "      <td>1.5</td>\n",
       "      <td>0.2</td>\n",
       "      <td>setosa</td>\n",
       "    </tr>\n",
       "    <tr>\n",
       "      <th>4</th>\n",
       "      <td>5.0</td>\n",
       "      <td>3.6</td>\n",
       "      <td>1.4</td>\n",
       "      <td>0.2</td>\n",
       "      <td>setosa</td>\n",
       "    </tr>\n",
       "  </tbody>\n",
       "</table>\n",
       "</div>"
      ],
      "text/plain": [
       "   sepal_length  sepal_width  petal_length  petal_width species\n",
       "0           5.1          3.5           1.4          0.2  setosa\n",
       "1           4.9          3.0           1.4          0.2  setosa\n",
       "2           4.7          3.2           1.3          0.2  setosa\n",
       "3           4.6          3.1           1.5          0.2  setosa\n",
       "4           5.0          3.6           1.4          0.2  setosa"
      ]
     },
     "execution_count": 19,
     "metadata": {},
     "output_type": "execute_result"
    }
   ],
   "source": [
    "df.head()"
   ]
  },
  {
   "cell_type": "code",
   "execution_count": 20,
   "metadata": {},
   "outputs": [
    {
     "data": {
      "text/plain": [
       "150"
      ]
     },
     "execution_count": 20,
     "metadata": {},
     "output_type": "execute_result"
    }
   ],
   "source": [
    "len(df)"
   ]
  },
  {
   "cell_type": "code",
   "execution_count": 23,
   "metadata": {},
   "outputs": [
    {
     "data": {
      "text/plain": [
       "array(['setosa', 'versicolor', 'virginica'], dtype=object)"
      ]
     },
     "execution_count": 23,
     "metadata": {},
     "output_type": "execute_result"
    }
   ],
   "source": [
    "df[ 'species' ].unique()"
   ]
  },
  {
   "cell_type": "code",
   "execution_count": 22,
   "metadata": {
    "scrolled": true
   },
   "outputs": [
    {
     "data": {
      "text/plain": [
       "<seaborn.axisgrid.PairGrid at 0x26edce72c88>"
      ]
     },
     "execution_count": 22,
     "metadata": {},
     "output_type": "execute_result"
    },
    {
     "data": {
      "image/png": "[encoded data removed]",
      "text/plain": [
       "<Figure size 806.85x720 with 20 Axes>"
      ]
     },
     "metadata": {},
     "output_type": "display_data"
    }
   ],
   "source": [
    "sns.set( style = 'ticks', color_codes =\n",
    "        True )\n",
    "sns.pairplot(df, hue = 'species' )"
   ]
  },
  {
   "cell_type": "code",
   "execution_count": 24,
   "metadata": {},
   "outputs": [
    {
     "data": {
      "text/plain": [
       "<matplotlib.axes._subplots.AxesSubplot at 0x26ede881588>"
      ]
     },
     "execution_count": 24,
     "metadata": {},
     "output_type": "execute_result"
    },
    {
     "data": {
      "image/png": "[encoded data removed]",
      "text/plain": [
       "<Figure size 432x288 with 1 Axes>"
      ]
     },
     "metadata": {},
     "output_type": "display_data"
    }
   ],
   "source": [
    "# 품종과 특성( sepal_width )과의 연관 관계\n",
    "sns.barplot(df['species'], df['sepal_width'], ci = None)"
   ]
  },
  {
   "cell_type": "code",
   "execution_count": 25,
   "metadata": {},
   "outputs": [
    {
     "data": {
      "text/plain": [
       "<matplotlib.axes._subplots.AxesSubplot at 0x26ededbd648>"
      ]
     },
     "execution_count": 25,
     "metadata": {},
     "output_type": "execute_result"
    },
    {
     "data": {
      "image/png": "[encoded data removed]",
      "text/plain": [
       "<Figure size 432x288 with 1 Axes>"
      ]
     },
     "metadata": {},
     "output_type": "display_data"
    }
   ],
   "source": [
    "df[ 'species' ].value_counts().plot( kind = 'bar' )"
   ]
  },
  {
   "cell_type": "code",
   "execution_count": 26,
   "metadata": {},
   "outputs": [
    {
     "data": {
      "text/plain": [
       "<matplotlib.axes._subplots.AxesSubplot at 0x26edee2f848>"
      ]
     },
     "execution_count": 26,
     "metadata": {},
     "output_type": "execute_result"
    },
    {
     "data": {
      "image/png": "[encoded data removed]",
      "text/plain": [
       "<Figure size 432x288 with 1 Axes>"
      ]
     },
     "metadata": {},
     "output_type": "display_data"
    }
   ],
   "source": [
    "df[ 'species' ] = df[ 'species' ].replace( ['virginica', 'setosa', 'versicolor'], [ 0, 1, 2 ])\n",
    "df[ 'species' ].value_counts().plot( kind = 'bar' )"
   ]
  },
  {
   "cell_type": "code",
   "execution_count": 27,
   "metadata": {},
   "outputs": [],
   "source": [
    "X = df[ [ 'sepal_length', 'sepal_width', 'petal_length', 'petal_width' ] ].values\n",
    "y = df[ 'species' ].values"
   ]
  },
  {
   "cell_type": "code",
   "execution_count": 28,
   "metadata": {},
   "outputs": [
    {
     "name": "stdout",
     "output_type": "stream",
     "text": [
      "[[5.1 3.5 1.4 0.2]\n",
      " [4.9 3.  1.4 0.2]\n",
      " [4.7 3.2 1.3 0.2]\n",
      " [4.6 3.1 1.5 0.2]\n",
      " [5.  3.6 1.4 0.2]]\n",
      "[1 1 1 1 1]\n"
     ]
    }
   ],
   "source": [
    "print( X[ :5 ] )\n",
    "print( y[ :5 ] )"
   ]
  },
  {
   "cell_type": "code",
   "execution_count": 29,
   "metadata": {},
   "outputs": [],
   "source": [
    "X_train, X_test, y_train, y_test = train_test_split( X, y, train_size = 0.8,\n",
    "                                                     random_state = 1234)"
   ]
  },
  {
   "cell_type": "code",
   "execution_count": 30,
   "metadata": {},
   "outputs": [],
   "source": [
    "from tensorflow.keras.utils import to_categorical"
   ]
  },
  {
   "cell_type": "code",
   "execution_count": 31,
   "metadata": {},
   "outputs": [],
   "source": [
    "# y에 대한 One-Hot encoding\n",
    "y_train = to_categorical( y_train )\n",
    "y_test = to_categorical( y_test )"
   ]
  },
  {
   "cell_type": "code",
   "execution_count": 32,
   "metadata": {},
   "outputs": [
    {
     "name": "stdout",
     "output_type": "stream",
     "text": [
      "[[0. 0. 1.]\n",
      " [1. 0. 0.]\n",
      " [0. 1. 0.]\n",
      " [1. 0. 0.]\n",
      " [0. 0. 1.]]\n",
      "[[0. 0. 1.]\n",
      " [0. 0. 1.]\n",
      " [1. 0. 0.]\n",
      " [0. 1. 0.]\n",
      " [0. 0. 1.]]\n"
     ]
    }
   ],
   "source": [
    "print( y_train[ :5 ] )\n",
    "print( y_test[ :5 ] )"
   ]
  },
  {
   "cell_type": "markdown",
   "metadata": {},
   "source": [
    "### 4.2 소프트맥스 회귀 모델"
   ]
  },
  {
   "cell_type": "markdown",
   "metadata": {},
   "source": [
    "- 활성화 함수( activation function, Hypethosis ) : softmax\n",
    "- 학습률( learning rate ) : 0.01\n",
    "- 손실 함수( loss function ) : cross-entropy function\n",
    "- 옵티마이저( optimizer ) : adam( 경사하강법의 한 종류 )\n",
    "- 배치사이즈 (batch size) : 1\n",
    "- 에포크(epochs) : 200"
   ]
  },
  {
   "cell_type": "code",
   "execution_count": 43,
   "metadata": {},
   "outputs": [
    {
     "name": "stdout",
     "output_type": "stream",
     "text": [
      "Train on 96 samples, validate on 24 samples\n",
      "Epoch 1/200\n",
      "96/96 [==============================] - 1s 6ms/sample - loss: 2.3698 - accuracy: 0.2083 - val_loss: 2.4980 - val_accuracy: 0.0833\n",
      "Epoch 2/200\n",
      "96/96 [==============================] - 0s 1ms/sample - loss: 2.1116 - accuracy: 0.1979 - val_loss: 2.2279 - val_accuracy: 0.0417\n",
      "Epoch 3/200\n",
      "96/96 [==============================] - 0s 1ms/sample - loss: 1.9054 - accuracy: 0.1667 - val_loss: 2.0063 - val_accuracy: 0.0417\n",
      "Epoch 4/200\n",
      "96/96 [==============================] - 0s 1ms/sample - loss: 1.7516 - accuracy: 0.1458 - val_loss: 1.8345 - val_accuracy: 0.0417\n",
      "Epoch 5/200\n",
      "96/96 [==============================] - 0s 1ms/sample - loss: 1.6289 - accuracy: 0.1562 - val_loss: 1.6970 - val_accuracy: 0.0000e+00\n",
      "Epoch 6/200\n",
      "96/96 [==============================] - 0s 1ms/sample - loss: 1.5375 - accuracy: 0.1146 - val_loss: 1.6003 - val_accuracy: 0.0000e+00\n",
      "Epoch 7/200\n",
      "96/96 [==============================] - 0s 1ms/sample - loss: 1.4605 - accuracy: 0.1042 - val_loss: 1.5208 - val_accuracy: 0.0417\n",
      "Epoch 8/200\n",
      "96/96 [==============================] - 0s 1ms/sample - loss: 1.3883 - accuracy: 0.1042 - val_loss: 1.4481 - val_accuracy: 0.0000e+00\n",
      "Epoch 9/200\n",
      "96/96 [==============================] - 0s 1ms/sample - loss: 1.3219 - accuracy: 0.0833 - val_loss: 1.3761 - val_accuracy: 0.0000e+00\n",
      "Epoch 10/200\n",
      "96/96 [==============================] - 0s 1ms/sample - loss: 1.2678 - accuracy: 0.0729 - val_loss: 1.3223 - val_accuracy: 0.0000e+00\n",
      "Epoch 11/200\n",
      "96/96 [==============================] - 0s 1ms/sample - loss: 1.2149 - accuracy: 0.0521 - val_loss: 1.2534 - val_accuracy: 0.0000e+00\n",
      "Epoch 12/200\n",
      "96/96 [==============================] - 0s 1ms/sample - loss: 1.1660 - accuracy: 0.0833 - val_loss: 1.2144 - val_accuracy: 0.0000e+00\n",
      "Epoch 13/200\n",
      "96/96 [==============================] - 0s 1ms/sample - loss: 1.1214 - accuracy: 0.0729 - val_loss: 1.1639 - val_accuracy: 0.0000e+00\n",
      "Epoch 14/200\n",
      "96/96 [==============================] - 0s 1ms/sample - loss: 1.0753 - accuracy: 0.1042 - val_loss: 1.1224 - val_accuracy: 0.1667\n",
      "Epoch 15/200\n",
      "96/96 [==============================] - 0s 1ms/sample - loss: 1.0408 - accuracy: 0.2708 - val_loss: 1.0777 - val_accuracy: 0.3750\n",
      "Epoch 16/200\n",
      "96/96 [==============================] - 0s 1ms/sample - loss: 1.0044 - accuracy: 0.3438 - val_loss: 1.0441 - val_accuracy: 0.3750\n",
      "Epoch 17/200\n",
      "96/96 [==============================] - 0s 1ms/sample - loss: 0.9741 - accuracy: 0.3750 - val_loss: 1.0115 - val_accuracy: 0.3750\n",
      "Epoch 18/200\n",
      "96/96 [==============================] - 0s 1ms/sample - loss: 0.9468 - accuracy: 0.3646 - val_loss: 0.9811 - val_accuracy: 0.3750\n",
      "Epoch 19/200\n",
      "96/96 [==============================] - 0s 1ms/sample - loss: 0.9153 - accuracy: 0.3958 - val_loss: 0.9507 - val_accuracy: 0.3750\n",
      "Epoch 20/200\n",
      "96/96 [==============================] - 0s 1ms/sample - loss: 0.8945 - accuracy: 0.4375 - val_loss: 0.9300 - val_accuracy: 0.3750\n",
      "Epoch 21/200\n",
      "96/96 [==============================] - 0s 1ms/sample - loss: 0.8751 - accuracy: 0.3750 - val_loss: 0.9104 - val_accuracy: 0.3750\n",
      "Epoch 22/200\n",
      "96/96 [==============================] - 0s 1ms/sample - loss: 0.8498 - accuracy: 0.3750 - val_loss: 0.8800 - val_accuracy: 0.3750\n",
      "Epoch 23/200\n",
      "96/96 [==============================] - 0s 1ms/sample - loss: 0.8307 - accuracy: 0.4167 - val_loss: 0.8591 - val_accuracy: 0.3750\n",
      "Epoch 24/200\n",
      "96/96 [==============================] - 0s 1ms/sample - loss: 0.8132 - accuracy: 0.4271 - val_loss: 0.8399 - val_accuracy: 0.3750\n",
      "Epoch 25/200\n",
      "96/96 [==============================] - 0s 1ms/sample - loss: 0.8002 - accuracy: 0.4479 - val_loss: 0.8191 - val_accuracy: 0.4167\n",
      "Epoch 26/200\n",
      "96/96 [==============================] - 0s 1ms/sample - loss: 0.7822 - accuracy: 0.4375 - val_loss: 0.8058 - val_accuracy: 0.3750\n",
      "Epoch 27/200\n",
      "96/96 [==============================] - 0s 1ms/sample - loss: 0.7676 - accuracy: 0.4688 - val_loss: 0.7936 - val_accuracy: 0.3750\n",
      "Epoch 28/200\n",
      "96/96 [==============================] - 0s 1ms/sample - loss: 0.7537 - accuracy: 0.4688 - val_loss: 0.7763 - val_accuracy: 0.3750\n",
      "Epoch 29/200\n",
      "96/96 [==============================] - 0s 1ms/sample - loss: 0.7422 - accuracy: 0.4583 - val_loss: 0.7702 - val_accuracy: 0.3750\n",
      "Epoch 30/200\n",
      "96/96 [==============================] - 0s 1ms/sample - loss: 0.7326 - accuracy: 0.4271 - val_loss: 0.7442 - val_accuracy: 0.4583\n",
      "Epoch 31/200\n",
      "96/96 [==============================] - 0s 1ms/sample - loss: 0.7166 - accuracy: 0.5000 - val_loss: 0.7345 - val_accuracy: 0.4167\n",
      "Epoch 32/200\n",
      "96/96 [==============================] - 0s 1ms/sample - loss: 0.7097 - accuracy: 0.4688 - val_loss: 0.7240 - val_accuracy: 0.4167\n",
      "Epoch 33/200\n",
      "96/96 [==============================] - 0s 1ms/sample - loss: 0.6998 - accuracy: 0.5208 - val_loss: 0.7086 - val_accuracy: 0.4583\n",
      "Epoch 34/200\n",
      "96/96 [==============================] - 0s 1ms/sample - loss: 0.6868 - accuracy: 0.4688 - val_loss: 0.6989 - val_accuracy: 0.4583\n",
      "Epoch 35/200\n",
      "96/96 [==============================] - 0s 1ms/sample - loss: 0.6793 - accuracy: 0.4583 - val_loss: 0.6921 - val_accuracy: 0.4167\n",
      "Epoch 36/200\n",
      "96/96 [==============================] - 0s 1ms/sample - loss: 0.6683 - accuracy: 0.5312 - val_loss: 0.6756 - val_accuracy: 0.4583\n",
      "Epoch 37/200\n",
      "96/96 [==============================] - 0s 1ms/sample - loss: 0.6624 - accuracy: 0.5312 - val_loss: 0.6652 - val_accuracy: 0.5417\n",
      "Epoch 38/200\n",
      "96/96 [==============================] - 0s 1ms/sample - loss: 0.6505 - accuracy: 0.5104 - val_loss: 0.6649 - val_accuracy: 0.4167\n",
      "Epoch 39/200\n",
      "96/96 [==============================] - 0s 1ms/sample - loss: 0.6485 - accuracy: 0.4792 - val_loss: 0.6557 - val_accuracy: 0.4583\n",
      "Epoch 40/200\n",
      "96/96 [==============================] - 0s 1ms/sample - loss: 0.6389 - accuracy: 0.5417 - val_loss: 0.6433 - val_accuracy: 0.4583\n",
      "Epoch 41/200\n",
      "96/96 [==============================] - 0s 1ms/sample - loss: 0.6313 - accuracy: 0.5000 - val_loss: 0.6352 - val_accuracy: 0.5000\n",
      "Epoch 42/200\n",
      "96/96 [==============================] - 0s 1ms/sample - loss: 0.6238 - accuracy: 0.5208 - val_loss: 0.6255 - val_accuracy: 0.5000\n",
      "Epoch 43/200\n",
      "96/96 [==============================] - 0s 1ms/sample - loss: 0.6226 - accuracy: 0.5208 - val_loss: 0.6171 - val_accuracy: 0.5417\n",
      "Epoch 44/200\n",
      "96/96 [==============================] - 0s 1ms/sample - loss: 0.6141 - accuracy: 0.5625 - val_loss: 0.6080 - val_accuracy: 0.5833\n",
      "Epoch 45/200\n",
      "96/96 [==============================] - 0s 1ms/sample - loss: 0.6089 - accuracy: 0.5312 - val_loss: 0.6040 - val_accuracy: 0.5417\n",
      "Epoch 46/200\n",
      "96/96 [==============================] - 0s 1ms/sample - loss: 0.5996 - accuracy: 0.5521 - val_loss: 0.6020 - val_accuracy: 0.5000\n",
      "Epoch 47/200\n",
      "96/96 [==============================] - 0s 1ms/sample - loss: 0.5932 - accuracy: 0.5521 - val_loss: 0.5922 - val_accuracy: 0.5000\n",
      "Epoch 48/200\n",
      "96/96 [==============================] - 0s 1ms/sample - loss: 0.5879 - accuracy: 0.5729 - val_loss: 0.5823 - val_accuracy: 0.6250\n",
      "Epoch 49/200\n",
      "96/96 [==============================] - 0s 1ms/sample - loss: 0.5854 - accuracy: 0.5521 - val_loss: 0.5772 - val_accuracy: 0.6250\n",
      "Epoch 50/200\n",
      "96/96 [==============================] - 0s 1ms/sample - loss: 0.5811 - accuracy: 0.6042 - val_loss: 0.5783 - val_accuracy: 0.5000\n",
      "Epoch 51/200\n",
      "96/96 [==============================] - 0s 1ms/sample - loss: 0.5727 - accuracy: 0.5000 - val_loss: 0.5713 - val_accuracy: 0.5000\n",
      "Epoch 52/200\n",
      "96/96 [==============================] - 0s 1ms/sample - loss: 0.5707 - accuracy: 0.5104 - val_loss: 0.5592 - val_accuracy: 0.6667\n",
      "Epoch 53/200\n",
      "96/96 [==============================] - 0s 1ms/sample - loss: 0.5644 - accuracy: 0.6146 - val_loss: 0.5524 - val_accuracy: 0.7083\n",
      "Epoch 54/200\n",
      "96/96 [==============================] - 0s 1ms/sample - loss: 0.5599 - accuracy: 0.5729 - val_loss: 0.5465 - val_accuracy: 0.7083\n",
      "Epoch 55/200\n",
      "96/96 [==============================] - 0s 1ms/sample - loss: 0.5532 - accuracy: 0.5938 - val_loss: 0.5418 - val_accuracy: 0.7083\n",
      "Epoch 56/200\n",
      "96/96 [==============================] - 0s 1ms/sample - loss: 0.5505 - accuracy: 0.5938 - val_loss: 0.5386 - val_accuracy: 0.7083\n",
      "Epoch 57/200\n"
     ]
    },
    {
     "name": "stdout",
     "output_type": "stream",
     "text": [
      "96/96 [==============================] - 0s 1ms/sample - loss: 0.5448 - accuracy: 0.5833 - val_loss: 0.5355 - val_accuracy: 0.6667\n",
      "Epoch 58/200\n",
      "96/96 [==============================] - 0s 1ms/sample - loss: 0.5423 - accuracy: 0.5938 - val_loss: 0.5310 - val_accuracy: 0.6667\n",
      "Epoch 59/200\n",
      "96/96 [==============================] - 0s 1ms/sample - loss: 0.5365 - accuracy: 0.5938 - val_loss: 0.5239 - val_accuracy: 0.7083\n",
      "Epoch 60/200\n",
      "96/96 [==============================] - 0s 1ms/sample - loss: 0.5335 - accuracy: 0.6354 - val_loss: 0.5179 - val_accuracy: 0.7083\n",
      "Epoch 61/200\n",
      "96/96 [==============================] - 0s 1ms/sample - loss: 0.5316 - accuracy: 0.5833 - val_loss: 0.5130 - val_accuracy: 0.7083\n",
      "Epoch 62/200\n",
      "96/96 [==============================] - 0s 1ms/sample - loss: 0.5248 - accuracy: 0.6146 - val_loss: 0.5101 - val_accuracy: 0.7083\n",
      "Epoch 63/200\n",
      "96/96 [==============================] - 0s 1ms/sample - loss: 0.5203 - accuracy: 0.6250 - val_loss: 0.5068 - val_accuracy: 0.7083\n",
      "Epoch 64/200\n",
      "96/96 [==============================] - 0s 1ms/sample - loss: 0.5230 - accuracy: 0.6667 - val_loss: 0.5028 - val_accuracy: 0.7083\n",
      "Epoch 65/200\n",
      "96/96 [==============================] - 0s 1ms/sample - loss: 0.5132 - accuracy: 0.6354 - val_loss: 0.4967 - val_accuracy: 0.7500\n",
      "Epoch 66/200\n",
      "96/96 [==============================] - 0s 1ms/sample - loss: 0.5126 - accuracy: 0.6146 - val_loss: 0.4942 - val_accuracy: 0.7083\n",
      "Epoch 67/200\n",
      "96/96 [==============================] - 0s 1ms/sample - loss: 0.5077 - accuracy: 0.6250 - val_loss: 0.4925 - val_accuracy: 0.7083\n",
      "Epoch 68/200\n",
      "96/96 [==============================] - 0s 1ms/sample - loss: 0.5049 - accuracy: 0.7083 - val_loss: 0.4865 - val_accuracy: 0.7083\n",
      "Epoch 69/200\n",
      "96/96 [==============================] - 0s 1ms/sample - loss: 0.5012 - accuracy: 0.6667 - val_loss: 0.4859 - val_accuracy: 0.6667\n",
      "Epoch 70/200\n",
      "96/96 [==============================] - 0s 1ms/sample - loss: 0.4984 - accuracy: 0.6667 - val_loss: 0.4765 - val_accuracy: 0.7500\n",
      "Epoch 71/200\n",
      "96/96 [==============================] - 0s 1ms/sample - loss: 0.4947 - accuracy: 0.6562 - val_loss: 0.4703 - val_accuracy: 0.7500\n",
      "Epoch 72/200\n",
      "96/96 [==============================] - 0s 1ms/sample - loss: 0.4888 - accuracy: 0.6458 - val_loss: 0.4670 - val_accuracy: 0.7500\n",
      "Epoch 73/200\n",
      "96/96 [==============================] - 0s 1ms/sample - loss: 0.4864 - accuracy: 0.6875 - val_loss: 0.4664 - val_accuracy: 0.7500\n",
      "Epoch 74/200\n",
      "96/96 [==============================] - 0s 1ms/sample - loss: 0.4827 - accuracy: 0.6875 - val_loss: 0.4626 - val_accuracy: 0.7500\n",
      "Epoch 75/200\n",
      "96/96 [==============================] - 0s 1ms/sample - loss: 0.4821 - accuracy: 0.6979 - val_loss: 0.4536 - val_accuracy: 0.7500\n",
      "Epoch 76/200\n",
      "96/96 [==============================] - 0s 1ms/sample - loss: 0.4806 - accuracy: 0.6875 - val_loss: 0.4495 - val_accuracy: 0.7500\n",
      "Epoch 77/200\n",
      "96/96 [==============================] - 0s 1ms/sample - loss: 0.4761 - accuracy: 0.6771 - val_loss: 0.4461 - val_accuracy: 0.7500\n",
      "Epoch 78/200\n",
      "96/96 [==============================] - 0s 1ms/sample - loss: 0.4734 - accuracy: 0.7188 - val_loss: 0.4473 - val_accuracy: 0.7500\n",
      "Epoch 79/200\n",
      "96/96 [==============================] - 0s 1ms/sample - loss: 0.4700 - accuracy: 0.7292 - val_loss: 0.4439 - val_accuracy: 0.7500\n",
      "Epoch 80/200\n",
      "96/96 [==============================] - 0s 1ms/sample - loss: 0.4669 - accuracy: 0.7083 - val_loss: 0.4374 - val_accuracy: 0.7500\n",
      "Epoch 81/200\n",
      "96/96 [==============================] - 0s 1ms/sample - loss: 0.4633 - accuracy: 0.7500 - val_loss: 0.4332 - val_accuracy: 0.7500\n",
      "Epoch 82/200\n",
      "96/96 [==============================] - 0s 1ms/sample - loss: 0.4593 - accuracy: 0.7188 - val_loss: 0.4313 - val_accuracy: 0.7500\n",
      "Epoch 83/200\n",
      "96/96 [==============================] - 0s 1ms/sample - loss: 0.4586 - accuracy: 0.6979 - val_loss: 0.4329 - val_accuracy: 0.7917\n",
      "Epoch 84/200\n",
      "96/96 [==============================] - 0s 1ms/sample - loss: 0.4557 - accuracy: 0.7708 - val_loss: 0.4287 - val_accuracy: 0.7500\n",
      "Epoch 85/200\n",
      "96/96 [==============================] - 0s 1ms/sample - loss: 0.4512 - accuracy: 0.7917 - val_loss: 0.4239 - val_accuracy: 0.7500\n",
      "Epoch 86/200\n",
      "96/96 [==============================] - 0s 1ms/sample - loss: 0.4505 - accuracy: 0.7812 - val_loss: 0.4177 - val_accuracy: 0.7500\n",
      "Epoch 87/200\n",
      "96/96 [==============================] - 0s 1ms/sample - loss: 0.4507 - accuracy: 0.7500 - val_loss: 0.4130 - val_accuracy: 0.7500\n",
      "Epoch 88/200\n",
      "96/96 [==============================] - 0s 1ms/sample - loss: 0.4439 - accuracy: 0.7083 - val_loss: 0.4119 - val_accuracy: 0.7500\n",
      "Epoch 89/200\n",
      "96/96 [==============================] - 0s 1ms/sample - loss: 0.4403 - accuracy: 0.7708 - val_loss: 0.4107 - val_accuracy: 0.7917\n",
      "Epoch 90/200\n",
      "96/96 [==============================] - 0s 1ms/sample - loss: 0.4399 - accuracy: 0.7812 - val_loss: 0.4134 - val_accuracy: 0.8333\n",
      "Epoch 91/200\n",
      "96/96 [==============================] - 0s 1ms/sample - loss: 0.4392 - accuracy: 0.7812 - val_loss: 0.4071 - val_accuracy: 0.8333\n",
      "Epoch 92/200\n",
      "96/96 [==============================] - 0s 1ms/sample - loss: 0.4396 - accuracy: 0.8021 - val_loss: 0.3985 - val_accuracy: 0.7500\n",
      "Epoch 93/200\n",
      "96/96 [==============================] - 0s 1ms/sample - loss: 0.4327 - accuracy: 0.7708 - val_loss: 0.3973 - val_accuracy: 0.7917\n",
      "Epoch 94/200\n",
      "96/96 [==============================] - 0s 1ms/sample - loss: 0.4330 - accuracy: 0.8229 - val_loss: 0.3949 - val_accuracy: 0.8333\n",
      "Epoch 95/200\n",
      "96/96 [==============================] - 0s 1ms/sample - loss: 0.4298 - accuracy: 0.7917 - val_loss: 0.3917 - val_accuracy: 0.8333\n",
      "Epoch 96/200\n",
      "96/96 [==============================] - 0s 1ms/sample - loss: 0.4291 - accuracy: 0.7812 - val_loss: 0.3872 - val_accuracy: 0.7917\n",
      "Epoch 97/200\n",
      "96/96 [==============================] - 0s 1ms/sample - loss: 0.4246 - accuracy: 0.8229 - val_loss: 0.3885 - val_accuracy: 0.8333\n",
      "Epoch 98/200\n",
      "96/96 [==============================] - 0s 1ms/sample - loss: 0.4201 - accuracy: 0.8333 - val_loss: 0.3860 - val_accuracy: 0.8333\n",
      "Epoch 99/200\n",
      "96/96 [==============================] - 0s 1ms/sample - loss: 0.4181 - accuracy: 0.7812 - val_loss: 0.3850 - val_accuracy: 0.8333\n",
      "Epoch 100/200\n",
      "96/96 [==============================] - 0s 1ms/sample - loss: 0.4170 - accuracy: 0.8438 - val_loss: 0.3794 - val_accuracy: 0.8333\n",
      "Epoch 101/200\n",
      "96/96 [==============================] - 0s 1ms/sample - loss: 0.4173 - accuracy: 0.8333 - val_loss: 0.3747 - val_accuracy: 0.8333\n",
      "Epoch 102/200\n",
      "96/96 [==============================] - 0s 1ms/sample - loss: 0.4116 - accuracy: 0.8021 - val_loss: 0.3710 - val_accuracy: 0.8333\n",
      "Epoch 103/200\n",
      "96/96 [==============================] - 0s 1ms/sample - loss: 0.4122 - accuracy: 0.8229 - val_loss: 0.3709 - val_accuracy: 0.8333\n",
      "Epoch 104/200\n",
      "96/96 [==============================] - 0s 1ms/sample - loss: 0.4070 - accuracy: 0.8438 - val_loss: 0.3705 - val_accuracy: 0.8333\n",
      "Epoch 105/200\n",
      "96/96 [==============================] - 0s 1ms/sample - loss: 0.4051 - accuracy: 0.8333 - val_loss: 0.3681 - val_accuracy: 0.8333\n",
      "Epoch 106/200\n",
      "96/96 [==============================] - 0s 1ms/sample - loss: 0.4032 - accuracy: 0.8438 - val_loss: 0.3634 - val_accuracy: 0.8333\n",
      "Epoch 107/200\n",
      "96/96 [==============================] - 0s 1ms/sample - loss: 0.3997 - accuracy: 0.8854 - val_loss: 0.3620 - val_accuracy: 0.8333\n",
      "Epoch 108/200\n",
      "96/96 [==============================] - 0s 1ms/sample - loss: 0.4064 - accuracy: 0.8229 - val_loss: 0.3614 - val_accuracy: 0.9167\n",
      "Epoch 109/200\n",
      "96/96 [==============================] - 0s 1ms/sample - loss: 0.3965 - accuracy: 0.8438 - val_loss: 0.3580 - val_accuracy: 0.8333\n",
      "Epoch 110/200\n",
      "96/96 [==============================] - 0s 1ms/sample - loss: 0.3958 - accuracy: 0.8854 - val_loss: 0.3535 - val_accuracy: 0.8333\n",
      "Epoch 111/200\n",
      "96/96 [==============================] - 0s 1ms/sample - loss: 0.3923 - accuracy: 0.8750 - val_loss: 0.3526 - val_accuracy: 0.8333\n",
      "Epoch 112/200\n",
      "96/96 [==============================] - 0s 1ms/sample - loss: 0.3918 - accuracy: 0.8750 - val_loss: 0.3471 - val_accuracy: 0.8333\n",
      "Epoch 113/200\n",
      "96/96 [==============================] - 0s 1ms/sample - loss: 0.3901 - accuracy: 0.8542 - val_loss: 0.3533 - val_accuracy: 0.9583\n"
     ]
    },
    {
     "name": "stdout",
     "output_type": "stream",
     "text": [
      "Epoch 114/200\n",
      "96/96 [==============================] - 0s 1ms/sample - loss: 0.3902 - accuracy: 0.8646 - val_loss: 0.3459 - val_accuracy: 0.9583\n",
      "Epoch 115/200\n",
      "96/96 [==============================] - 0s 1ms/sample - loss: 0.3869 - accuracy: 0.8958 - val_loss: 0.3422 - val_accuracy: 0.8750\n",
      "Epoch 116/200\n",
      "96/96 [==============================] - 0s 1ms/sample - loss: 0.3831 - accuracy: 0.8750 - val_loss: 0.3376 - val_accuracy: 0.8333\n",
      "Epoch 117/200\n",
      "96/96 [==============================] - 0s 1ms/sample - loss: 0.3810 - accuracy: 0.8750 - val_loss: 0.3356 - val_accuracy: 0.8333\n",
      "Epoch 118/200\n",
      "96/96 [==============================] - 0s 1ms/sample - loss: 0.3796 - accuracy: 0.8854 - val_loss: 0.3339 - val_accuracy: 0.8750\n",
      "Epoch 119/200\n",
      "96/96 [==============================] - 0s 1ms/sample - loss: 0.3784 - accuracy: 0.8750 - val_loss: 0.3342 - val_accuracy: 0.9583\n",
      "Epoch 120/200\n",
      "96/96 [==============================] - 0s 1ms/sample - loss: 0.3753 - accuracy: 0.8958 - val_loss: 0.3321 - val_accuracy: 0.9583\n",
      "Epoch 121/200\n",
      "96/96 [==============================] - 0s 1ms/sample - loss: 0.3759 - accuracy: 0.8854 - val_loss: 0.3387 - val_accuracy: 1.0000\n",
      "Epoch 122/200\n",
      "96/96 [==============================] - 0s 1ms/sample - loss: 0.3706 - accuracy: 0.9375 - val_loss: 0.3246 - val_accuracy: 0.8750\n",
      "Epoch 123/200\n",
      "96/96 [==============================] - 0s 1ms/sample - loss: 0.3700 - accuracy: 0.9062 - val_loss: 0.3224 - val_accuracy: 0.8750\n",
      "Epoch 124/200\n",
      "96/96 [==============================] - 0s 1ms/sample - loss: 0.3683 - accuracy: 0.8958 - val_loss: 0.3247 - val_accuracy: 0.9583\n",
      "Epoch 125/200\n",
      "96/96 [==============================] - 0s 1ms/sample - loss: 0.3662 - accuracy: 0.9062 - val_loss: 0.3183 - val_accuracy: 0.9167\n",
      "Epoch 126/200\n",
      "96/96 [==============================] - 0s 1ms/sample - loss: 0.3678 - accuracy: 0.8854 - val_loss: 0.3200 - val_accuracy: 0.9583\n",
      "Epoch 127/200\n",
      "96/96 [==============================] - 0s 1ms/sample - loss: 0.3624 - accuracy: 0.9167 - val_loss: 0.3140 - val_accuracy: 0.9167\n",
      "Epoch 128/200\n",
      "96/96 [==============================] - 0s 1ms/sample - loss: 0.3636 - accuracy: 0.8438 - val_loss: 0.3207 - val_accuracy: 1.0000\n",
      "Epoch 129/200\n",
      "96/96 [==============================] - 0s 1ms/sample - loss: 0.3605 - accuracy: 0.9271 - val_loss: 0.3129 - val_accuracy: 0.9583\n",
      "Epoch 130/200\n",
      "96/96 [==============================] - 0s 1ms/sample - loss: 0.3569 - accuracy: 0.9062 - val_loss: 0.3130 - val_accuracy: 1.0000\n",
      "Epoch 131/200\n",
      "96/96 [==============================] - 0s 1ms/sample - loss: 0.3578 - accuracy: 0.9167 - val_loss: 0.3069 - val_accuracy: 0.9583\n",
      "Epoch 132/200\n",
      "96/96 [==============================] - 0s 1ms/sample - loss: 0.3578 - accuracy: 0.8854 - val_loss: 0.3134 - val_accuracy: 1.0000\n",
      "Epoch 133/200\n",
      "96/96 [==============================] - 0s 1ms/sample - loss: 0.3540 - accuracy: 0.9271 - val_loss: 0.3058 - val_accuracy: 1.0000\n",
      "Epoch 134/200\n",
      "96/96 [==============================] - 0s 1ms/sample - loss: 0.3528 - accuracy: 0.8958 - val_loss: 0.3037 - val_accuracy: 1.0000\n",
      "Epoch 135/200\n",
      "96/96 [==============================] - 0s 1ms/sample - loss: 0.3532 - accuracy: 0.9375 - val_loss: 0.2994 - val_accuracy: 0.9583\n",
      "Epoch 136/200\n",
      "96/96 [==============================] - 0s 1ms/sample - loss: 0.3532 - accuracy: 0.9167 - val_loss: 0.2966 - val_accuracy: 0.9583\n",
      "Epoch 137/200\n",
      "96/96 [==============================] - 0s 1ms/sample - loss: 0.3453 - accuracy: 0.9167 - val_loss: 0.2966 - val_accuracy: 1.0000\n",
      "Epoch 138/200\n",
      "96/96 [==============================] - 0s 1ms/sample - loss: 0.3454 - accuracy: 0.9167 - val_loss: 0.2965 - val_accuracy: 1.0000\n",
      "Epoch 139/200\n",
      "96/96 [==============================] - 0s 1ms/sample - loss: 0.3464 - accuracy: 0.9062 - val_loss: 0.3011 - val_accuracy: 1.0000\n",
      "Epoch 140/200\n",
      "96/96 [==============================] - 0s 1ms/sample - loss: 0.3418 - accuracy: 0.9271 - val_loss: 0.2912 - val_accuracy: 1.0000\n",
      "Epoch 141/200\n",
      "96/96 [==============================] - 0s 1ms/sample - loss: 0.3437 - accuracy: 0.9062 - val_loss: 0.2885 - val_accuracy: 1.0000\n",
      "Epoch 142/200\n",
      "96/96 [==============================] - 0s 1ms/sample - loss: 0.3379 - accuracy: 0.9167 - val_loss: 0.2882 - val_accuracy: 1.0000\n",
      "Epoch 143/200\n",
      "96/96 [==============================] - 0s 1ms/sample - loss: 0.3364 - accuracy: 0.9167 - val_loss: 0.2869 - val_accuracy: 1.0000\n",
      "Epoch 144/200\n",
      "96/96 [==============================] - 0s 1ms/sample - loss: 0.3374 - accuracy: 0.9271 - val_loss: 0.2845 - val_accuracy: 1.0000\n",
      "Epoch 145/200\n",
      "96/96 [==============================] - 0s 1ms/sample - loss: 0.3353 - accuracy: 0.9167 - val_loss: 0.2827 - val_accuracy: 1.0000\n",
      "Epoch 146/200\n",
      "96/96 [==============================] - 0s 1ms/sample - loss: 0.3332 - accuracy: 0.9271 - val_loss: 0.2808 - val_accuracy: 1.0000\n",
      "Epoch 147/200\n",
      "96/96 [==============================] - 0s 1ms/sample - loss: 0.3308 - accuracy: 0.9167 - val_loss: 0.2812 - val_accuracy: 1.0000\n",
      "Epoch 148/200\n",
      "96/96 [==============================] - 0s 1ms/sample - loss: 0.3296 - accuracy: 0.9375 - val_loss: 0.2774 - val_accuracy: 1.0000\n",
      "Epoch 149/200\n",
      "96/96 [==============================] - 0s 1ms/sample - loss: 0.3298 - accuracy: 0.9271 - val_loss: 0.2791 - val_accuracy: 1.0000\n",
      "Epoch 150/200\n",
      "96/96 [==============================] - 0s 1ms/sample - loss: 0.3294 - accuracy: 0.9375 - val_loss: 0.2754 - val_accuracy: 1.0000\n",
      "Epoch 151/200\n",
      "96/96 [==============================] - 0s 1ms/sample - loss: 0.3267 - accuracy: 0.9167 - val_loss: 0.2792 - val_accuracy: 1.0000\n",
      "Epoch 152/200\n",
      "96/96 [==============================] - 0s 1ms/sample - loss: 0.3244 - accuracy: 0.9271 - val_loss: 0.2736 - val_accuracy: 1.0000\n",
      "Epoch 153/200\n",
      "96/96 [==============================] - 0s 1ms/sample - loss: 0.3231 - accuracy: 0.9167 - val_loss: 0.2677 - val_accuracy: 1.0000\n",
      "Epoch 154/200\n",
      "96/96 [==============================] - 0s 1ms/sample - loss: 0.3210 - accuracy: 0.9375 - val_loss: 0.2713 - val_accuracy: 1.0000\n",
      "Epoch 155/200\n",
      "96/96 [==============================] - 0s 1ms/sample - loss: 0.3208 - accuracy: 0.9375 - val_loss: 0.2667 - val_accuracy: 1.0000\n",
      "Epoch 156/200\n",
      "96/96 [==============================] - 0s 1ms/sample - loss: 0.3176 - accuracy: 0.9479 - val_loss: 0.2639 - val_accuracy: 1.0000\n",
      "Epoch 157/200\n",
      "96/96 [==============================] - 0s 1ms/sample - loss: 0.3174 - accuracy: 0.9167 - val_loss: 0.2611 - val_accuracy: 1.0000\n",
      "Epoch 158/200\n",
      "96/96 [==============================] - 0s 1ms/sample - loss: 0.3172 - accuracy: 0.9271 - val_loss: 0.2592 - val_accuracy: 1.0000\n",
      "Epoch 159/200\n",
      "96/96 [==============================] - 0s 1ms/sample - loss: 0.3158 - accuracy: 0.9375 - val_loss: 0.2594 - val_accuracy: 1.0000\n",
      "Epoch 160/200\n",
      "96/96 [==============================] - 0s 1ms/sample - loss: 0.3122 - accuracy: 0.9271 - val_loss: 0.2567 - val_accuracy: 1.0000\n",
      "Epoch 161/200\n",
      "96/96 [==============================] - 0s 1ms/sample - loss: 0.3131 - accuracy: 0.9271 - val_loss: 0.2558 - val_accuracy: 1.0000\n",
      "Epoch 162/200\n",
      "96/96 [==============================] - 0s 1ms/sample - loss: 0.3115 - accuracy: 0.9167 - val_loss: 0.2539 - val_accuracy: 1.0000\n",
      "Epoch 163/200\n",
      "96/96 [==============================] - 0s 1ms/sample - loss: 0.3105 - accuracy: 0.9271 - val_loss: 0.2563 - val_accuracy: 1.0000\n",
      "Epoch 164/200\n",
      "96/96 [==============================] - 0s 1ms/sample - loss: 0.3101 - accuracy: 0.9375 - val_loss: 0.2528 - val_accuracy: 1.0000\n",
      "Epoch 165/200\n",
      "96/96 [==============================] - 0s 1ms/sample - loss: 0.3065 - accuracy: 0.9375 - val_loss: 0.2525 - val_accuracy: 1.0000\n",
      "Epoch 166/200\n",
      "96/96 [==============================] - 0s 1ms/sample - loss: 0.3063 - accuracy: 0.9375 - val_loss: 0.2494 - val_accuracy: 1.0000\n",
      "Epoch 167/200\n",
      "96/96 [==============================] - 0s 1ms/sample - loss: 0.3044 - accuracy: 0.9271 - val_loss: 0.2489 - val_accuracy: 1.0000\n",
      "Epoch 168/200\n",
      "96/96 [==============================] - 0s 1ms/sample - loss: 0.3027 - accuracy: 0.9167 - val_loss: 0.2445 - val_accuracy: 1.0000\n",
      "Epoch 169/200\n",
      "96/96 [==============================] - 0s 1ms/sample - loss: 0.3014 - accuracy: 0.9375 - val_loss: 0.2436 - val_accuracy: 1.0000\n",
      "Epoch 170/200\n"
     ]
    },
    {
     "name": "stdout",
     "output_type": "stream",
     "text": [
      "96/96 [==============================] - 0s 1ms/sample - loss: 0.2999 - accuracy: 0.9271 - val_loss: 0.2427 - val_accuracy: 1.0000\n",
      "Epoch 171/200\n",
      "96/96 [==============================] - 0s 1ms/sample - loss: 0.3004 - accuracy: 0.9479 - val_loss: 0.2402 - val_accuracy: 1.0000\n",
      "Epoch 172/200\n",
      "96/96 [==============================] - 0s 1ms/sample - loss: 0.2999 - accuracy: 0.9375 - val_loss: 0.2400 - val_accuracy: 1.0000\n",
      "Epoch 173/200\n",
      "96/96 [==============================] - 0s 1ms/sample - loss: 0.2973 - accuracy: 0.9375 - val_loss: 0.2384 - val_accuracy: 1.0000\n",
      "Epoch 174/200\n",
      "96/96 [==============================] - 0s 1ms/sample - loss: 0.2983 - accuracy: 0.9271 - val_loss: 0.2435 - val_accuracy: 1.0000\n",
      "Epoch 175/200\n",
      "96/96 [==============================] - 0s 1ms/sample - loss: 0.2950 - accuracy: 0.9271 - val_loss: 0.2372 - val_accuracy: 1.0000\n",
      "Epoch 176/200\n",
      "96/96 [==============================] - 0s 1ms/sample - loss: 0.2962 - accuracy: 0.9375 - val_loss: 0.2335 - val_accuracy: 1.0000\n",
      "Epoch 177/200\n",
      "96/96 [==============================] - 0s 1ms/sample - loss: 0.2943 - accuracy: 0.9375 - val_loss: 0.2332 - val_accuracy: 1.0000\n",
      "Epoch 178/200\n",
      "96/96 [==============================] - 0s 1ms/sample - loss: 0.2929 - accuracy: 0.9479 - val_loss: 0.2323 - val_accuracy: 1.0000\n",
      "Epoch 179/200\n",
      "96/96 [==============================] - 0s 1ms/sample - loss: 0.2904 - accuracy: 0.9583 - val_loss: 0.2298 - val_accuracy: 1.0000\n",
      "Epoch 180/200\n",
      "96/96 [==============================] - 0s 1ms/sample - loss: 0.2888 - accuracy: 0.9479 - val_loss: 0.2288 - val_accuracy: 1.0000\n",
      "Epoch 181/200\n",
      "96/96 [==============================] - 0s 1ms/sample - loss: 0.2884 - accuracy: 0.9375 - val_loss: 0.2277 - val_accuracy: 1.0000\n",
      "Epoch 182/200\n",
      "96/96 [==============================] - 0s 1ms/sample - loss: 0.2861 - accuracy: 0.9375 - val_loss: 0.2253 - val_accuracy: 1.0000\n",
      "Epoch 183/200\n",
      "96/96 [==============================] - 0s 1ms/sample - loss: 0.2848 - accuracy: 0.9479 - val_loss: 0.2252 - val_accuracy: 1.0000\n",
      "Epoch 184/200\n",
      "96/96 [==============================] - 0s 1ms/sample - loss: 0.2851 - accuracy: 0.9271 - val_loss: 0.2241 - val_accuracy: 1.0000\n",
      "Epoch 185/200\n",
      "96/96 [==============================] - 0s 1ms/sample - loss: 0.2824 - accuracy: 0.9375 - val_loss: 0.2245 - val_accuracy: 1.0000\n",
      "Epoch 186/200\n",
      "96/96 [==============================] - 0s 1ms/sample - loss: 0.2839 - accuracy: 0.9167 - val_loss: 0.2209 - val_accuracy: 1.0000\n",
      "Epoch 187/200\n",
      "96/96 [==============================] - 0s 1ms/sample - loss: 0.2806 - accuracy: 0.9479 - val_loss: 0.2234 - val_accuracy: 1.0000\n",
      "Epoch 188/200\n",
      "96/96 [==============================] - 0s 1ms/sample - loss: 0.2825 - accuracy: 0.9271 - val_loss: 0.2203 - val_accuracy: 1.0000\n",
      "Epoch 189/200\n",
      "96/96 [==============================] - 0s 1ms/sample - loss: 0.2794 - accuracy: 0.9271 - val_loss: 0.2205 - val_accuracy: 1.0000\n",
      "Epoch 190/200\n",
      "96/96 [==============================] - 0s 1ms/sample - loss: 0.2791 - accuracy: 0.9375 - val_loss: 0.2192 - val_accuracy: 1.0000\n",
      "Epoch 191/200\n",
      "96/96 [==============================] - 0s 1ms/sample - loss: 0.2762 - accuracy: 0.9375 - val_loss: 0.2163 - val_accuracy: 1.0000\n",
      "Epoch 192/200\n",
      "96/96 [==============================] - 0s 1ms/sample - loss: 0.2778 - accuracy: 0.9375 - val_loss: 0.2148 - val_accuracy: 1.0000\n",
      "Epoch 193/200\n",
      "96/96 [==============================] - 0s 1ms/sample - loss: 0.2750 - accuracy: 0.9271 - val_loss: 0.2151 - val_accuracy: 1.0000\n",
      "Epoch 194/200\n",
      "96/96 [==============================] - 0s 1ms/sample - loss: 0.2736 - accuracy: 0.9375 - val_loss: 0.2112 - val_accuracy: 1.0000\n",
      "Epoch 195/200\n",
      "96/96 [==============================] - 0s 1ms/sample - loss: 0.2715 - accuracy: 0.9271 - val_loss: 0.2115 - val_accuracy: 1.0000\n",
      "Epoch 196/200\n",
      "96/96 [==============================] - 0s 1ms/sample - loss: 0.2713 - accuracy: 0.9375 - val_loss: 0.2113 - val_accuracy: 1.0000\n",
      "Epoch 197/200\n",
      "96/96 [==============================] - 0s 1ms/sample - loss: 0.2717 - accuracy: 0.9271 - val_loss: 0.2083 - val_accuracy: 1.0000\n",
      "Epoch 198/200\n",
      "96/96 [==============================] - 0s 1ms/sample - loss: 0.2703 - accuracy: 0.9271 - val_loss: 0.2096 - val_accuracy: 1.0000\n",
      "Epoch 199/200\n",
      "96/96 [==============================] - 0s 1ms/sample - loss: 0.2710 - accuracy: 0.9479 - val_loss: 0.2089 - val_accuracy: 1.0000\n",
      "Epoch 200/200\n",
      "96/96 [==============================] - 0s 1ms/sample - loss: 0.2670 - accuracy: 0.9271 - val_loss: 0.2074 - val_accuracy: 1.0000\n"
     ]
    }
   ],
   "source": [
    "model = Sequential()\n",
    "model.add( Dense( 3, input_dim = 4, activation = 'softmax' ) )  \n",
    "sgd = optimizers.SGD( lr = 0.01 )\n",
    "model.compile( optimizer = 'adam', loss = 'categorical_crossentropy',   \n",
    "               metrics = ['accuracy'] )\n",
    "hist = model.fit( X_train, y_train, batch_size = 1, epochs = 200,\n",
    "                  validation_split = 0.2 )"
   ]
  },
  {
   "cell_type": "code",
   "execution_count": 44,
   "metadata": {},
   "outputs": [],
   "source": [
    "loss = hist.history[ 'loss' ]\n",
    "val_loss = hist.history[ 'val_loss' ]\n",
    "\n",
    "epochs = range( 1, len( hist.history['accuracy'] ) + 1 )"
   ]
  },
  {
   "cell_type": "code",
   "execution_count": 45,
   "metadata": {},
   "outputs": [
    {
     "data": {
      "image/png": "[encoded data removed]",
      "text/plain": [
       "<Figure size 432x288 with 1 Axes>"
      ]
     },
     "metadata": {},
     "output_type": "display_data"
    }
   ],
   "source": [
    "plt.plot( epochs, loss )\n",
    "plt.plot( epochs, val_loss )\n",
    "plt.title( 'Model loss' )\n",
    "plt.xlabel( 'Epochs' )\n",
    "plt.ylabel( 'Loss' )\n",
    "plt.legend( [ 'train', 'val' ], loc = 'upper left' )\n",
    "\n",
    "plt.show()"
   ]
  },
  {
   "cell_type": "code",
   "execution_count": 47,
   "metadata": {},
   "outputs": [
    {
     "name": "stdout",
     "output_type": "stream",
     "text": [
      "30/1 [====================================================================================================================================================================================================================================================================================================================================================================================================================================================================================================================================================================================================================================================================================================================================================================================================================================================================================================================================] - 0s 3ms/sample - loss: 0.2414 - accuracy: 1.0000\n",
      "테스트 정확도 : 1.0000\n"
     ]
    }
   ],
   "source": [
    "print( '테스트 정확도 : {:.4f}'.format( model.evaluate( X_test, y_test )[ 1 ] ) )"
   ]
  },
  {
   "cell_type": "code",
   "execution_count": null,
   "metadata": {},
   "outputs": [],
   "source": []
  },
  {
   "cell_type": "code",
   "execution_count": null,
   "metadata": {},
   "outputs": [],
   "source": []
  },
  {
   "cell_type": "markdown",
   "metadata": {},
   "source": []
  },
  {
   "cell_type": "markdown",
   "metadata": {},
   "source": []
  },
  {
   "cell_type": "markdown",
   "metadata": {},
   "source": []
  },
  {
   "cell_type": "markdown",
   "metadata": {},
   "source": []
  },
  {
   "cell_type": "code",
   "execution_count": null,
   "metadata": {},
   "outputs": [],
   "source": []
  },
  {
   "cell_type": "code",
   "execution_count": null,
   "metadata": {},
   "outputs": [],
   "source": []
  },
  {
   "cell_type": "code",
   "execution_count": null,
   "metadata": {},
   "outputs": [],
   "source": []
  },
  {
   "cell_type": "code",
   "execution_count": null,
   "metadata": {},
   "outputs": [],
   "source": []
  },
  {
   "cell_type": "code",
   "execution_count": null,
   "metadata": {},
   "outputs": [],
   "source": []
  }
 ],
 "metadata": {
  "kernelspec": {
   "display_name": "Python 3",
   "language": "python",
   "name": "python3"
  },
  "language_info": {
   "codemirror_mode": {
    "name": "ipython",
    "version": 3
   },
   "file_extension": ".py",
   "mimetype": "text/x-python",
   "name": "python",
   "nbconvert_exporter": "python",
   "pygments_lexer": "ipython3",
   "version": "3.7.7"
  }
 },
 "nbformat": 4,
 "nbformat_minor": 4
}
