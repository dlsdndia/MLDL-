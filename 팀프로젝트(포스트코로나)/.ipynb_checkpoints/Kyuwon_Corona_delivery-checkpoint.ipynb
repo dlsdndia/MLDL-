{
 "cells": [
  {
   "cell_type": "markdown",
   "metadata": {},
   "source": [
    "# 포스트 코로나 데이터 시각화 경진대회\n",
    "## delivery.csv EDA 및 시각화\n",
    "### 코로나 전후 기준) 현지 시간으로 2020년 1월 30일 국제적 공중보건 비상사태(PHEIC)선포\n",
    "#### = 코로나는 1월 말( 2월 부터 )로 전후를 나눌것"
   ]
  },
  {
   "cell_type": "markdown",
   "metadata": {},
   "source": [
    "### 변수 )\n",
    "\n",
    "SERIAL_NUMBER = 순번   \n",
    "PROCESS_DT = 처리일시   \n",
    "DLVR_RQESTER_ID = 배달요청업체 ID   \n",
    "DLVR_REQUST_STTUS_VALUE = 배달요청상태값 (1:완료, 2:취소, 3:사고, 4:문의)   \n",
    "DLVR_RCEPT_CMPNY_ID = 배달접수회사 ID   \n",
    "DLVR_STORE_ID = 배달상점ID   \n",
    "DLVR_STORE_INDUTY_NM = 배달상점 업종이름   \n",
    "DLVR_STORE_LEGALDONG_CODE = 배달상점 주소 법정동코드   \n",
    "DLVR_STORE_SIDO = 배달상점 주소 법정동 시도명   \n",
    "DLVR_STORE_SIGUNGU = 배달상점 주소 법정동 시군구명   \n",
    "DLVR_STORE_DONG = 배달상점 주소 법정동 읍면동명   \n",
    "DLVR_STORE_RI = 배달상점 주소 법정동 리명   \n",
    "DLVR_STORE_ADSTRD_CODE = 배달상점 주소 행정동 코드   \n",
    "DLVR_STORE_RDNMADR_CODE = 배달상점주소 도로명주소 코드   \n",
    "DLVR_DSTN_LEGALDONG_CODE = 배달목적지 주소 법정동코드   \n",
    "DLVR_DSTN_SIDO = 배달목적지 주소 법정동 시도명   \n",
    "DLVR_DSTN_SIGUNGU = 배달목적지 주소 법정동 시군구명   \n",
    "DLVR_DSTN_DONG = 배달목적지 주소 법정동 읍면동명   \n",
    "DLVR_DSTN_RI = 배달목적지 주소 법정동 리명   \n",
    "DLVR_DSTN_ADSTRD_CODE = 배달목적지 주소 행정동 코드   \n",
    "DLVR_DSTN_RDNMADR_CODE = 배달목적지주소 도로명주소 코드   \n",
    "DLVR_MAN_ID = 배달기사 ID   \n",
    "DLVR_AMOUNT = 배달비용   \n",
    "CALL_RLAY_FEE_AMOUNT = 호출중계수수료금액   \n",
    "GOODS_AMOUNT = 배달상품금액   \n",
    "SETLE_KND_VALUE = 결제종류번호 (1:카드, 2:선불, 3:현금)   \n",
    "SETLE_CARD_CN = 결제카드종류   \n",
    "DLVR_RCEPT_TIME = 배달접수시간   \n",
    "DLVR_CARALC_TIME = 배달배차시간   \n",
    "DLVR_COMPT_TIME = 배달완료시간   \n",
    "DLVR_CANCL_TIME = 배달취소시간   "
   ]
  },
  {
   "cell_type": "markdown",
   "metadata": {},
   "source": [
    "# 0. 라이브러리"
   ]
  },
  {
   "cell_type": "code",
   "execution_count": 1,
   "metadata": {},
   "outputs": [],
   "source": [
    "import pandas as pd\n",
    "import numpy as np\n",
    "from datetime import datetime\n",
    "\n",
    "import matplotlib.pyplot as plt\n",
    "import seaborn as sns\n",
    "\n",
    "from matplotlib import font_manager, rc\n",
    "font_path = 'c://Windows//Fonts//malgun.ttf'\n",
    "font_name = font_manager.FontProperties( fname = font_path ).get_name()\n",
    "rc( 'font', family = font_name )\n",
    "\n",
    "plt.style.use( 'ggplot' )"
   ]
  },
  {
   "cell_type": "markdown",
   "metadata": {},
   "source": [
    "# 1. 데이터셋"
   ]
  },
  {
   "cell_type": "code",
   "execution_count": 2,
   "metadata": {
    "scrolled": true
   },
   "outputs": [
    {
     "data": {
      "text/html": [
       "<div>\n",
       "<style scoped>\n",
       "    .dataframe tbody tr th:only-of-type {\n",
       "        vertical-align: middle;\n",
       "    }\n",
       "\n",
       "    .dataframe tbody tr th {\n",
       "        vertical-align: top;\n",
       "    }\n",
       "\n",
       "    .dataframe thead th {\n",
       "        text-align: right;\n",
       "    }\n",
       "</style>\n",
       "<table border=\"1\" class=\"dataframe\">\n",
       "  <thead>\n",
       "    <tr style=\"text-align: right;\">\n",
       "      <th></th>\n",
       "      <th>SERIAL_NUMBER</th>\n",
       "      <th>PROCESS_DT</th>\n",
       "      <th>DLVR_RQESTER_ID</th>\n",
       "      <th>DLVR_REQUST_STTUS_VALUE</th>\n",
       "      <th>DLVR_RCEPT_CMPNY_ID</th>\n",
       "      <th>DLVR_STORE_ID</th>\n",
       "      <th>DLVR_STORE_INDUTY_NM</th>\n",
       "      <th>DLVR_STORE_LEGALDONG_CODE</th>\n",
       "      <th>DLVR_STORE_SIDO</th>\n",
       "      <th>DLVR_STORE_SIGUNGU</th>\n",
       "      <th>...</th>\n",
       "      <th>DLVR_MAN_ID</th>\n",
       "      <th>DLVR_AMOUNT</th>\n",
       "      <th>CALL_RLAY_FEE_AMOUNT</th>\n",
       "      <th>GOODS_AMOUNT</th>\n",
       "      <th>SETLE_KND_VALUE</th>\n",
       "      <th>SETLE_CARD_CN</th>\n",
       "      <th>DLVR_RCEPT_TIME</th>\n",
       "      <th>DLVR_CARALC_TIME</th>\n",
       "      <th>DLVR_COMPT_TIME</th>\n",
       "      <th>DLVR_CANCL_TIME</th>\n",
       "    </tr>\n",
       "  </thead>\n",
       "  <tbody>\n",
       "    <tr>\n",
       "      <th>0</th>\n",
       "      <td>4577985</td>\n",
       "      <td>2020-01-01</td>\n",
       "      <td>C000035</td>\n",
       "      <td>1</td>\n",
       "      <td>C000035</td>\n",
       "      <td>S0032342</td>\n",
       "      <td>치킨</td>\n",
       "      <td>4812710600</td>\n",
       "      <td>경상남도</td>\n",
       "      <td>창원시 마산회원구</td>\n",
       "      <td>...</td>\n",
       "      <td>D0005271</td>\n",
       "      <td>4290</td>\n",
       "      <td>300</td>\n",
       "      <td>25000</td>\n",
       "      <td>1</td>\n",
       "      <td>승인:비씨카드사</td>\n",
       "      <td>2020-01-01 00:15:49</td>\n",
       "      <td>2020-01-01 00:21:38</td>\n",
       "      <td>2020-01-01 00:41:37</td>\n",
       "      <td>NaN</td>\n",
       "    </tr>\n",
       "    <tr>\n",
       "      <th>1</th>\n",
       "      <td>4577986</td>\n",
       "      <td>2020-01-01</td>\n",
       "      <td>C000237</td>\n",
       "      <td>1</td>\n",
       "      <td>C000237</td>\n",
       "      <td>S0021847</td>\n",
       "      <td>찜탕</td>\n",
       "      <td>4121010200</td>\n",
       "      <td>경기도</td>\n",
       "      <td>광명시</td>\n",
       "      <td>...</td>\n",
       "      <td>D0003269</td>\n",
       "      <td>4800</td>\n",
       "      <td>200</td>\n",
       "      <td>49000</td>\n",
       "      <td>2</td>\n",
       "      <td>NaN</td>\n",
       "      <td>2020-01-01 01:12:14</td>\n",
       "      <td>2020-01-01 01:21:41</td>\n",
       "      <td>2020-01-01 01:31:44</td>\n",
       "      <td>NaN</td>\n",
       "    </tr>\n",
       "    <tr>\n",
       "      <th>2</th>\n",
       "      <td>4577988</td>\n",
       "      <td>2020-01-01</td>\n",
       "      <td>C000129</td>\n",
       "      <td>1</td>\n",
       "      <td>C000129</td>\n",
       "      <td>S0025740</td>\n",
       "      <td>치킨</td>\n",
       "      <td>1138010400</td>\n",
       "      <td>서울특별시</td>\n",
       "      <td>은평구</td>\n",
       "      <td>...</td>\n",
       "      <td>D0001536</td>\n",
       "      <td>3300</td>\n",
       "      <td>300</td>\n",
       "      <td>23000</td>\n",
       "      <td>3</td>\n",
       "      <td>승인:</td>\n",
       "      <td>2020-01-01 00:01:14</td>\n",
       "      <td>2020-01-01 00:01:47</td>\n",
       "      <td>2020-01-01 00:18:47</td>\n",
       "      <td>NaN</td>\n",
       "    </tr>\n",
       "    <tr>\n",
       "      <th>3</th>\n",
       "      <td>4577989</td>\n",
       "      <td>2020-01-01</td>\n",
       "      <td>C000029</td>\n",
       "      <td>1</td>\n",
       "      <td>C000043</td>\n",
       "      <td>S0039634</td>\n",
       "      <td>한식</td>\n",
       "      <td>4115010100</td>\n",
       "      <td>경기도</td>\n",
       "      <td>의정부시</td>\n",
       "      <td>...</td>\n",
       "      <td>D0005061</td>\n",
       "      <td>4500</td>\n",
       "      <td>300</td>\n",
       "      <td>20000</td>\n",
       "      <td>2</td>\n",
       "      <td>NaN</td>\n",
       "      <td>2020-01-01 01:01:34</td>\n",
       "      <td>2020-01-01 01:28:06</td>\n",
       "      <td>2020-01-01 01:36:48</td>\n",
       "      <td>NaN</td>\n",
       "    </tr>\n",
       "    <tr>\n",
       "      <th>4</th>\n",
       "      <td>4577991</td>\n",
       "      <td>2020-01-01</td>\n",
       "      <td>C000130</td>\n",
       "      <td>1</td>\n",
       "      <td>C000130</td>\n",
       "      <td>S0002237</td>\n",
       "      <td>한식</td>\n",
       "      <td>4128112800</td>\n",
       "      <td>경기도</td>\n",
       "      <td>고양시 덕양구</td>\n",
       "      <td>...</td>\n",
       "      <td>D0005215</td>\n",
       "      <td>6500</td>\n",
       "      <td>300</td>\n",
       "      <td>32000</td>\n",
       "      <td>2</td>\n",
       "      <td>NaN</td>\n",
       "      <td>2020-01-01 01:05:06</td>\n",
       "      <td>2020-01-01 01:08:01</td>\n",
       "      <td>2020-01-01 01:29:00</td>\n",
       "      <td>NaN</td>\n",
       "    </tr>\n",
       "    <tr>\n",
       "      <th>...</th>\n",
       "      <td>...</td>\n",
       "      <td>...</td>\n",
       "      <td>...</td>\n",
       "      <td>...</td>\n",
       "      <td>...</td>\n",
       "      <td>...</td>\n",
       "      <td>...</td>\n",
       "      <td>...</td>\n",
       "      <td>...</td>\n",
       "      <td>...</td>\n",
       "      <td>...</td>\n",
       "      <td>...</td>\n",
       "      <td>...</td>\n",
       "      <td>...</td>\n",
       "      <td>...</td>\n",
       "      <td>...</td>\n",
       "      <td>...</td>\n",
       "      <td>...</td>\n",
       "      <td>...</td>\n",
       "      <td>...</td>\n",
       "      <td>...</td>\n",
       "    </tr>\n",
       "    <tr>\n",
       "      <th>5158319</th>\n",
       "      <td>10672688</td>\n",
       "      <td>2020-06-21</td>\n",
       "      <td>C000312</td>\n",
       "      <td>1</td>\n",
       "      <td>C000312</td>\n",
       "      <td>S0029529</td>\n",
       "      <td>야식</td>\n",
       "      <td>4125010200</td>\n",
       "      <td>경기도</td>\n",
       "      <td>동두천시</td>\n",
       "      <td>...</td>\n",
       "      <td>D0013004</td>\n",
       "      <td>3000</td>\n",
       "      <td>500</td>\n",
       "      <td>26000</td>\n",
       "      <td>1</td>\n",
       "      <td>승인:하나카드</td>\n",
       "      <td>2020-06-21 22:48:22</td>\n",
       "      <td>2020-06-21 22:48:37</td>\n",
       "      <td>2020-06-21 23:07:47</td>\n",
       "      <td>NaN</td>\n",
       "    </tr>\n",
       "    <tr>\n",
       "      <th>5158320</th>\n",
       "      <td>10672689</td>\n",
       "      <td>2020-06-21</td>\n",
       "      <td>C000026</td>\n",
       "      <td>1</td>\n",
       "      <td>C000026</td>\n",
       "      <td>S0026242</td>\n",
       "      <td>야식</td>\n",
       "      <td>1132010800</td>\n",
       "      <td>서울특별시</td>\n",
       "      <td>도봉구</td>\n",
       "      <td>...</td>\n",
       "      <td>D0006251</td>\n",
       "      <td>3600</td>\n",
       "      <td>55</td>\n",
       "      <td>22000</td>\n",
       "      <td>2</td>\n",
       "      <td>NaN</td>\n",
       "      <td>2020-06-21 22:57:15</td>\n",
       "      <td>2020-06-21 22:58:00</td>\n",
       "      <td>2020-06-21 23:18:20</td>\n",
       "      <td>NaN</td>\n",
       "    </tr>\n",
       "    <tr>\n",
       "      <th>5158321</th>\n",
       "      <td>10672690</td>\n",
       "      <td>2020-06-21</td>\n",
       "      <td>C000130</td>\n",
       "      <td>1</td>\n",
       "      <td>C000130</td>\n",
       "      <td>S0042234</td>\n",
       "      <td>야식</td>\n",
       "      <td>4128112300</td>\n",
       "      <td>경기도</td>\n",
       "      <td>고양시 덕양구</td>\n",
       "      <td>...</td>\n",
       "      <td>D0012754</td>\n",
       "      <td>3000</td>\n",
       "      <td>300</td>\n",
       "      <td>17000</td>\n",
       "      <td>2</td>\n",
       "      <td>NaN</td>\n",
       "      <td>2020-06-21 22:55:08</td>\n",
       "      <td>2020-06-21 22:55:22</td>\n",
       "      <td>2020-06-21 23:14:45</td>\n",
       "      <td>NaN</td>\n",
       "    </tr>\n",
       "    <tr>\n",
       "      <th>5158322</th>\n",
       "      <td>10672691</td>\n",
       "      <td>2020-06-21</td>\n",
       "      <td>C000237</td>\n",
       "      <td>1</td>\n",
       "      <td>C000237</td>\n",
       "      <td>S0021766</td>\n",
       "      <td>족발/보쌈</td>\n",
       "      <td>4121010200</td>\n",
       "      <td>경기도</td>\n",
       "      <td>광명시</td>\n",
       "      <td>...</td>\n",
       "      <td>D0004485</td>\n",
       "      <td>3630</td>\n",
       "      <td>200</td>\n",
       "      <td>53700</td>\n",
       "      <td>1</td>\n",
       "      <td>승인:비씨카드사</td>\n",
       "      <td>2020-06-21 23:10:38</td>\n",
       "      <td>2020-06-21 23:11:03</td>\n",
       "      <td>2020-06-21 23:25:10</td>\n",
       "      <td>NaN</td>\n",
       "    </tr>\n",
       "    <tr>\n",
       "      <th>5158323</th>\n",
       "      <td>10672692</td>\n",
       "      <td>2020-06-21</td>\n",
       "      <td>C000209</td>\n",
       "      <td>1</td>\n",
       "      <td>C000209</td>\n",
       "      <td>S0022227</td>\n",
       "      <td>야식</td>\n",
       "      <td>1154510300</td>\n",
       "      <td>서울특별시</td>\n",
       "      <td>금천구</td>\n",
       "      <td>...</td>\n",
       "      <td>D0006541</td>\n",
       "      <td>4730</td>\n",
       "      <td>300</td>\n",
       "      <td>46000</td>\n",
       "      <td>2</td>\n",
       "      <td>NaN</td>\n",
       "      <td>2020-06-21 23:04:50</td>\n",
       "      <td>2020-06-21 23:14:35</td>\n",
       "      <td>2020-06-21 23:28:22</td>\n",
       "      <td>NaN</td>\n",
       "    </tr>\n",
       "  </tbody>\n",
       "</table>\n",
       "<p>5158324 rows × 31 columns</p>\n",
       "</div>"
      ],
      "text/plain": [
       "         SERIAL_NUMBER  PROCESS_DT DLVR_RQESTER_ID  DLVR_REQUST_STTUS_VALUE  \\\n",
       "0              4577985  2020-01-01         C000035                        1   \n",
       "1              4577986  2020-01-01         C000237                        1   \n",
       "2              4577988  2020-01-01         C000129                        1   \n",
       "3              4577989  2020-01-01         C000029                        1   \n",
       "4              4577991  2020-01-01         C000130                        1   \n",
       "...                ...         ...             ...                      ...   \n",
       "5158319       10672688  2020-06-21         C000312                        1   \n",
       "5158320       10672689  2020-06-21         C000026                        1   \n",
       "5158321       10672690  2020-06-21         C000130                        1   \n",
       "5158322       10672691  2020-06-21         C000237                        1   \n",
       "5158323       10672692  2020-06-21         C000209                        1   \n",
       "\n",
       "        DLVR_RCEPT_CMPNY_ID DLVR_STORE_ID DLVR_STORE_INDUTY_NM  \\\n",
       "0                   C000035      S0032342                   치킨   \n",
       "1                   C000237      S0021847                   찜탕   \n",
       "2                   C000129      S0025740                   치킨   \n",
       "3                   C000043      S0039634                   한식   \n",
       "4                   C000130      S0002237                   한식   \n",
       "...                     ...           ...                  ...   \n",
       "5158319             C000312      S0029529                   야식   \n",
       "5158320             C000026      S0026242                   야식   \n",
       "5158321             C000130      S0042234                   야식   \n",
       "5158322             C000237      S0021766                족발/보쌈   \n",
       "5158323             C000209      S0022227                   야식   \n",
       "\n",
       "         DLVR_STORE_LEGALDONG_CODE DLVR_STORE_SIDO DLVR_STORE_SIGUNGU  ...  \\\n",
       "0                       4812710600            경상남도          창원시 마산회원구  ...   \n",
       "1                       4121010200             경기도                광명시  ...   \n",
       "2                       1138010400           서울특별시                은평구  ...   \n",
       "3                       4115010100             경기도               의정부시  ...   \n",
       "4                       4128112800             경기도            고양시 덕양구  ...   \n",
       "...                            ...             ...                ...  ...   \n",
       "5158319                 4125010200             경기도               동두천시  ...   \n",
       "5158320                 1132010800           서울특별시                도봉구  ...   \n",
       "5158321                 4128112300             경기도            고양시 덕양구  ...   \n",
       "5158322                 4121010200             경기도                광명시  ...   \n",
       "5158323                 1154510300           서울특별시                금천구  ...   \n",
       "\n",
       "        DLVR_MAN_ID DLVR_AMOUNT  CALL_RLAY_FEE_AMOUNT  GOODS_AMOUNT  \\\n",
       "0          D0005271        4290                   300         25000   \n",
       "1          D0003269        4800                   200         49000   \n",
       "2          D0001536        3300                   300         23000   \n",
       "3          D0005061        4500                   300         20000   \n",
       "4          D0005215        6500                   300         32000   \n",
       "...             ...         ...                   ...           ...   \n",
       "5158319    D0013004        3000                   500         26000   \n",
       "5158320    D0006251        3600                    55         22000   \n",
       "5158321    D0012754        3000                   300         17000   \n",
       "5158322    D0004485        3630                   200         53700   \n",
       "5158323    D0006541        4730                   300         46000   \n",
       "\n",
       "         SETLE_KND_VALUE SETLE_CARD_CN      DLVR_RCEPT_TIME  \\\n",
       "0                      1      승인:비씨카드사  2020-01-01 00:15:49   \n",
       "1                      2           NaN  2020-01-01 01:12:14   \n",
       "2                      3           승인:  2020-01-01 00:01:14   \n",
       "3                      2           NaN  2020-01-01 01:01:34   \n",
       "4                      2           NaN  2020-01-01 01:05:06   \n",
       "...                  ...           ...                  ...   \n",
       "5158319                1       승인:하나카드  2020-06-21 22:48:22   \n",
       "5158320                2           NaN  2020-06-21 22:57:15   \n",
       "5158321                2           NaN  2020-06-21 22:55:08   \n",
       "5158322                1      승인:비씨카드사  2020-06-21 23:10:38   \n",
       "5158323                2           NaN  2020-06-21 23:04:50   \n",
       "\n",
       "            DLVR_CARALC_TIME      DLVR_COMPT_TIME  DLVR_CANCL_TIME  \n",
       "0        2020-01-01 00:21:38  2020-01-01 00:41:37              NaN  \n",
       "1        2020-01-01 01:21:41  2020-01-01 01:31:44              NaN  \n",
       "2        2020-01-01 00:01:47  2020-01-01 00:18:47              NaN  \n",
       "3        2020-01-01 01:28:06  2020-01-01 01:36:48              NaN  \n",
       "4        2020-01-01 01:08:01  2020-01-01 01:29:00              NaN  \n",
       "...                      ...                  ...              ...  \n",
       "5158319  2020-06-21 22:48:37  2020-06-21 23:07:47              NaN  \n",
       "5158320  2020-06-21 22:58:00  2020-06-21 23:18:20              NaN  \n",
       "5158321  2020-06-21 22:55:22  2020-06-21 23:14:45              NaN  \n",
       "5158322  2020-06-21 23:11:03  2020-06-21 23:25:10              NaN  \n",
       "5158323  2020-06-21 23:14:35  2020-06-21 23:28:22              NaN  \n",
       "\n",
       "[5158324 rows x 31 columns]"
      ]
     },
     "execution_count": 2,
     "metadata": {},
     "output_type": "execute_result"
    }
   ],
   "source": [
    "raw_deli = pd.read_csv( 'delivery.csv' )\n",
    "raw_deli"
   ]
  },
  {
   "cell_type": "code",
   "execution_count": 3,
   "metadata": {},
   "outputs": [],
   "source": [
    "deli = raw_deli.copy()"
   ]
  },
  {
   "cell_type": "code",
   "execution_count": 4,
   "metadata": {
    "scrolled": false
   },
   "outputs": [
    {
     "name": "stdout",
     "output_type": "stream",
     "text": [
      "<class 'pandas.core.frame.DataFrame'>\n",
      "RangeIndex: 5158324 entries, 0 to 5158323\n",
      "Data columns (total 31 columns):\n",
      " #   Column                     Dtype  \n",
      "---  ------                     -----  \n",
      " 0   SERIAL_NUMBER              int64  \n",
      " 1   PROCESS_DT                 object \n",
      " 2   DLVR_RQESTER_ID            object \n",
      " 3   DLVR_REQUST_STTUS_VALUE    int64  \n",
      " 4   DLVR_RCEPT_CMPNY_ID        object \n",
      " 5   DLVR_STORE_ID              object \n",
      " 6   DLVR_STORE_INDUTY_NM       object \n",
      " 7   DLVR_STORE_LEGALDONG_CODE  int64  \n",
      " 8   DLVR_STORE_SIDO            object \n",
      " 9   DLVR_STORE_SIGUNGU         object \n",
      " 10  DLVR_STORE_DONG            object \n",
      " 11  DLVR_STORE_RI              object \n",
      " 12  DLVR_STORE_ADSTRD_CODE     int64  \n",
      " 13  DLVR_STORE_RDNMADR_CODE    float64\n",
      " 14  DLVR_DSTN_LEGALDONG_CODE   float64\n",
      " 15  DLVR_DSTN_SIDO             object \n",
      " 16  DLVR_DSTN_SIGUNGU          object \n",
      " 17  DLVR_DSTN_DONG             object \n",
      " 18  DLVR_DSTN_RI               object \n",
      " 19  DLVR_DSTN_ADSTRD_CODE      float64\n",
      " 20  DLVR_DSTN_RDNMADR_CODE     float64\n",
      " 21  DLVR_MAN_ID                object \n",
      " 22  DLVR_AMOUNT                int64  \n",
      " 23  CALL_RLAY_FEE_AMOUNT       int64  \n",
      " 24  GOODS_AMOUNT               int64  \n",
      " 25  SETLE_KND_VALUE            int64  \n",
      " 26  SETLE_CARD_CN              object \n",
      " 27  DLVR_RCEPT_TIME            object \n",
      " 28  DLVR_CARALC_TIME           object \n",
      " 29  DLVR_COMPT_TIME            object \n",
      " 30  DLVR_CANCL_TIME            object \n",
      "dtypes: float64(4), int64(8), object(19)\n",
      "memory usage: 1.2+ GB\n"
     ]
    }
   ],
   "source": [
    "deli.info()"
   ]
  },
  {
   "cell_type": "markdown",
   "metadata": {},
   "source": [
    "# 2. 전처리"
   ]
  },
  {
   "cell_type": "markdown",
   "metadata": {},
   "source": [
    "## 미사용 변수 드랍"
   ]
  },
  {
   "cell_type": "code",
   "execution_count": 5,
   "metadata": {},
   "outputs": [],
   "source": [
    "deli = deli.drop( [ 'DLVR_STORE_LEGALDONG_CODE',\n",
    "             'DLVR_STORE_SIGUNGU',\n",
    "             'DLVR_STORE_DONG',\n",
    "             'DLVR_STORE_RI',\n",
    "             'DLVR_STORE_ADSTRD_CODE',\n",
    "             'DLVR_STORE_RDNMADR_CODE',\n",
    "             'DLVR_DSTN_LEGALDONG_CODE',\n",
    "             'DLVR_DSTN_SIGUNGU',\n",
    "             'DLVR_DSTN_DONG',\n",
    "             'DLVR_DSTN_RI',\n",
    "             'DLVR_DSTN_ADSTRD_CODE',\n",
    "             'DLVR_DSTN_RDNMADR_CODE',\n",
    "             'DLVR_CANCL_TIME' ], axis = 1 )"
   ]
  },
  {
   "cell_type": "markdown",
   "metadata": {},
   "source": [
    "'DLVR_STORE_LEGALDONG_CODE',\n",
    "             'DLVR_STORE_SIGUNGU',\n",
    "             'DLVR_STORE_DONG',\n",
    "             'DLVR_STORE_RI',\n",
    "             'DLVR_STORE_ADSTRD_CODE',\n",
    "             'DLVR_STORE_RDNMADR_CODE',\n",
    "             'DLVR_DSTN_LEGALDONG_CODE',\n",
    "             'DLVR_DSTN_SIGUNGU',\n",
    "             'DLVR_DSTN_DONG',\n",
    "             'DLVR_DSTN_RI',\n",
    "             'DLVR_DSTN_ADSTRD_CODE',\n",
    "             'DLVR_DSTN_RDNMADR_CODE'\n",
    "             'DLVR_CANCL_TIME'   \n",
    "삭제"
   ]
  },
  {
   "cell_type": "code",
   "execution_count": 6,
   "metadata": {},
   "outputs": [
    {
     "name": "stdout",
     "output_type": "stream",
     "text": [
      "<class 'pandas.core.frame.DataFrame'>\n",
      "RangeIndex: 5158324 entries, 0 to 5158323\n",
      "Data columns (total 18 columns):\n",
      " #   Column                   Dtype \n",
      "---  ------                   ----- \n",
      " 0   SERIAL_NUMBER            int64 \n",
      " 1   PROCESS_DT               object\n",
      " 2   DLVR_RQESTER_ID          object\n",
      " 3   DLVR_REQUST_STTUS_VALUE  int64 \n",
      " 4   DLVR_RCEPT_CMPNY_ID      object\n",
      " 5   DLVR_STORE_ID            object\n",
      " 6   DLVR_STORE_INDUTY_NM     object\n",
      " 7   DLVR_STORE_SIDO          object\n",
      " 8   DLVR_DSTN_SIDO           object\n",
      " 9   DLVR_MAN_ID              object\n",
      " 10  DLVR_AMOUNT              int64 \n",
      " 11  CALL_RLAY_FEE_AMOUNT     int64 \n",
      " 12  GOODS_AMOUNT             int64 \n",
      " 13  SETLE_KND_VALUE          int64 \n",
      " 14  SETLE_CARD_CN            object\n",
      " 15  DLVR_RCEPT_TIME          object\n",
      " 16  DLVR_CARALC_TIME         object\n",
      " 17  DLVR_COMPT_TIME          object\n",
      "dtypes: int64(6), object(12)\n",
      "memory usage: 708.4+ MB\n"
     ]
    }
   ],
   "source": [
    "deli.info()"
   ]
  },
  {
   "cell_type": "markdown",
   "metadata": {},
   "source": [
    "## PROCESS_DT / DLVR_RCEPT_TIME / DLVR_CARALC_TIME / DLVR_COMPT_TIME / DLVR_CANCL_TIME을 Pandas Datetime으로"
   ]
  },
  {
   "cell_type": "code",
   "execution_count": 7,
   "metadata": {},
   "outputs": [],
   "source": [
    "deli[ 'PROCESS_DT' ] = pd.to_datetime( deli[ 'PROCESS_DT' ] )"
   ]
  },
  {
   "cell_type": "code",
   "execution_count": 8,
   "metadata": {},
   "outputs": [],
   "source": [
    "deli[ 'DLVR_RCEPT_TIME' ] = pd.to_datetime( deli[ 'DLVR_RCEPT_TIME' ] )"
   ]
  },
  {
   "cell_type": "code",
   "execution_count": 9,
   "metadata": {},
   "outputs": [],
   "source": [
    "deli[ 'DLVR_CARALC_TIME' ] = pd.to_datetime( deli[ 'DLVR_CARALC_TIME' ] )"
   ]
  },
  {
   "cell_type": "code",
   "execution_count": 10,
   "metadata": {},
   "outputs": [],
   "source": [
    "deli[ 'DLVR_COMPT_TIME' ] = pd.to_datetime( deli[ 'DLVR_COMPT_TIME' ] )"
   ]
  },
  {
   "cell_type": "markdown",
   "metadata": {},
   "source": [
    "## 결측치 처리"
   ]
  },
  {
   "cell_type": "code",
   "execution_count": 11,
   "metadata": {
    "scrolled": false
   },
   "outputs": [
    {
     "data": {
      "text/plain": [
       "SERIAL_NUMBER                    0\n",
       "PROCESS_DT                       0\n",
       "DLVR_RQESTER_ID                  0\n",
       "DLVR_REQUST_STTUS_VALUE          0\n",
       "DLVR_RCEPT_CMPNY_ID          62894\n",
       "DLVR_STORE_ID                    0\n",
       "DLVR_STORE_INDUTY_NM             0\n",
       "DLVR_STORE_SIDO                  0\n",
       "DLVR_DSTN_SIDO              389543\n",
       "DLVR_MAN_ID                      0\n",
       "DLVR_AMOUNT                      0\n",
       "CALL_RLAY_FEE_AMOUNT             0\n",
       "GOODS_AMOUNT                     0\n",
       "SETLE_KND_VALUE                  0\n",
       "SETLE_CARD_CN              3541335\n",
       "DLVR_RCEPT_TIME                  0\n",
       "DLVR_CARALC_TIME             61801\n",
       "DLVR_COMPT_TIME             103240\n",
       "dtype: int64"
      ]
     },
     "execution_count": 11,
     "metadata": {},
     "output_type": "execute_result"
    }
   ],
   "source": [
    "deli.isna().sum()"
   ]
  },
  {
   "cell_type": "markdown",
   "metadata": {},
   "source": [
    "- DLVR_RCEPT_CMPNY_ID          62894\n",
    "- DLVR_DSTN_SIDO              389543\n",
    "- SETLE_CARD_CN              3541335\n",
    "- DLVR_CARALC_TIME             61801\n",
    "- DLVR_COMPT_TIME             103240\n",
    "- DLVR_CANCL_TIME            5074724\n",
    "해당 행들에 결측치가 이만큼 발견되었다."
   ]
  },
  {
   "cell_type": "markdown",
   "metadata": {},
   "source": [
    "### DLVR_RCEPT_CMPNY_ID\n",
    "빈 칸을 'unknown'으로 대체하였다."
   ]
  },
  {
   "cell_type": "code",
   "execution_count": 12,
   "metadata": {},
   "outputs": [],
   "source": [
    "deli[ 'DLVR_RCEPT_CMPNY_ID' ] = deli[ 'DLVR_RCEPT_CMPNY_ID' ].fillna( 'unknown' )"
   ]
  },
  {
   "cell_type": "code",
   "execution_count": 13,
   "metadata": {},
   "outputs": [
    {
     "data": {
      "text/plain": [
       "0"
      ]
     },
     "execution_count": 13,
     "metadata": {},
     "output_type": "execute_result"
    }
   ],
   "source": [
    "deli[ 'DLVR_RCEPT_CMPNY_ID' ].isna().sum()"
   ]
  },
  {
   "cell_type": "markdown",
   "metadata": {},
   "source": [
    "### DLVR_DSTN_SIDO\n",
    "빈 칸을 'unknown'으로 대체하였다."
   ]
  },
  {
   "cell_type": "code",
   "execution_count": 14,
   "metadata": {},
   "outputs": [],
   "source": [
    "deli[ 'DLVR_DSTN_SIDO' ] = deli[ 'DLVR_DSTN_SIDO' ].fillna( 'unknown' )"
   ]
  },
  {
   "cell_type": "code",
   "execution_count": 15,
   "metadata": {},
   "outputs": [
    {
     "data": {
      "text/plain": [
       "0"
      ]
     },
     "execution_count": 15,
     "metadata": {},
     "output_type": "execute_result"
    }
   ],
   "source": [
    "deli[ 'DLVR_DSTN_SIDO' ].isna().sum()"
   ]
  },
  {
   "cell_type": "markdown",
   "metadata": {},
   "source": [
    "### SETLE_CARD_CN\n",
    "빈 칸을 'unknown'으로 대체하였다."
   ]
  },
  {
   "cell_type": "code",
   "execution_count": 16,
   "metadata": {},
   "outputs": [],
   "source": [
    "deli[ 'SETLE_CARD_CN' ] = deli[ 'SETLE_CARD_CN' ].fillna( 'unknown' )"
   ]
  },
  {
   "cell_type": "code",
   "execution_count": 17,
   "metadata": {},
   "outputs": [
    {
     "data": {
      "text/plain": [
       "0"
      ]
     },
     "execution_count": 17,
     "metadata": {},
     "output_type": "execute_result"
    }
   ],
   "source": [
    "deli[ 'SETLE_CARD_CN' ].isna().sum()"
   ]
  },
  {
   "cell_type": "markdown",
   "metadata": {},
   "source": [
    "### DLVR_CARALC_TIME"
   ]
  },
  {
   "cell_type": "markdown",
   "metadata": {},
   "source": [
    "### DLVR_COMPT_TIME"
   ]
  },
  {
   "cell_type": "markdown",
   "metadata": {},
   "source": [
    "( 추가 수행 예정 )"
   ]
  },
  {
   "cell_type": "markdown",
   "metadata": {},
   "source": [
    "# 3. 탐색적 자료분석"
   ]
  },
  {
   "cell_type": "markdown",
   "metadata": {},
   "source": [
    "## .info()"
   ]
  },
  {
   "cell_type": "code",
   "execution_count": 18,
   "metadata": {
    "scrolled": true
   },
   "outputs": [
    {
     "name": "stdout",
     "output_type": "stream",
     "text": [
      "<class 'pandas.core.frame.DataFrame'>\n",
      "RangeIndex: 5158324 entries, 0 to 5158323\n",
      "Data columns (total 18 columns):\n",
      " #   Column                   Dtype         \n",
      "---  ------                   -----         \n",
      " 0   SERIAL_NUMBER            int64         \n",
      " 1   PROCESS_DT               datetime64[ns]\n",
      " 2   DLVR_RQESTER_ID          object        \n",
      " 3   DLVR_REQUST_STTUS_VALUE  int64         \n",
      " 4   DLVR_RCEPT_CMPNY_ID      object        \n",
      " 5   DLVR_STORE_ID            object        \n",
      " 6   DLVR_STORE_INDUTY_NM     object        \n",
      " 7   DLVR_STORE_SIDO          object        \n",
      " 8   DLVR_DSTN_SIDO           object        \n",
      " 9   DLVR_MAN_ID              object        \n",
      " 10  DLVR_AMOUNT              int64         \n",
      " 11  CALL_RLAY_FEE_AMOUNT     int64         \n",
      " 12  GOODS_AMOUNT             int64         \n",
      " 13  SETLE_KND_VALUE          int64         \n",
      " 14  SETLE_CARD_CN            object        \n",
      " 15  DLVR_RCEPT_TIME          datetime64[ns]\n",
      " 16  DLVR_CARALC_TIME         datetime64[ns]\n",
      " 17  DLVR_COMPT_TIME          datetime64[ns]\n",
      "dtypes: datetime64[ns](4), int64(6), object(8)\n",
      "memory usage: 708.4+ MB\n"
     ]
    }
   ],
   "source": [
    "deli.info()"
   ]
  },
  {
   "cell_type": "markdown",
   "metadata": {},
   "source": [
    "## 변수별"
   ]
  },
  {
   "cell_type": "markdown",
   "metadata": {},
   "source": [
    "##  0. SERIAL_NUMBER = 순번"
   ]
  },
  {
   "cell_type": "code",
   "execution_count": 19,
   "metadata": {},
   "outputs": [
    {
     "name": "stdout",
     "output_type": "stream",
     "text": [
      "5158324\n"
     ]
    }
   ],
   "source": [
    "print( len( deli.SERIAL_NUMBER.unique() ) )"
   ]
  },
  {
   "cell_type": "markdown",
   "metadata": {},
   "source": [
    "- 총 5158324건의 배달수가 담겼다."
   ]
  },
  {
   "cell_type": "markdown",
   "metadata": {},
   "source": [
    "##  1. PROCESS_DT = 처리일시"
   ]
  },
  {
   "cell_type": "code",
   "execution_count": 20,
   "metadata": {
    "scrolled": true
   },
   "outputs": [
    {
     "name": "stdout",
     "output_type": "stream",
     "text": [
      "2020-01-01 00:00:00\n",
      "2020-06-21 00:00:00\n"
     ]
    }
   ],
   "source": [
    "print( deli.PROCESS_DT.min() )\n",
    "print( deli.PROCESS_DT.max() )"
   ]
  },
  {
   "cell_type": "code",
   "execution_count": 21,
   "metadata": {},
   "outputs": [
    {
     "name": "stdout",
     "output_type": "stream",
     "text": [
      "45224\n",
      "15382\n"
     ]
    }
   ],
   "source": [
    "print( deli.PROCESS_DT.value_counts().max() )\n",
    "print( deli.PROCESS_DT.value_counts().min() )"
   ]
  },
  {
   "cell_type": "markdown",
   "metadata": {},
   "source": [
    "- 1월 1일부터 6월 21일까지의 데이터가 있다.\n",
    "- 제일 배달건수가 많았던 날, 적었던 날의 배달건수."
   ]
  },
  {
   "cell_type": "markdown",
   "metadata": {},
   "source": [
    "## 2. DLVR_RQESTER_ID = 배달요청업체 ID"
   ]
  },
  {
   "cell_type": "code",
   "execution_count": 22,
   "metadata": {},
   "outputs": [
    {
     "name": "stdout",
     "output_type": "stream",
     "text": [
      "162\n"
     ]
    }
   ],
   "source": [
    "print( len( deli.DLVR_RQESTER_ID.unique() ) )"
   ]
  },
  {
   "cell_type": "code",
   "execution_count": 23,
   "metadata": {},
   "outputs": [
    {
     "name": "stdout",
     "output_type": "stream",
     "text": [
      "C000029    290615\n",
      "C000049    235740\n",
      "C000028    222671\n",
      "C000237    209646\n",
      "C000032    196539\n",
      "            ...  \n",
      "C000333         4\n",
      "C000518         3\n",
      "C000508         3\n",
      "C000338         2\n",
      "C000365         1\n",
      "Name: DLVR_RQESTER_ID, Length: 162, dtype: int64\n"
     ]
    }
   ],
   "source": [
    "print( deli.DLVR_RQESTER_ID.value_counts() )"
   ]
  },
  {
   "cell_type": "markdown",
   "metadata": {},
   "source": [
    "- 162개"
   ]
  },
  {
   "cell_type": "markdown",
   "metadata": {},
   "source": [
    "## 3. DLVR_REQUST_STTUS_VALUE = 배달요청상태값 (1:완료, 2:취소, 3:사고, 4:문의)"
   ]
  },
  {
   "cell_type": "code",
   "execution_count": 24,
   "metadata": {
    "scrolled": true
   },
   "outputs": [
    {
     "name": "stdout",
     "output_type": "stream",
     "text": [
      "1    5075760\n",
      "2      82560\n",
      "4          2\n",
      "3          2\n",
      "Name: DLVR_REQUST_STTUS_VALUE, dtype: int64\n"
     ]
    }
   ],
   "source": [
    "print( deli.DLVR_REQUST_STTUS_VALUE.value_counts() )"
   ]
  },
  {
   "cell_type": "markdown",
   "metadata": {},
   "source": [
    "- 완료 > 취소 > 사고 = 문의 순으로 많다."
   ]
  },
  {
   "cell_type": "markdown",
   "metadata": {},
   "source": [
    "## 4. DLVR_RCEPT_CMPNY_ID = 배달접수회사 ID"
   ]
  },
  {
   "cell_type": "code",
   "execution_count": 25,
   "metadata": {},
   "outputs": [
    {
     "name": "stdout",
     "output_type": "stream",
     "text": [
      "218\n"
     ]
    }
   ],
   "source": [
    "print( len( deli.DLVR_RCEPT_CMPNY_ID.unique() ) )"
   ]
  },
  {
   "cell_type": "code",
   "execution_count": 26,
   "metadata": {},
   "outputs": [
    {
     "name": "stdout",
     "output_type": "stream",
     "text": [
      "C000043    785226\n",
      "C000049    232148\n",
      "C000237    220419\n",
      "C000130    185533\n",
      "C000209    139235\n",
      "            ...  \n",
      "C000304         2\n",
      "C000518         2\n",
      "C000139         1\n",
      "C000051         1\n",
      "C000474         1\n",
      "Name: DLVR_RCEPT_CMPNY_ID, Length: 218, dtype: int64\n"
     ]
    }
   ],
   "source": [
    "print( deli.DLVR_RCEPT_CMPNY_ID.value_counts() )"
   ]
  },
  {
   "cell_type": "markdown",
   "metadata": {},
   "source": [
    "- 218곳"
   ]
  },
  {
   "cell_type": "markdown",
   "metadata": {},
   "source": [
    "## 5. DLVR_STORE_ID = 배달상점ID"
   ]
  },
  {
   "cell_type": "code",
   "execution_count": 27,
   "metadata": {},
   "outputs": [
    {
     "name": "stdout",
     "output_type": "stream",
     "text": [
      "13165\n"
     ]
    }
   ],
   "source": [
    "print( len( deli.DLVR_STORE_ID.unique() ) )"
   ]
  },
  {
   "cell_type": "code",
   "execution_count": 28,
   "metadata": {},
   "outputs": [
    {
     "name": "stdout",
     "output_type": "stream",
     "text": [
      "S0022229    22927\n",
      "S0037021    17734\n",
      "S0022429    17275\n",
      "S0003081    16713\n",
      "S0040809    16401\n",
      "            ...  \n",
      "S0015393        1\n",
      "S0022964        1\n",
      "S0043465        1\n",
      "S0027923        1\n",
      "S0023837        1\n",
      "Name: DLVR_STORE_ID, Length: 13165, dtype: int64\n"
     ]
    }
   ],
   "source": [
    "print( deli.DLVR_STORE_ID.value_counts() )"
   ]
  },
  {
   "cell_type": "markdown",
   "metadata": {},
   "source": [
    "- 13165군데의 배달상점"
   ]
  },
  {
   "cell_type": "markdown",
   "metadata": {},
   "source": [
    "## 6. DLVR_STORE_INDUTY_NM = 배달상점 업종이름"
   ]
  },
  {
   "cell_type": "code",
   "execution_count": 29,
   "metadata": {},
   "outputs": [
    {
     "name": "stdout",
     "output_type": "stream",
     "text": [
      "['치킨' '찜탕' '한식' '족발/보쌈' '분식' '야식' '돈까스/일식' '회' '피자' '중식' '카페/디저트' '심부름'\n",
      " '배달전문업체' '패스트푸드' '아시안/양식' '도시락']\n"
     ]
    }
   ],
   "source": [
    "print( deli.DLVR_STORE_INDUTY_NM.unique() )"
   ]
  },
  {
   "cell_type": "code",
   "execution_count": 30,
   "metadata": {},
   "outputs": [
    {
     "name": "stdout",
     "output_type": "stream",
     "text": [
      "16\n"
     ]
    }
   ],
   "source": [
    "print( len( deli.DLVR_STORE_INDUTY_NM.unique() ) )"
   ]
  },
  {
   "cell_type": "code",
   "execution_count": 31,
   "metadata": {},
   "outputs": [
    {
     "data": {
      "text/plain": [
       "치킨        1173238\n",
       "한식         658568\n",
       "분식         626945\n",
       "카페/디저트     457830\n",
       "족발/보쌈      415060\n",
       "패스트푸드      326149\n",
       "피자         262246\n",
       "돈까스/일식     251112\n",
       "야식         226043\n",
       "찜탕         214388\n",
       "중식         187030\n",
       "아시안/양식     109185\n",
       "회          101095\n",
       "배달전문업체      94837\n",
       "도시락         49254\n",
       "심부름          5344\n",
       "Name: DLVR_STORE_INDUTY_NM, dtype: int64"
      ]
     },
     "execution_count": 31,
     "metadata": {},
     "output_type": "execute_result"
    }
   ],
   "source": [
    "deli.DLVR_STORE_INDUTY_NM.value_counts()"
   ]
  },
  {
   "cell_type": "code",
   "execution_count": 32,
   "metadata": {},
   "outputs": [
    {
     "data": {
      "text/plain": [
       "<matplotlib.legend.Legend at 0x240b71d62c8>"
      ]
     },
     "execution_count": 32,
     "metadata": {},
     "output_type": "execute_result"
    },
    {
     "data": {
      "image/png": "[encoded data removed]",
      "text/plain": [
       "<Figure size 1440x576 with 1 Axes>"
      ]
     },
     "metadata": {},
     "output_type": "display_data"
    }
   ],
   "source": [
    "deli.DLVR_STORE_INDUTY_NM.value_counts().plot(kind='pie', figsize = (20,8), autopct='%.0f%%')\n",
    "\n",
    "plt.title('배달상점 업종이름',size =35)\n",
    "plt.legend()"
   ]
  },
  {
   "cell_type": "markdown",
   "metadata": {},
   "source": [
    "- 배달상점 업종 종류.\n",
    "- 16가지.\n",
    "- 치킨 > 한식 > 분식 > etc 순으로 많이 배달됨"
   ]
  },
  {
   "cell_type": "markdown",
   "metadata": {},
   "source": [
    "## 7. DLVR_STORE_SIDO = 배달상점 주소 법정동 시도명"
   ]
  },
  {
   "cell_type": "code",
   "execution_count": 33,
   "metadata": {},
   "outputs": [
    {
     "name": "stdout",
     "output_type": "stream",
     "text": [
      "15\n"
     ]
    }
   ],
   "source": [
    "print( len( deli.DLVR_STORE_SIDO.unique() ) )"
   ]
  },
  {
   "cell_type": "code",
   "execution_count": 34,
   "metadata": {
    "scrolled": true
   },
   "outputs": [
    {
     "name": "stdout",
     "output_type": "stream",
     "text": [
      "['경상남도' '경기도' '서울특별시' '전라남도' '대구광역시' '충청남도' '제주특별자치도' '전라북도' '경상북도'\n",
      " '인천광역시' '대전광역시' '부산광역시' '충청북도' '광주광역시' '강원도']\n"
     ]
    }
   ],
   "source": [
    "print( deli.DLVR_STORE_SIDO.unique() )"
   ]
  },
  {
   "cell_type": "code",
   "execution_count": 35,
   "metadata": {},
   "outputs": [
    {
     "name": "stdout",
     "output_type": "stream",
     "text": [
      "경기도        3059586\n",
      "서울특별시       791041\n",
      "경상남도        266996\n",
      "경상북도        261268\n",
      "충청남도        168835\n",
      "전라북도        124421\n",
      "인천광역시       105697\n",
      "충청북도         94685\n",
      "제주특별자치도      67578\n",
      "대전광역시        65325\n",
      "대구광역시        63526\n",
      "전라남도         34143\n",
      "부산광역시        31279\n",
      "강원도          12703\n",
      "광주광역시        11241\n",
      "Name: DLVR_STORE_SIDO, dtype: int64\n"
     ]
    }
   ],
   "source": [
    "print( deli.DLVR_STORE_SIDO.value_counts() )"
   ]
  },
  {
   "cell_type": "code",
   "execution_count": 36,
   "metadata": {},
   "outputs": [],
   "source": [
    "df_DLVR_STORE_SIDO = deli.DLVR_STORE_SIDO.value_counts().rename_axis( 'unique_values' ).to_frame( 'counts' )"
   ]
  },
  {
   "cell_type": "code",
   "execution_count": 37,
   "metadata": {},
   "outputs": [
    {
     "data": {
      "image/png": "[encoded data removed]",
      "text/plain": [
       "<Figure size 1440x1080 with 1 Axes>"
      ]
     },
     "metadata": {},
     "output_type": "display_data"
    }
   ],
   "source": [
    "df_DLVR_STORE_SIDO.plot( kind = 'bar', figsize = ( 20,15 ), width = 0.8 )\n",
    "plt.title( '배달상점 주소 법정동 시도', size = 16 )\n",
    "plt.ylabel( '건수', size = 15 )\n",
    "plt.xlabel( '시도', size = 15 )\n",
    "plt.legend( fontsize = 10 )\n",
    "plt.xticks( rotation = 360)\n",
    "plt.show()"
   ]
  },
  {
   "cell_type": "markdown",
   "metadata": {},
   "source": [
    "- 경기도 > 서울 > 경남 순으로 사업체가 많음"
   ]
  },
  {
   "cell_type": "markdown",
   "metadata": {},
   "source": [
    "## 8. DLVR_DSTN_SIDO = 배달목적지 주소 법정동 시도명"
   ]
  },
  {
   "cell_type": "code",
   "execution_count": 38,
   "metadata": {},
   "outputs": [
    {
     "name": "stdout",
     "output_type": "stream",
     "text": [
      "17\n"
     ]
    }
   ],
   "source": [
    "print( len( deli.DLVR_DSTN_SIDO.unique() ) )"
   ]
  },
  {
   "cell_type": "code",
   "execution_count": 39,
   "metadata": {},
   "outputs": [
    {
     "name": "stdout",
     "output_type": "stream",
     "text": [
      "['경상남도' '서울특별시' '경기도' '전라남도' '대구광역시' '충청남도' '제주특별자치도' '전라북도' 'unknown'\n",
      " '경상북도' '인천광역시' '대전광역시' '부산광역시' '충청북도' '광주광역시' '강원도' '울산광역시']\n"
     ]
    }
   ],
   "source": [
    "print( deli.DLVR_DSTN_SIDO.unique() )"
   ]
  },
  {
   "cell_type": "markdown",
   "metadata": {},
   "source": [
    "- nan 발견. DLVR_STORE_SIDO = 배달상점 주소 법정동 시도명에는 없는 울산광역시 발견"
   ]
  },
  {
   "cell_type": "code",
   "execution_count": 40,
   "metadata": {},
   "outputs": [
    {
     "name": "stdout",
     "output_type": "stream",
     "text": [
      "경기도        2736607\n",
      "서울특별시       818496\n",
      "unknown     389543\n",
      "경상남도        266602\n",
      "경상북도        174840\n",
      "충청남도        168084\n",
      "전라북도        124310\n",
      "인천광역시       109571\n",
      "충청북도         93106\n",
      "대전광역시        65301\n",
      "대구광역시        63024\n",
      "제주특별자치도      61411\n",
      "전라남도         33773\n",
      "부산광역시        29792\n",
      "강원도          12632\n",
      "광주광역시        11229\n",
      "울산광역시            3\n",
      "Name: DLVR_DSTN_SIDO, dtype: int64\n"
     ]
    }
   ],
   "source": [
    "print( deli.DLVR_DSTN_SIDO.value_counts() )"
   ]
  },
  {
   "cell_type": "code",
   "execution_count": 41,
   "metadata": {},
   "outputs": [],
   "source": [
    "df_DLVR_DSTN_SIDO = deli.DLVR_DSTN_SIDO.value_counts().rename_axis( 'unique_values' ).to_frame( 'counts' )"
   ]
  },
  {
   "cell_type": "code",
   "execution_count": 42,
   "metadata": {},
   "outputs": [
    {
     "data": {
      "image/png": "[encoded data removed]",
      "text/plain": [
       "<Figure size 1440x1080 with 1 Axes>"
      ]
     },
     "metadata": {},
     "output_type": "display_data"
    }
   ],
   "source": [
    "df_DLVR_DSTN_SIDO.plot( kind = 'bar', figsize = ( 20,15 ), width = 0.8 )\n",
    "plt.title( '배달목적지 주소 법정동 시도', size = 16 )\n",
    "plt.ylabel( '건수', size = 15 )\n",
    "plt.xlabel( '시도', size = 15 )\n",
    "plt.legend( fontsize = 10 )\n",
    "plt.xticks( rotation = 360)\n",
    "plt.show()"
   ]
  },
  {
   "cell_type": "markdown",
   "metadata": {},
   "source": [
    "- 경기도 > 서울 > 경남 순으로 배달 목적지가 많음."
   ]
  },
  {
   "cell_type": "markdown",
   "metadata": {},
   "source": [
    "## 9. DLVR_MAN_ID = 배달기사 ID"
   ]
  },
  {
   "cell_type": "code",
   "execution_count": 43,
   "metadata": {
    "scrolled": true
   },
   "outputs": [
    {
     "name": "stdout",
     "output_type": "stream",
     "text": [
      "7517\n"
     ]
    }
   ],
   "source": [
    "print( len( deli.DLVR_MAN_ID.unique() ) )"
   ]
  },
  {
   "cell_type": "markdown",
   "metadata": {},
   "source": [
    "- 기간 내 배달기사 총 7517명.\n",
    "- 많다.\n",
    "- 코로나 전에 비해 후에 배달기사가 늘었는지, 얼마나 늘었는지 알아보면 좋겠다."
   ]
  },
  {
   "cell_type": "code",
   "execution_count": 44,
   "metadata": {},
   "outputs": [],
   "source": [
    "df_DLVR_MAN_ID = pd.DataFrame( deli[ [ 'PROCESS_DT', 'DLVR_MAN_ID' ] ] )"
   ]
  },
  {
   "cell_type": "code",
   "execution_count": 45,
   "metadata": {},
   "outputs": [
    {
     "name": "stdout",
     "output_type": "stream",
     "text": [
      "<class 'pandas.core.frame.DataFrame'>\n",
      "RangeIndex: 5158324 entries, 0 to 5158323\n",
      "Data columns (total 2 columns):\n",
      " #   Column       Dtype         \n",
      "---  ------       -----         \n",
      " 0   PROCESS_DT   datetime64[ns]\n",
      " 1   DLVR_MAN_ID  object        \n",
      "dtypes: datetime64[ns](1), object(1)\n",
      "memory usage: 78.7+ MB\n"
     ]
    }
   ],
   "source": [
    "df_DLVR_MAN_ID.info()"
   ]
  },
  {
   "cell_type": "code",
   "execution_count": 46,
   "metadata": {},
   "outputs": [
    {
     "data": {
      "text/html": [
       "<div>\n",
       "<style scoped>\n",
       "    .dataframe tbody tr th:only-of-type {\n",
       "        vertical-align: middle;\n",
       "    }\n",
       "\n",
       "    .dataframe tbody tr th {\n",
       "        vertical-align: top;\n",
       "    }\n",
       "\n",
       "    .dataframe thead th {\n",
       "        text-align: right;\n",
       "    }\n",
       "</style>\n",
       "<table border=\"1\" class=\"dataframe\">\n",
       "  <thead>\n",
       "    <tr style=\"text-align: right;\">\n",
       "      <th></th>\n",
       "      <th>PROCESS_DT</th>\n",
       "      <th>DLVR_MAN_ID</th>\n",
       "    </tr>\n",
       "  </thead>\n",
       "  <tbody>\n",
       "    <tr>\n",
       "      <th>0</th>\n",
       "      <td>2020-01-01</td>\n",
       "      <td>D0005271</td>\n",
       "    </tr>\n",
       "    <tr>\n",
       "      <th>1</th>\n",
       "      <td>2020-01-01</td>\n",
       "      <td>D0003269</td>\n",
       "    </tr>\n",
       "    <tr>\n",
       "      <th>2</th>\n",
       "      <td>2020-01-01</td>\n",
       "      <td>D0001536</td>\n",
       "    </tr>\n",
       "    <tr>\n",
       "      <th>3</th>\n",
       "      <td>2020-01-01</td>\n",
       "      <td>D0005061</td>\n",
       "    </tr>\n",
       "    <tr>\n",
       "      <th>4</th>\n",
       "      <td>2020-01-01</td>\n",
       "      <td>D0005215</td>\n",
       "    </tr>\n",
       "    <tr>\n",
       "      <th>...</th>\n",
       "      <td>...</td>\n",
       "      <td>...</td>\n",
       "    </tr>\n",
       "    <tr>\n",
       "      <th>5158319</th>\n",
       "      <td>2020-06-21</td>\n",
       "      <td>D0013004</td>\n",
       "    </tr>\n",
       "    <tr>\n",
       "      <th>5158320</th>\n",
       "      <td>2020-06-21</td>\n",
       "      <td>D0006251</td>\n",
       "    </tr>\n",
       "    <tr>\n",
       "      <th>5158321</th>\n",
       "      <td>2020-06-21</td>\n",
       "      <td>D0012754</td>\n",
       "    </tr>\n",
       "    <tr>\n",
       "      <th>5158322</th>\n",
       "      <td>2020-06-21</td>\n",
       "      <td>D0004485</td>\n",
       "    </tr>\n",
       "    <tr>\n",
       "      <th>5158323</th>\n",
       "      <td>2020-06-21</td>\n",
       "      <td>D0006541</td>\n",
       "    </tr>\n",
       "  </tbody>\n",
       "</table>\n",
       "<p>5158324 rows × 2 columns</p>\n",
       "</div>"
      ],
      "text/plain": [
       "        PROCESS_DT DLVR_MAN_ID\n",
       "0       2020-01-01    D0005271\n",
       "1       2020-01-01    D0003269\n",
       "2       2020-01-01    D0001536\n",
       "3       2020-01-01    D0005061\n",
       "4       2020-01-01    D0005215\n",
       "...            ...         ...\n",
       "5158319 2020-06-21    D0013004\n",
       "5158320 2020-06-21    D0006251\n",
       "5158321 2020-06-21    D0012754\n",
       "5158322 2020-06-21    D0004485\n",
       "5158323 2020-06-21    D0006541\n",
       "\n",
       "[5158324 rows x 2 columns]"
      ]
     },
     "execution_count": 46,
     "metadata": {},
     "output_type": "execute_result"
    }
   ],
   "source": [
    "df_DLVR_MAN_ID"
   ]
  },
  {
   "cell_type": "code",
   "execution_count": 47,
   "metadata": {},
   "outputs": [],
   "source": [
    "df_DLVR_MAN_ID['PROCESS_DT'] = df_DLVR_MAN_ID['PROCESS_DT'].dt.month"
   ]
  },
  {
   "cell_type": "code",
   "execution_count": 48,
   "metadata": {
    "scrolled": true
   },
   "outputs": [
    {
     "name": "stdout",
     "output_type": "stream",
     "text": [
      "<class 'pandas.core.frame.DataFrame'>\n",
      "RangeIndex: 5158324 entries, 0 to 5158323\n",
      "Data columns (total 2 columns):\n",
      " #   Column       Dtype \n",
      "---  ------       ----- \n",
      " 0   PROCESS_DT   int64 \n",
      " 1   DLVR_MAN_ID  object\n",
      "dtypes: int64(1), object(1)\n",
      "memory usage: 78.7+ MB\n"
     ]
    }
   ],
   "source": [
    "df_DLVR_MAN_ID.info()"
   ]
  },
  {
   "cell_type": "code",
   "execution_count": 49,
   "metadata": {},
   "outputs": [
    {
     "data": {
      "text/html": [
       "<div>\n",
       "<style scoped>\n",
       "    .dataframe tbody tr th:only-of-type {\n",
       "        vertical-align: middle;\n",
       "    }\n",
       "\n",
       "    .dataframe tbody tr th {\n",
       "        vertical-align: top;\n",
       "    }\n",
       "\n",
       "    .dataframe thead th {\n",
       "        text-align: right;\n",
       "    }\n",
       "</style>\n",
       "<table border=\"1\" class=\"dataframe\">\n",
       "  <thead>\n",
       "    <tr style=\"text-align: right;\">\n",
       "      <th></th>\n",
       "      <th>index</th>\n",
       "      <th>PROCESS_DT</th>\n",
       "      <th>DLVR_MAN_ID</th>\n",
       "    </tr>\n",
       "  </thead>\n",
       "  <tbody>\n",
       "    <tr>\n",
       "      <th>0</th>\n",
       "      <td>0</td>\n",
       "      <td>1</td>\n",
       "      <td>D0005271</td>\n",
       "    </tr>\n",
       "    <tr>\n",
       "      <th>1</th>\n",
       "      <td>1</td>\n",
       "      <td>1</td>\n",
       "      <td>D0003269</td>\n",
       "    </tr>\n",
       "    <tr>\n",
       "      <th>2</th>\n",
       "      <td>2</td>\n",
       "      <td>1</td>\n",
       "      <td>D0001536</td>\n",
       "    </tr>\n",
       "    <tr>\n",
       "      <th>3</th>\n",
       "      <td>3</td>\n",
       "      <td>1</td>\n",
       "      <td>D0005061</td>\n",
       "    </tr>\n",
       "    <tr>\n",
       "      <th>4</th>\n",
       "      <td>4</td>\n",
       "      <td>1</td>\n",
       "      <td>D0005215</td>\n",
       "    </tr>\n",
       "    <tr>\n",
       "      <th>...</th>\n",
       "      <td>...</td>\n",
       "      <td>...</td>\n",
       "      <td>...</td>\n",
       "    </tr>\n",
       "    <tr>\n",
       "      <th>5158319</th>\n",
       "      <td>5158319</td>\n",
       "      <td>6</td>\n",
       "      <td>D0013004</td>\n",
       "    </tr>\n",
       "    <tr>\n",
       "      <th>5158320</th>\n",
       "      <td>5158320</td>\n",
       "      <td>6</td>\n",
       "      <td>D0006251</td>\n",
       "    </tr>\n",
       "    <tr>\n",
       "      <th>5158321</th>\n",
       "      <td>5158321</td>\n",
       "      <td>6</td>\n",
       "      <td>D0012754</td>\n",
       "    </tr>\n",
       "    <tr>\n",
       "      <th>5158322</th>\n",
       "      <td>5158322</td>\n",
       "      <td>6</td>\n",
       "      <td>D0004485</td>\n",
       "    </tr>\n",
       "    <tr>\n",
       "      <th>5158323</th>\n",
       "      <td>5158323</td>\n",
       "      <td>6</td>\n",
       "      <td>D0006541</td>\n",
       "    </tr>\n",
       "  </tbody>\n",
       "</table>\n",
       "<p>5158324 rows × 3 columns</p>\n",
       "</div>"
      ],
      "text/plain": [
       "           index  PROCESS_DT DLVR_MAN_ID\n",
       "0              0           1    D0005271\n",
       "1              1           1    D0003269\n",
       "2              2           1    D0001536\n",
       "3              3           1    D0005061\n",
       "4              4           1    D0005215\n",
       "...          ...         ...         ...\n",
       "5158319  5158319           6    D0013004\n",
       "5158320  5158320           6    D0006251\n",
       "5158321  5158321           6    D0012754\n",
       "5158322  5158322           6    D0004485\n",
       "5158323  5158323           6    D0006541\n",
       "\n",
       "[5158324 rows x 3 columns]"
      ]
     },
     "execution_count": 49,
     "metadata": {},
     "output_type": "execute_result"
    }
   ],
   "source": [
    "df_DLVR_MAN_ID = df_DLVR_MAN_ID.reset_index()\n",
    "df_DLVR_MAN_ID"
   ]
  },
  {
   "cell_type": "markdown",
   "metadata": {},
   "source": [
    "## 10. DLVR_AMOUNT = 배달비용"
   ]
  },
  {
   "cell_type": "code",
   "execution_count": 50,
   "metadata": {},
   "outputs": [
    {
     "name": "stdout",
     "output_type": "stream",
     "text": [
      "202100\n",
      "0\n"
     ]
    }
   ],
   "source": [
    "print( deli.DLVR_AMOUNT.max() )\n",
    "print( deli.DLVR_AMOUNT.min() )"
   ]
  },
  {
   "cell_type": "code",
   "execution_count": 51,
   "metadata": {},
   "outputs": [
    {
     "data": {
      "image/png": "[encoded data removed]",
      "text/plain": [
       "<Figure size 504x432 with 1 Axes>"
      ]
     },
     "metadata": {},
     "output_type": "display_data"
    }
   ],
   "source": [
    "plt.figure( figsize = ( 7, 6 ) )\n",
    "boxplot = deli.boxplot( column = [ 'DLVR_AMOUNT' ] )\n",
    "plt.show()"
   ]
  },
  {
   "cell_type": "markdown",
   "metadata": {},
   "source": [
    "- 배달비 범위는 최소 0원에서 202100원이다.\n",
    "- 박스플롯 그려보고 너무 높은 값은 이상치처리 해야 할 듯 하다."
   ]
  },
  {
   "cell_type": "markdown",
   "metadata": {},
   "source": [
    "## 11. CALL_RLAY_FEE_AMOUNT = 호출중계수수료금액"
   ]
  },
  {
   "cell_type": "code",
   "execution_count": 52,
   "metadata": {},
   "outputs": [
    {
     "name": "stdout",
     "output_type": "stream",
     "text": [
      "19500\n",
      "0\n"
     ]
    }
   ],
   "source": [
    "print( deli.CALL_RLAY_FEE_AMOUNT.max() )\n",
    "print( deli.CALL_RLAY_FEE_AMOUNT.min() )"
   ]
  },
  {
   "cell_type": "markdown",
   "metadata": {},
   "source": [
    "- 0원에서 19500원 사이"
   ]
  },
  {
   "cell_type": "markdown",
   "metadata": {},
   "source": [
    "## 12. GOODS_AMOUNT = 배달상품금액"
   ]
  },
  {
   "cell_type": "code",
   "execution_count": 53,
   "metadata": {},
   "outputs": [
    {
     "name": "stdout",
     "output_type": "stream",
     "text": [
      "999999\n",
      "1000\n"
     ]
    }
   ],
   "source": [
    "print( deli.GOODS_AMOUNT.max() )\n",
    "print( deli.GOODS_AMOUNT.min() )"
   ]
  },
  {
   "cell_type": "code",
   "execution_count": 54,
   "metadata": {},
   "outputs": [
    {
     "data": {
      "image/png": "[encoded data removed]",
      "text/plain": [
       "<Figure size 504x432 with 1 Axes>"
      ]
     },
     "metadata": {},
     "output_type": "display_data"
    }
   ],
   "source": [
    "plt.figure( figsize = ( 7, 6 ) )\n",
    "boxplot = deli.boxplot( column = [ 'GOODS_AMOUNT' ] )\n",
    "plt.show()"
   ]
  },
  {
   "cell_type": "markdown",
   "metadata": {},
   "source": [
    "- 천원과 99999원 사이( 99999원 이상은 자체 이상치처리 한 듯 하다. )"
   ]
  },
  {
   "cell_type": "markdown",
   "metadata": {},
   "source": [
    "## 13. SETLE_KND_VALUE = 결제종류번호 (1:카드, 2:선불, 3:현금)"
   ]
  },
  {
   "cell_type": "code",
   "execution_count": 55,
   "metadata": {
    "scrolled": false
   },
   "outputs": [
    {
     "name": "stdout",
     "output_type": "stream",
     "text": [
      "2    3022488\n",
      "1    1614705\n",
      "3     521131\n",
      "Name: SETLE_KND_VALUE, dtype: int64\n"
     ]
    }
   ],
   "source": [
    "print( deli.SETLE_KND_VALUE.value_counts() )"
   ]
  },
  {
   "cell_type": "code",
   "execution_count": 56,
   "metadata": {},
   "outputs": [
    {
     "data": {
      "text/plain": [
       "<matplotlib.legend.Legend at 0x240c3d11a08>"
      ]
     },
     "execution_count": 56,
     "metadata": {},
     "output_type": "execute_result"
    },
    {
     "data": {
      "image/png": "[encoded data removed]",
      "text/plain": [
       "<Figure size 1440x576 with 1 Axes>"
      ]
     },
     "metadata": {},
     "output_type": "display_data"
    }
   ],
   "source": [
    "deli.SETLE_KND_VALUE.value_counts().plot(kind='pie', figsize = (20,8), autopct='%.0f%%')\n",
    "\n",
    "plt.title('결제종류번호 (1:카드, 2:선불, 3:현금)',size =35)\n",
    "plt.legend()"
   ]
  },
  {
   "cell_type": "markdown",
   "metadata": {},
   "source": [
    "- 선불 > 카드 > 현금 순으로 많았다."
   ]
  },
  {
   "cell_type": "markdown",
   "metadata": {},
   "source": [
    "## 14. SETLE_CARD_CN = 결제카드종류"
   ]
  },
  {
   "cell_type": "code",
   "execution_count": 57,
   "metadata": {
    "scrolled": false
   },
   "outputs": [
    {
     "name": "stdout",
     "output_type": "stream",
     "text": [
      "38\n",
      "unknown        3541335\n",
      "승인:비씨카드사        437979\n",
      "승인:KB국민카드       313614\n",
      "승인:NH농협카드       232739\n",
      "승인:신한카드         231446\n",
      "승인:삼성카드사        110025\n",
      "승인:현대카드사         98275\n",
      "승인:하나카드          83770\n",
      "승인:롯데카드사         75484\n",
      "승인:              28066\n",
      "분할승인:현금           1174\n",
      "취소:                756\n",
      "분할승인:KB국민카드        633\n",
      "분할승인:비씨카드사         633\n",
      "분할승인:신한카드          395\n",
      "취소:비씨카드사           315\n",
      "분할승인:NH농협카드        315\n",
      "취소:KB국민카드          213\n",
      "분할승인:현대카드사         174\n",
      "분할승인:하나카드          156\n",
      "취소:신한카드            142\n",
      "분할승인:삼성카드사         138\n",
      "취소:NH농협카드          109\n",
      "분할승인:롯데카드사          97\n",
      "분할승인:               73\n",
      "취소:삼성카드사            60\n",
      "취소:현대카드사            52\n",
      "취소:하나카드             42\n",
      "취소:롯데카드사            33\n",
      "분할승인:지드림카드          28\n",
      "분할취소:               24\n",
      "승인:지드림카드            15\n",
      "분할취소:KB국민카드          4\n",
      "분할취소:NH농협카드          3\n",
      "분할취소:비씨카드사           3\n",
      "분할취소:신한카드            2\n",
      "분할취소:하나카드            1\n",
      "분할취소:삼성카드사           1\n",
      "Name: SETLE_CARD_CN, dtype: int64\n"
     ]
    }
   ],
   "source": [
    "print( len( deli.SETLE_CARD_CN.unique() ) )\n",
    "print( deli.SETLE_CARD_CN.value_counts() )"
   ]
  },
  {
   "cell_type": "markdown",
   "metadata": {},
   "source": [
    "- 슬라이싱 등을 통해서 승인, 취소 등 & 카드사 종류를 봐야겠다."
   ]
  },
  {
   "cell_type": "markdown",
   "metadata": {},
   "source": [
    "## 15. DLVR_RCEPT_TIME = 배달접수시간( = 시간별 건수 )"
   ]
  },
  {
   "cell_type": "markdown",
   "metadata": {},
   "source": [
    "## 16. DLVR_CARALC_TIME = 배달배차시간( 완료시간 - 이거 = 배달 소요시간 )"
   ]
  },
  {
   "cell_type": "markdown",
   "metadata": {},
   "source": [
    "## 17. DLVR_COMPT_TIME = 배달완료시간"
   ]
  },
  {
   "cell_type": "markdown",
   "metadata": {},
   "source": [
    "# 내가 알아보고 싶은 거"
   ]
  },
  {
   "cell_type": "code",
   "execution_count": 58,
   "metadata": {},
   "outputs": [],
   "source": [
    "deli['PROCESS_DT'] = deli['PROCESS_DT'].dt.month"
   ]
  },
  {
   "cell_type": "code",
   "execution_count": null,
   "metadata": {},
   "outputs": [],
   "source": []
  },
  {
   "cell_type": "code",
   "execution_count": null,
   "metadata": {},
   "outputs": [],
   "source": []
  },
  {
   "cell_type": "code",
   "execution_count": null,
   "metadata": {},
   "outputs": [],
   "source": []
  },
  {
   "cell_type": "code",
   "execution_count": null,
   "metadata": {},
   "outputs": [],
   "source": []
  },
  {
   "cell_type": "code",
   "execution_count": null,
   "metadata": {},
   "outputs": [],
   "source": []
  },
  {
   "cell_type": "code",
   "execution_count": null,
   "metadata": {},
   "outputs": [],
   "source": []
  },
  {
   "cell_type": "code",
   "execution_count": null,
   "metadata": {},
   "outputs": [],
   "source": []
  },
  {
   "cell_type": "code",
   "execution_count": null,
   "metadata": {},
   "outputs": [],
   "source": []
  },
  {
   "cell_type": "code",
   "execution_count": null,
   "metadata": {},
   "outputs": [],
   "source": []
  },
  {
   "cell_type": "code",
   "execution_count": null,
   "metadata": {},
   "outputs": [],
   "source": []
  }
 ],
 "metadata": {
  "kernelspec": {
   "display_name": "Python 3",
   "language": "python",
   "name": "python3"
  },
  "language_info": {
   "codemirror_mode": {
    "name": "ipython",
    "version": 3
   },
   "file_extension": ".py",
   "mimetype": "text/x-python",
   "name": "python",
   "nbconvert_exporter": "python",
   "pygments_lexer": "ipython3",
   "version": "3.7.7"
  }
 },
 "nbformat": 4,
 "nbformat_minor": 4
}
