{
 "cells": [
  {
   "cell_type": "markdown",
   "metadata": {},
   "source": [
    "# 딥러닝( Deep Learning ) 개요"
   ]
  },
  {
   "cell_type": "markdown",
   "metadata": {},
   "source": [
    "- 여러 비선형 변환기법의 조합을 통해 높은 수준의 추상화( abstractions , 다량의 데이터나 복잡한 자료들 속에서 핵심적인 내용 또는 기능을 요약하는 작업 )를 시도하는 기계 학습( Machine Learning ) 알고리즘( Algorithm )의 집합\n",
    "- 큰 틀에서 사람의 사고방식을 컴퓨터에게 가르치는 기계 학습( Machine Learning )의 한 분야\n",
    "- 딥러닝이 효과적으로 활용될 수 있는 분야가 영상처리( Image ), 음성처리, 자연어( Natural Language Processing, NLP ) 처리분야에서 좋은 성능을 발휘한다."
   ]
  },
  {
   "cell_type": "markdown",
   "metadata": {},
   "source": [
    "- 인공 신경망( Artificial Neural Network )은 수많은 머신 러닝( Machine Learning )중 하나이다. 하지만 최근 인공 신경망을 복잡하게 쌓아 올린 딥 러닝( Deep Learning )이 다른 머신 러닝 방법들을 뛰어넘는 성능을 보여주는 사례가 늘면서, 전통적인 머신 러닝과 딥 러닝을 구분해서 이해해야 한다는 의견도 있다.\n",
    "- 딥 러닝을 이해하기 위해서는 우선 인공 신경망에 대한 이해가 필요한데 초기 인공 신경망인 퍼셉트론( Perceptron )에 대한 이해해 본다."
   ]
  },
  {
   "cell_type": "markdown",
   "metadata": {},
   "source": [
    "# 퍼셉트론( Perceptron )"
   ]
  },
  {
   "cell_type": "markdown",
   "metadata": {},
   "source": [
    "- 퍼셉트론( Perceptron )은 1957년에 프랑크 로젠블라트( Frank Rosenblatt )가 제안한 초기 형태의 인공 신경망이다.\n",
    "- 다수의 입력으로부터 하나의 결과를 내보내는 알고리즘이다.\n",
    "- 퍼셉트론( Perceptron )은 실제 뇌를 구성하는 신경 세포 뉴런( Neuron )의 동작과 유사하다.\n",
    "\n",
    "![Alt text]( neuron.png )\n",
    "\n",
    "- 뉴런( Neuron )은 가지돌기에서 신호를 받아들이고, 이 신호는 일정치 이상의 크기를 가지면 축삭돌기를 통해서 신호를 전달한다."
   ]
  },
  {
   "cell_type": "markdown",
   "metadata": {},
   "source": [
    "![Alt text]( perceptrin1_final.png )\n",
    "\n",
    "- 신경 세포 뉴런의 입력 신호와 출력 신호가 퍼셉트론( Perceptron )에서 각각 입력값과 출력값에 해당된다.\n",
    "- x는 입력값을 의미하고, W는 가중치( weight ), y는 출력값이다.\n",
    "- 그림에서 원은 인공 뉴런( Neuron )에 해당한다.\n",
    "- 실제 신경 세포 뉴런에서의 신호를 전달하는 축삭돌기의 역활을 퍼셉트론에서는 가중치가 대신한다.\n",
    "- 각각의 인공 뉴런에서 보내진 입력값 x는 각각의 가중치 W와 함께 종착지인 인공 뉴런에 전딜된다.\n",
    "- 각각의 입력값에는 각각의 가중치가 존재하는데, 이 때 가중치의 값이 크면 클수록 해당 입력 값이 중요하다는 것을 의미한다."
   ]
  },
  {
   "cell_type": "markdown",
   "metadata": {},
   "source": [
    "- 각 입력값이 가중치와 곱해져서 인공 뉴런에 보내지고, 각 입력값과 그에 해당되는 가중치의 곱의 전체 합이 임계치( threshold )를 넘으면 종착지에 있는 인공 뉴런은 출력 신호로서 1을 출력하고, 그렇지 않을 경우에는 0을 출력한다.\n",
    "- 이와 같이 0 또는 1을 출력하는 함수가 계단 함수( step function )이라고 한다.\n",
    "\n",
    "![Alt text]( step_function.png )"
   ]
  },
  {
   "cell_type": "markdown",
   "metadata": {},
   "source": [
    "- 계단 함수에 사용된 이 임계치값을 수식으로 표현할 때는 보통 세타로 표현한다.\n",
    "\n",
    "\\begin{equation*}\n",
    "    if \\sum_{i}^nW_ix_i \\geqq \\theta \\rightarrow y = 1\n",
    "\\end{equation*}\n",
    "\n",
    "\\begin{equation*}\n",
    "    if \\sum_{i}^nW_ix_i < \\theta \\rightarrow y = 0\n",
    "\\end{equation*}\n",
    "\n",
    "- 이 식에서 임계치를 좌변으로 넘기고 편향 b( bias )로 표현 할 수도 있다. 편향 b 또한 퍼셉트론의 입력으로 사용된다.\n",
    "\n",
    "![Alt text]( perceptron2_final.png )\n",
    "\n",
    "\\begin{equation*}\n",
    "    if\\sum_{i}^nW_ix_i + b \\geqq 0 \\rightarrow y = 1\n",
    "\\end{equation*}\n",
    "\n",
    "\\begin{equation*}\n",
    "    if\\sum_{i}^nW_ix_i + b < 0 \\rightarrow y = 0\n",
    "\\end{equation*}"
   ]
  },
  {
   "cell_type": "markdown",
   "metadata": {},
   "source": [
    "- 뉴런에서 출력값을 변경시키는 함수를 활성화 함수( Activation Function )이라고 한다.\n",
    "- 초기 인공 신경망 모델인 퍼셉트론은 활성화 함수로 계단 함수( step function )을 사용하였지만, 이 후 여러가지 발전된 신경망들은 계단 함수 외에도 여러 다양한 활성화 함수를 사용하기 시작하였다.\n",
    "- 시그모이드( sigmoid )나 소프트맥스( softmax ) 함수 또한 활성화 함수 중 하나이다.\n",
    "- 퍼셉트론의 활성화 함수는 계단 함수이지만 활성화 함수를 시그모이드 함수로 변경하면 Logistic Regression의 이진 분류( Binary Classification )를 수행한다.\n",
    "- 즉, 로지스틱 회귀 모델이 인공 신경망에서는 하나의 인공 뉴런으로 볼수 있다. \n",
    "- 로지스틱 회귀를 수행하는 인공 뉴런과 퍼셉트론의 차이는 오직 활성화 함수의 차이이다."
   ]
  },
  {
   "cell_type": "markdown",
   "metadata": {},
   "source": [
    "## 단층 퍼셉트론( Single-Layer Perceptron )"
   ]
  },
  {
   "cell_type": "markdown",
   "metadata": {},
   "source": [
    "- 퍼셉트론은 단층 퍼셉트론과 다층 퍼셉트론으로 나뉜다.\n",
    "- 단층 퍼셉트론은 값을 보내는 단계와 값을 받아서 출력하는 두 단계로 이루어진다.\n",
    "- 각 단계를 보통 층( layer )라고 부르며, 이 두 개의 층을 입력층( input layer )과 출력층( output layer )라고 한다.\n",
    "\n",
    "![Alt text]( perceptron3_final.png )"
   ]
  },
  {
   "cell_type": "markdown",
   "metadata": {},
   "source": [
    "- 단층 퍼셉트론을 이용하면 AND, OR, NAND 게이트를 쉽게 구현할 수 있다.\n",
    "- 게이트 연산에 쓰이는 것은 두 개의 입력값과 하나의 출력값이다.\n",
    "- AND 게이트의 경우 두 개의 입력 값이 모두 1인 경우만 출력값이 1이 나오는 구조이다.\n",
    "\n",
    "|x1|x2|y|\n",
    "|---:|---:|---:|\n",
    "|0|0|0|\n",
    "|0|1|0|\n",
    "|1|0|0|\n",
    "|1|1|1|\n",
    "\n",
    "- 단층 퍼셉트론의 식을 통해 AND 게이트를 만족하는 두 개의 가중치와 편향 값을 각각 w1, w2, b라고 한다면 [ 0.5, 0.5, -0.7 ], [ 0.5, 0.5, -0.8 ] 또는 [ 1.0, 1.0, -1.0 ]등 이외에도 다양한 가중치와 편향의 조합이 나올 수 있다."
   ]
  },
  {
   "cell_type": "code",
   "execution_count": 5,
   "metadata": {},
   "outputs": [],
   "source": [
    "def AND_gate( x1, x2 ):\n",
    "    w1 = 1.0\n",
    "    w2 = 1.0\n",
    "    b = -1.0\n",
    "    result = x1 * w1 + x2 * w2 + b\n",
    "    \n",
    "    if result <= 0:\n",
    "        return 0\n",
    "    else:\n",
    "        return 1"
   ]
  },
  {
   "cell_type": "code",
   "execution_count": 6,
   "metadata": {},
   "outputs": [
    {
     "data": {
      "text/plain": [
       "(0, 0, 0, 1)"
      ]
     },
     "execution_count": 6,
     "metadata": {},
     "output_type": "execute_result"
    }
   ],
   "source": [
    "AND_gate( 0, 0 ), AND_gate( 0, 1 ), AND_gate( 1, 0 ), AND_gate( 1, 1 )"
   ]
  },
  {
   "cell_type": "markdown",
   "metadata": {},
   "source": [
    "- NAND 게이트의 경우 두 개의 입력 값이 1인 경우만 출력값이 0, 나머지 입력값의 쌍( pair )에 대해서는 모두 출력값이 1이 나오는 구조이다.\n",
    "\n",
    "|x1|x2|y|\n",
    "|---:|---:|---:|\n",
    "|0|0|1|\n",
    "|0|1|1|\n",
    "|1|0|1|\n",
    "|1|1|0|\n",
    "\n",
    "- NAND 게이트를 만족하는 두 개의 가중치와 편향 값을 각각 w1, w2, b라고 한다면 [ 0.5, 0.5, -0.7 ], [ -0.5, -0.5, +0.7 ] 등 이외에도 다양한 가중치와 편향의 조합이 나올 수 있다."
   ]
  },
  {
   "cell_type": "code",
   "execution_count": 15,
   "metadata": {},
   "outputs": [],
   "source": [
    "def NAND_gate( x1, x2 ):\n",
    "    w1 = -0.5\n",
    "    w2 = -0.5\n",
    "    b = 0.7\n",
    "    result = x1 * w1 + x2 * w2 + b\n",
    "    \n",
    "    if result <= 0:\n",
    "        return 0\n",
    "    else:\n",
    "        return 1"
   ]
  },
  {
   "cell_type": "code",
   "execution_count": 16,
   "metadata": {},
   "outputs": [
    {
     "data": {
      "text/plain": [
       "(1, 1, 1, 0)"
      ]
     },
     "execution_count": 16,
     "metadata": {},
     "output_type": "execute_result"
    }
   ],
   "source": [
    "NAND_gate( 0, 0 ), NAND_gate( 0, 1 ), NAND_gate( 1, 0 ), NAND_gate( 1, 1 )"
   ]
  },
  {
   "cell_type": "markdown",
   "metadata": {},
   "source": [
    "- OR 게이트의 경우 두 개의 입력 값이 0인 경우만 출력값이 0, 나머지 입력값의 쌍( pair )에 대해서는 모두 출력값이 1이 나오는 구조이다.\n",
    "\n",
    "|x1|x2|y|\n",
    "|---:|---:|---:|\n",
    "|0|0|0|\n",
    "|0|1|1|\n",
    "|1|0|1|\n",
    "|1|1|1|\n",
    "\n",
    "- OR 게이트를 만족하는 두 개의 가중치와 편향 값을 각각 w1, w2, b라고 한다면 [ 0.6, 0.6 -0.5 ] 등 이외에도 다양한 가중치와 편향의 조합이 나올 수 있다."
   ]
  },
  {
   "cell_type": "code",
   "execution_count": 17,
   "metadata": {},
   "outputs": [],
   "source": [
    "def OR_gate( x1, x2 ):\n",
    "    w1 = 0.6\n",
    "    w2 = 0.6\n",
    "    b = -0.5\n",
    "    result = x1 * w1 + x2 * w2 + b\n",
    "    \n",
    "    if result <= 0:\n",
    "        return 0\n",
    "    else:\n",
    "        return 1"
   ]
  },
  {
   "cell_type": "code",
   "execution_count": 18,
   "metadata": {},
   "outputs": [
    {
     "data": {
      "text/plain": [
       "(0, 1, 1, 1)"
      ]
     },
     "execution_count": 18,
     "metadata": {},
     "output_type": "execute_result"
    }
   ],
   "source": [
    "OR_gate( 0, 0 ), OR_gate( 0, 1 ), OR_gate( 1, 0 ), OR_gate( 1, 1 )"
   ]
  },
  {
   "cell_type": "markdown",
   "metadata": {},
   "source": [
    "- 단층 퍼셉트론은 AND, OR, NAND 게이트에 대해서 구현이 가능하나 XOR 게이트에 대해서는 구현이 불가능하다.\n",
    "- XOR 게이트는 입력값 두 개가 서로 다른 값을 갖고 있을때에만 출력값이 1이 되고, 입력값 두 개가 서로 같은 값을 가지면 출력값이 0이 되는 게이트이다.\n",
    "- 단층 퍼셉트론은 직선 하나로 두 영역을 나눌 수 있는 문제에 대해서만 구현이 가능하기 때문에 XOR 게이트는 단층 퍼셉트론의 가중치와 편향을 아무리 변경해도 구현 할 수 없다."
   ]
  },
  {
   "cell_type": "markdown",
   "metadata": {},
   "source": [
    "- AND 게이트에 대한 단층 퍼셉트론 시각화\n",
    "\n",
    "![Alt text]( andgraphgate.png )\n",
    "\n",
    "- 출력값 0을 하얀색 원, 1을 검은색 원으로 표현\n",
    "- AND 게이트를 충족하려면 하얀색 원과 검은색 원을 직선으로 나누게 된다."
   ]
  },
  {
   "cell_type": "markdown",
   "metadata": {},
   "source": [
    "- NAND 게이트와 OR 게이트에 대해서도 시각화 했을 때 직선으로 나누는 것이 가능하다.\n",
    "\n",
    "![Alt text]( oragateandnandgate.png )"
   ]
  },
  {
   "cell_type": "markdown",
   "metadata": {},
   "source": [
    "- XOR 게이트는 입력값 두 개가 서로 다른 값을 갖고 있을때에만 출력값이 1이 되고, 입력값 두 개가 서로 같은 값을 가지면 출력값이 0이 되는 게이트이다.\n",
    "- XOR 게이트에 대한 단층 퍼셉트론 시각화\n",
    "\n",
    "![Alt text]( xorgraphandxorgate.png )"
   ]
  },
  {
   "cell_type": "markdown",
   "metadata": {},
   "source": [
    "- 하얀색 원과 검은색 원을 직선 하나로 나누는 것이 불가능하다.\n",
    "- 즉, 단층 퍼셉트론으로는 XOR 게이트를 구현하는 것이 불가능하다.\n",
    "- 이는 단층 퍼셉트론이 선형 영역에 대해서만 분리가 가능하다는 것을 말한다.\n",
    "- XOR 게이트는 직선이 아닌 곡선, 비선형 영역으로 분리하면 구현이 가능하다.\n",
    "\n",
    "![Alt text]( xorgate_nonlinearity.png )"
   ]
  },
  {
   "cell_type": "markdown",
   "metadata": {},
   "source": [
    "## 다층 퍼셉트론( Multi-Layer Perceptron, MLP )"
   ]
  },
  {
   "cell_type": "markdown",
   "metadata": {},
   "source": [
    "- XOR 게이트는 기존의 AND, OR, NAND 게이트를 조합하면 만들 수 있따.\n",
    "- 퍼셉트론 관점에서 층을 더 쌓으면 만들 수 있다.\n",
    "- 다층 퍼셉트론과 단층 퍼셉트론의 차이는 단층 퍼셉트론은 입력층과 출력층만 존재하지만, 다층 퍼셉트론은 중간에 층을 더 추가하였다는 점이다.\n",
    "- 이와같이 입력층과 출력층 사이에 존재하는 층을 은닉층( hidden layer )이라 한다.\n",
    "- 즉, 다층 퍼셉트론은 입력층과 출력층 사이에 은닉층이 존재한다는 점이 단층 퍼셉트론과 다른 점이다.\n",
    "\n",
    "![Alt text]( perceptron_4image.jpg )"
   ]
  },
  {
   "cell_type": "code",
   "execution_count": 19,
   "metadata": {},
   "outputs": [],
   "source": [
    "def XOR_gate( x1, x2 ):\n",
    "    s1 = NAND_gate( x1, x2 )\n",
    "    s2 = OR_gate( x1, x2 )\n",
    "    y = AND_gate( s1, s2 )\n",
    "    \n",
    "    return y"
   ]
  },
  {
   "cell_type": "code",
   "execution_count": 20,
   "metadata": {},
   "outputs": [
    {
     "data": {
      "text/plain": [
       "(0, 1, 1, 0)"
      ]
     },
     "execution_count": 20,
     "metadata": {},
     "output_type": "execute_result"
    }
   ],
   "source": [
    "XOR_gate( 0, 0 ), XOR_gate( 0, 1 ), XOR_gate( 1, 0 ), XOR_gate( 1, 1 )"
   ]
  },
  {
   "cell_type": "markdown",
   "metadata": {},
   "source": [
    "- XOR 예제에서는 은닉층을 1개만으로 문제를 해결할 수 있었지만, 다층 퍼셉트론은 본래 은닉층이 1개 이상인 퍼셉트론이다.\n",
    "- 즉, XOR 문제보다 더욱 복잡한 문제를 해결하기 위해서 다층 퍼셉트론은 중간에 수많은 은닉층을 더 추가할 수 있다.\n",
    "- 은닉층의 개수는 2개일 수도 있고, 수십 개일수도 있고 사용자가 설정하기 나름이다.\n",
    "- 다음은 더 어려운 문제를 풀기 위해서 은닉층이 하나 더 추가되고( 은닉층 2개 ), 뉴런의 개수를 늘린 다층 퍼셉트론이다.\n",
    "\n",
    "![Alt text]( DNN.png )"
   ]
  },
  {
   "cell_type": "markdown",
   "metadata": {},
   "source": [
    "- 은닉층이 2개 이상인 신경망을 심층 신경망( Deep Neural Network, DNN )이라고 한다.\n",
    "- 심층 신경망은 다층 퍼셉트론만 이야기 하는 것이 아니라, 여러 변형된 다양한 신경망들도 은닉층이 2개 이상이 되면 심층 신경망이라고 한다.\n",
    "- AND, OR, NAND, XOR 게이트에서 퍼셉트론이 가야할 정답을 참고로 퍼셉트론이 정답을 출력할 때까지 가중치와 편향을 바꾸보면서 맞는 가중치와 편향을 결정하였다. 즉, 수동으로 가중치와 편향을 찾았다.\n",
    "- 하지만 기계가 가중치와 편향을 스스로 찾아내도록 자동화시켜야하는데, 이것이 머신 러닝에서 말하는 학습( training ) 단계에 해당한다.\n",
    "- DNN을 이용한 학습 단계에서도 손실 함수( Loss Function )과 옵티마이저( Optimizer )를 사용한다.\n",
    "- 만약 학습을 시키는 인공 신경망이 심층 신경망일 경우에는 이를 심층 신경망을 학습시킨다고 하여, 딥 러닝( Deep Learning )이라한다."
   ]
  },
  {
   "cell_type": "markdown",
   "metadata": {},
   "source": [
    "## 인공 신경망( Artificial Neural Network )"
   ]
  },
  {
   "cell_type": "markdown",
   "metadata": {},
   "source": [
    "### 1. 피드 포워드 신경망( Feed-Forward Neural Network, FFNN )\n",
    "\n",
    "![Alt text]( mlp_final.png )\n",
    "\n",
    "- 다층 퍼셉트론( Multi-Layer Percepteron, MLP )과 같이 입력층에서 출력층 방향으로 연산이 전개되는 신경망을 피드 포워드 신경망( Feed-Forward Neural Network, FFNN )이라고 한다.\n",
    "\n",
    "![Alt text]( rnn_final.png )\n",
    "\n",
    "- FFNN이 아닌 순환 신경망( Recurrent Neural Network, RNN )이라는 신경망이다.\n",
    "- 이 신경망은 은닉층의 출력값을 출력층으로도 값을 보내지만 동시에 은닉층의 출력값이 다시 은닉층의 입력으로 사용되는데 이는 FFNN의 정의에서 벗어난다."
   ]
  },
  {
   "cell_type": "markdown",
   "metadata": {},
   "source": [
    "### 2. 전결합층( Fully-connected layer, FC, Dense layer )\n",
    "\n",
    "- 다층 퍼셉트론은 은닉층과 출력층에 있는 모든 뉴런이 바로 이전 층의 모든 뉴런과 연결돼 있다. 이와 같이 어떤 층의 모든 뉴런이 이전 층의 모든 뉴런과 연결돼 있는 층을 전결합층이라하고 FC라 부르기도 한다.\n",
    "- 이전 다층 퍼셉트론의 모든 은닉층과 출력층은 전결합층이고, 밀집층( Dense layer )라로 부르기도 한다.\n",
    "- 전결합층만으로 구성된 피드 포워드 신경망은 전결합 피드 포워드 신경망( Fully-connected FFNN ) 이라고도 한다."
   ]
  },
  {
   "cell_type": "markdown",
   "metadata": {},
   "source": [
    "### 3. 활성화 함수( Activation Function )\n",
    "\n",
    "![Alt text]( activation_function_final.png )\n",
    "\n",
    "- 퍼셉트론에서 계단 함수( step function )를 통해 출력값이 0이 될지, 1이 될지를 결정했다.\n",
    "- 이와같은 동작은 실제 뇌를 구성하는 신경 세포 뉴런이 전위가 일정치 이상이 되면 시냅스가 서로 화학적으로 연결되는 모습을 모방한 것이다.\n",
    "- 은닉층과 출력층의 뉴런에서 출력값을 결정하는 함수를 활성화 함수( Activation Function )라고 하며 계단 함수는 이러한 활성화 함수중 하나에 불과하다."
   ]
  },
  {
   "cell_type": "markdown",
   "metadata": {},
   "source": [
    "#### 1) 활성화 함수의 특징 - 비선형 함수( Nonlinear Function )\n",
    "\n",
    "- 활성화 함수의 특징은 선형 함수가 아닌 비선형 함수여야 한다는 점이다.\n",
    "- 선형 함수는 출력이 입력의 상부배만큼 변하는 함수를 선형 함수라 하며  \n",
    "    - f( x ) = Wx + y 라는 함수에서 W와 b는 상수이다.  \n",
    "    - 이 식은 그래프를 그리면 직선이 그려진다.\n",
    "- 비선형 함수는 직선 1개로는 그릴 수 없는 함수를 말한다.\n",
    "- 인공 신경망의 활성화 함수는 반드시 비선형 함수여야한다. 퍼셉트론에서 사용한 계단 함수는 비선형 함수에 속한다."
   ]
  },
  {
   "cell_type": "markdown",
   "metadata": {},
   "source": [
    "- 인공 신경망의 능력을 높이기 위해서는 은닉층을 추가해야 한다.\n",
    "- 그런데 만약 활성화 함수를 선형 함수를 사용하게 되면 은닉층을 쌓을 수가 없다.\n",
    "\n",
    "    - 활성화 함수를 선형 함수를 선택하고, 층을 계속 쌓는다고 가정하면\n",
    "    - 활성화 함수가 f( x ) = Wx라 가정하고\n",
    "    - 은닉층을 두 개 추가한다면 출력층을 포함해서 y( x ) = f(f(f( x )))가 된다.\n",
    "    - 이 를 식으로 표현하면 W x W x W x x이고 이는 W의 세 제곱값을 k로 정의하면 y( x ) = kx와 같이 다시 표현 가능하다.\n",
    "    - 즉, 선형 함수로는 은닉층을 여러번 추가하더라도 1회 추가한 것과 차이가 없다.\n",
    "\n",
    "- 선형 함수를 사용한 은닉층을 1회 추가한 것과 연속으로 추가하는 것이 차이가 없다는 뜻이지, 선형 함수를 사용한 층이 의미가 없다는 것은 아니다. 학습 가능한 가중치가 새로 생긴다는 점에서 의미가 있다.\n",
    "    - 이와 같이 선형 함수를 사용한 층을 활성화 함수를 사용하는 은닉층과 구분하기 위해 선형층( linear layer )이나 투사층( projection layer )등의 다른 표현을 사용한다.\n",
    "    \n",
    "- 활성화 함수를 사용하는 일반적인 은닉층을 선형층과 대비되는 표현을 사용하면 비선형층( nonlinear layer )이라 한다."
   ]
  },
  {
   "cell_type": "code",
   "execution_count": 2,
   "metadata": {},
   "outputs": [],
   "source": [
    "%matplotlib inline\n",
    "\n",
    "import numpy as np\n",
    "import matplotlib.pyplot as plt"
   ]
  },
  {
   "cell_type": "markdown",
   "metadata": {},
   "source": [
    "#### 2) 계단 함수( step function )\n",
    "\n",
    "- 지금은 거의 사용되지 않지만 퍼셉트론을 통해 처음 인공 신경망을 이해할 때 사용한 활성화 함수이다."
   ]
  },
  {
   "cell_type": "code",
   "execution_count": 3,
   "metadata": {},
   "outputs": [],
   "source": [
    "def step( x ):\n",
    "    return np.array( x > 0, dtype = np.int )"
   ]
  },
  {
   "cell_type": "code",
   "execution_count": 4,
   "metadata": {},
   "outputs": [
    {
     "data": {
      "image/png": "[encoded data removed]",
      "text/plain": [
       "<Figure size 432x288 with 1 Axes>"
      ]
     },
     "metadata": {
      "needs_background": "light"
     },
     "output_type": "display_data"
    }
   ],
   "source": [
    "x = np.arange( -5.0, 5.0, 0.1 )\n",
    "y = step( x )\n",
    "plt.plot( x, y )\n",
    "plt.title( 'step function' )\n",
    "\n",
    "plt.show()"
   ]
  },
  {
   "cell_type": "markdown",
   "metadata": {},
   "source": [
    "#### 3) 시그모이드 함수( sigmoid function )"
   ]
  },
  {
   "cell_type": "code",
   "execution_count": 10,
   "metadata": {},
   "outputs": [],
   "source": [
    "def sigmoid( x ):\n",
    "    return 1 / ( 1 + np.exp( -x ) )"
   ]
  },
  {
   "cell_type": "code",
   "execution_count": 11,
   "metadata": {},
   "outputs": [
    {
     "data": {
      "image/png": "[encoded data removed]",
      "text/plain": [
       "<Figure size 432x288 with 1 Axes>"
      ]
     },
     "metadata": {
      "needs_background": "light"
     },
     "output_type": "display_data"
    }
   ],
   "source": [
    "x = np.arange( -5.0, 5.0, 0.1 )\n",
    "y = sigmoid( x )\n",
    "plt.plot( x, y )\n",
    "plt.plot( [ 0, 0 ], [ 1.0, 0.0 ], ':' )\n",
    "plt.title( 'sigmoid function' )\n",
    "\n",
    "plt.show()"
   ]
  },
  {
   "cell_type": "markdown",
   "metadata": {},
   "source": [
    "#### 기울기 소실\n",
    "\n",
    "- 시그모이드 함수를 사용한 인공 신경망이 있다 가정하면\n",
    "\n",
    "![Alt text]( simple-neural-network.png )\n",
    "\n",
    "- 위 신경망의 학습 과정은 인공 신경망은 입력에 대해서 순전파( forward propagation ) 연산을 하고, 그리고 순전파 연산을 통해 나온 예측값과 실제값의 오차를 손실 함수( loss function )을 통해 계산하고, 그리고 손실( loss )을 미분을 통해서 기울기( gradient )를 구하고, 이를 통해 역전파( back propagation )을 수행한다.\n",
    "- 시그모이드 함수의 문제점은 미분을 통해 기울기( gradient )를 구할 때 발생한다."
   ]
  },
  {
   "cell_type": "markdown",
   "metadata": {},
   "source": [
    "![Alt text]( sigmoid2.png )\n",
    "\n",
    "- 시그모이드 함수의 출력값이 0 또는 1에 가까워지면, 그래프의 기울기가 완만해 지는 모습을 볼 수 있다.\n",
    "- 기울기가 완만해지는 구간을 주황색, 그렇지 않은 구간을 초록색으로 표시했을 때, 주황색 부분은 기울기를 계산하면 0에 가까운 아주 작은 값이 나오게 된다.\n",
    "- 그런데 역전파 과정에서 0에 가까운 아주 작은 기울기가 곱해지게 되면, 앞단에는 기울기가 잘 전달되지 않게 된다.\n",
    "- 이러한 현상을 기울기 소실( Vanishing Gradient ) 문제라고 한다.\n",
    "\n",
    "![Alt text]( VanishingGradient.png )\n",
    "\n",
    "- 시그모이드 함수를 사용하는 은닉층의 개수가 다수가 될 경우에는 0에 가까운 기울기가 계속 곱해지면 앞단에서는 거의 기울기를 전파 받을 수 없게 된다.\n",
    "- 다시 말해 매개변수 W가 업데이트 되지 않아 학습이 되지 않는다.\n",
    "- 결론적으로 시그모이드 함수를 은닉층에서 사용하는 것은 지양한다."
   ]
  },
  {
   "cell_type": "markdown",
   "metadata": {},
   "source": [
    "#### 4) 하이퍼볼릭탄젠트 함수( Hyperbolic tangent function )\n",
    "\n",
    "- 입력값을 -1과 1사이의 값으로 변환하는 함수"
   ]
  },
  {
   "cell_type": "code",
   "execution_count": 14,
   "metadata": {},
   "outputs": [
    {
     "data": {
      "image/png": "[encoded data removed]",
      "text/plain": [
       "<Figure size 432x288 with 1 Axes>"
      ]
     },
     "metadata": {
      "needs_background": "light"
     },
     "output_type": "display_data"
    }
   ],
   "source": [
    "x = np.arange( -5.0, 5.0, 0.1 )\n",
    "y = np.tanh( x )\n",
    "plt.plot( x, y )\n",
    "plt.plot( [ 0, 0 ], [ 1.0, -1.0 ], ':' )\n",
    "plt.axhline( y = 0, color = 'orange', linestyle = '--' )\n",
    "plt.title( 'Tanh Function' )\n",
    "\n",
    "plt.show()"
   ]
  },
  {
   "cell_type": "markdown",
   "metadata": {},
   "source": [
    "- 하이퍼볼릭탄젠트 함수도 -1과 1에 가까운 출력값을 출력할 때, 시그모이드 함수와 같은 문제가 발생한다.\n",
    "- 하이퍼볼릭탄젠트 함수의 경우에는 시그모이드 함수와는 달리 0을 중심으로 하고 있는데, 이 때문에 시그모이드 함수와 비교하면 반환값의 변화폭이 더 큰다.\n",
    "- 시그모이드 함수보다는 기울기 소실 증상이 적은 편이다.\n",
    "- 은닉층에서 시그모이드 함수보다는 많이 사용된다."
   ]
  },
  {
   "cell_type": "markdown",
   "metadata": {},
   "source": [
    "#### 5) 렐루 함수( ReLu function )\n",
    "\n",
    "- 인공 신경망에서 가장 많이 사용되는 활성화 함수\n",
    "- f( x ) = max( 0, x )"
   ]
  },
  {
   "cell_type": "code",
   "execution_count": 28,
   "metadata": {},
   "outputs": [],
   "source": [
    "def relu( x ):\n",
    "    return np.maximum( 0, x )"
   ]
  },
  {
   "cell_type": "code",
   "execution_count": 29,
   "metadata": {},
   "outputs": [
    {
     "data": {
      "image/png": "[encoded data removed]",
      "text/plain": [
       "<Figure size 432x288 with 1 Axes>"
      ]
     },
     "metadata": {
      "needs_background": "light"
     },
     "output_type": "display_data"
    }
   ],
   "source": [
    "x = np.arange( -5.0, 5.0, 0.1 )\n",
    "y = relu( x )\n",
    "plt.plot( x, y )\n",
    "plt.plot( [ 0, 0 ], [ 5.0, 0.0 ], ':' )\n",
    "plt.title( 'Relu function' )\n",
    "\n",
    "plt.show()"
   ]
  },
  {
   "cell_type": "markdown",
   "metadata": {},
   "source": [
    "- 음수를 입력하면 0을 출력하고, 양수를 입력하면 입력값을 그대로 반환한다.\n",
    "- 렐루 함수는 특정 양수값에 수렴하지 않으므로 깊은 신경망에서 시그모이드 함수보다 훨씬 더 잘 작동한다. 뿐만 아니라, 렐루 함수는 시그모이드 함수와 하이퍼볼릭탄젠트 함수와 같이 어떤 연산이 필요한 것이 아니라 단순 임계값이므로 연산 속도가 빠르다.\n",
    "- 문제점은 입력값이 음수면 기울기도 0이 된다는 것이다. 그리고 이 뉴런은 다시 회생하는 것이 매우 어렵다. 이 문제를 죽은 렐루( dying ReLu )라고 한다."
   ]
  },
  {
   "cell_type": "markdown",
   "metadata": {},
   "source": [
    "#### 5) 리키 렐루 함수( Leaky ReLu function )\n",
    "\n",
    "- 죽은 렐루를 보완하기 위해 ReLu 함수의 변형 함수들이 등장하였다.\n",
    "- 리키 렐루 함수( Leaky ReLu Function )은 입력값이 음수일 경우에 0이 아니라 0.001과 같은 매우 작은 수를 반환하도록 되어 있다.\n",
    "- f( x ) = max( ax, x ), a는 하이퍼파라미터로 Leaky( '새는' ) 정도를 결정하며 일반적으로는 0.01의 값을 가진다.\n",
    "- '새는 정도'라는 것은 입력값의 음수일 때의 기울기를 비유하는 것이다."
   ]
  },
  {
   "cell_type": "code",
   "execution_count": 30,
   "metadata": {},
   "outputs": [],
   "source": [
    "a = 0.1"
   ]
  },
  {
   "cell_type": "code",
   "execution_count": 31,
   "metadata": {},
   "outputs": [],
   "source": [
    "def leaky_ReLu( x ):\n",
    "    return np.maximum( a * x, x )"
   ]
  },
  {
   "cell_type": "code",
   "execution_count": 32,
   "metadata": {},
   "outputs": [
    {
     "data": {
      "image/png": "[encoded data removed]",
      "text/plain": [
       "<Figure size 432x288 with 1 Axes>"
      ]
     },
     "metadata": {
      "needs_background": "light"
     },
     "output_type": "display_data"
    }
   ],
   "source": [
    "x = np.arange( -5.0, 5.0, 0.1 )\n",
    "y = leaky_ReLu( x )\n",
    "plt.plot( x, y )\n",
    "plt.plot( [ 0, 0 ], [ 5.0, 0.0 ], ':' )\n",
    "plt.title( 'Leaky ReLu function' )\n",
    "plt.show()"
   ]
  },
  {
   "cell_type": "markdown",
   "metadata": {},
   "source": [
    "- 입력값이 음수라도 기울기가 0이 되지 않으면 ReLU는 죽지 않는다.|"
   ]
  },
  {
   "cell_type": "markdown",
   "metadata": {},
   "source": [
    "#### 7) 소프트맥스 함수( Softmax Function )\n",
    "\n",
    "- 은닉층에서 ReLU( 또는 ReLU 변형 )함수들을 사용하는 것이 일반적이지만 시그모디드 함수나 소프트맥스 함수가 사용되지 않는다는 의미는 아니다.\n",
    "- 분류 문제를 로지스틱 회귀와 소프트맥스 회귀를 출력층에 적용하여 사용한다."
   ]
  },
  {
   "cell_type": "code",
   "execution_count": 33,
   "metadata": {},
   "outputs": [
    {
     "data": {
      "image/png": "[encoded data removed]",
      "text/plain": [
       "<Figure size 432x288 with 1 Axes>"
      ]
     },
     "metadata": {
      "needs_background": "light"
     },
     "output_type": "display_data"
    }
   ],
   "source": [
    "x = np.arange( -5.0, 5.0, 0.1 )\n",
    "y = np.exp( x ) / np.sum( np.exp( x ) )\n",
    "plt.plot( x, y )\n",
    "plt.title( 'softmax function' )\n",
    "\n",
    "plt.show()"
   ]
  },
  {
   "cell_type": "markdown",
   "metadata": {},
   "source": [
    "- 소프트맥스 함수는 시그모이드 함수처럼 출력층의 뉴런에 주로 사용되는데, 시그모이드 함수가 두 가지 선택지 중 하나를 고르는 이진 분류( binary classification )문제에 사용된다면 세 가지 이상의 ( 상호 베타적인 ) 선택지중 하나를 고르는 다중 클래스 분류( multi-class classification ) 문제에 주로 사용된다."
   ]
  },
  {
   "cell_type": "code",
   "execution_count": null,
   "metadata": {},
   "outputs": [],
   "source": []
  },
  {
   "cell_type": "code",
   "execution_count": null,
   "metadata": {},
   "outputs": [],
   "source": []
  }
 ],
 "metadata": {
  "kernelspec": {
   "display_name": "Python 3",
   "language": "python",
   "name": "python3"
  },
  "language_info": {
   "codemirror_mode": {
    "name": "ipython",
    "version": 3
   },
   "file_extension": ".py",
   "mimetype": "text/x-python",
   "name": "python",
   "nbconvert_exporter": "python",
   "pygments_lexer": "ipython3",
   "version": "3.7.7"
  }
 },
 "nbformat": 4,
 "nbformat_minor": 4
}
